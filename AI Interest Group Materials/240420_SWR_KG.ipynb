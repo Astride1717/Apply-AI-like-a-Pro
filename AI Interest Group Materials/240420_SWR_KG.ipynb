{
 "cells": [
  {
   "cell_type": "code",
   "execution_count": 3,
   "id": "aebd1a48-5649-4cf4-b990-b078712575fe",
   "metadata": {
    "collapsed": true,
    "jupyter": {
     "outputs_hidden": true
    },
    "tags": []
   },
   "outputs": [
    {
     "name": "stdout",
     "output_type": "stream",
     "text": [
      "Requirement already satisfied: llama-index==0.9.48 in /Users/lilewill/opt/anaconda3/lib/python3.9/site-packages (0.9.48)\n",
      "Requirement already satisfied: SQLAlchemy>=1.4.49 in /Users/lilewill/opt/anaconda3/lib/python3.9/site-packages (from SQLAlchemy[asyncio]>=1.4.49->llama-index==0.9.48) (2.0.29)\n",
      "Requirement already satisfied: aiohttp<4.0.0,>=3.8.6 in /Users/lilewill/opt/anaconda3/lib/python3.9/site-packages (from llama-index==0.9.48) (3.9.3)\n",
      "Requirement already satisfied: dataclasses-json in /Users/lilewill/opt/anaconda3/lib/python3.9/site-packages (from llama-index==0.9.48) (0.6.4)\n",
      "Requirement already satisfied: deprecated>=1.2.9.3 in /Users/lilewill/opt/anaconda3/lib/python3.9/site-packages (from llama-index==0.9.48) (1.2.14)\n",
      "Requirement already satisfied: dirtyjson<2.0.0,>=1.0.8 in /Users/lilewill/opt/anaconda3/lib/python3.9/site-packages (from llama-index==0.9.48) (1.0.8)\n",
      "Requirement already satisfied: fsspec>=2023.5.0 in /Users/lilewill/opt/anaconda3/lib/python3.9/site-packages (from llama-index==0.9.48) (2024.2.0)\n",
      "Requirement already satisfied: httpx in /Users/lilewill/opt/anaconda3/lib/python3.9/site-packages (from llama-index==0.9.48) (0.27.0)\n",
      "Requirement already satisfied: nest-asyncio<2.0.0,>=1.5.8 in /Users/lilewill/opt/anaconda3/lib/python3.9/site-packages (from llama-index==0.9.48) (1.6.0)\n",
      "Requirement already satisfied: networkx>=3.0 in /Users/lilewill/opt/anaconda3/lib/python3.9/site-packages (from llama-index==0.9.48) (3.2.1)\n",
      "Requirement already satisfied: nltk<4.0.0,>=3.8.1 in /Users/lilewill/opt/anaconda3/lib/python3.9/site-packages (from llama-index==0.9.48) (3.8.1)\n",
      "Requirement already satisfied: numpy in /Users/lilewill/opt/anaconda3/lib/python3.9/site-packages (from llama-index==0.9.48) (1.26.4)\n",
      "Requirement already satisfied: openai>=1.1.0 in /Users/lilewill/opt/anaconda3/lib/python3.9/site-packages (from llama-index==0.9.48) (1.16.2)\n",
      "Requirement already satisfied: pandas in /Users/lilewill/opt/anaconda3/lib/python3.9/site-packages (from llama-index==0.9.48) (1.4.2)\n",
      "Requirement already satisfied: requests>=2.31.0 in /Users/lilewill/opt/anaconda3/lib/python3.9/site-packages (from llama-index==0.9.48) (2.31.0)\n",
      "Requirement already satisfied: tenacity<9.0.0,>=8.2.0 in /Users/lilewill/opt/anaconda3/lib/python3.9/site-packages (from llama-index==0.9.48) (8.2.3)\n",
      "Requirement already satisfied: tiktoken>=0.3.3 in /Users/lilewill/opt/anaconda3/lib/python3.9/site-packages (from llama-index==0.9.48) (0.6.0)\n",
      "Requirement already satisfied: typing-extensions>=4.5.0 in /Users/lilewill/opt/anaconda3/lib/python3.9/site-packages (from llama-index==0.9.48) (4.10.0)\n",
      "Requirement already satisfied: typing-inspect>=0.8.0 in /Users/lilewill/opt/anaconda3/lib/python3.9/site-packages (from llama-index==0.9.48) (0.9.0)\n",
      "Requirement already satisfied: aiosignal>=1.1.2 in /Users/lilewill/opt/anaconda3/lib/python3.9/site-packages (from aiohttp<4.0.0,>=3.8.6->llama-index==0.9.48) (1.2.0)\n",
      "Requirement already satisfied: attrs>=17.3.0 in /Users/lilewill/opt/anaconda3/lib/python3.9/site-packages (from aiohttp<4.0.0,>=3.8.6->llama-index==0.9.48) (21.4.0)\n",
      "Requirement already satisfied: frozenlist>=1.1.1 in /Users/lilewill/opt/anaconda3/lib/python3.9/site-packages (from aiohttp<4.0.0,>=3.8.6->llama-index==0.9.48) (1.2.0)\n",
      "Requirement already satisfied: multidict<7.0,>=4.5 in /Users/lilewill/opt/anaconda3/lib/python3.9/site-packages (from aiohttp<4.0.0,>=3.8.6->llama-index==0.9.48) (5.2.0)\n",
      "Requirement already satisfied: yarl<2.0,>=1.0 in /Users/lilewill/opt/anaconda3/lib/python3.9/site-packages (from aiohttp<4.0.0,>=3.8.6->llama-index==0.9.48) (1.6.3)\n",
      "Requirement already satisfied: async-timeout<5.0,>=4.0 in /Users/lilewill/opt/anaconda3/lib/python3.9/site-packages (from aiohttp<4.0.0,>=3.8.6->llama-index==0.9.48) (4.0.1)\n",
      "Requirement already satisfied: wrapt<2,>=1.10 in /Users/lilewill/opt/anaconda3/lib/python3.9/site-packages (from deprecated>=1.2.9.3->llama-index==0.9.48) (1.12.1)\n",
      "Requirement already satisfied: click in /Users/lilewill/opt/anaconda3/lib/python3.9/site-packages (from nltk<4.0.0,>=3.8.1->llama-index==0.9.48) (8.0.4)\n",
      "Requirement already satisfied: joblib in /Users/lilewill/opt/anaconda3/lib/python3.9/site-packages (from nltk<4.0.0,>=3.8.1->llama-index==0.9.48) (1.1.0)\n",
      "Requirement already satisfied: regex>=2021.8.3 in /Users/lilewill/opt/anaconda3/lib/python3.9/site-packages (from nltk<4.0.0,>=3.8.1->llama-index==0.9.48) (2022.3.15)\n",
      "Requirement already satisfied: tqdm in /Users/lilewill/opt/anaconda3/lib/python3.9/site-packages (from nltk<4.0.0,>=3.8.1->llama-index==0.9.48) (4.66.2)\n",
      "Requirement already satisfied: anyio<5,>=3.5.0 in /Users/lilewill/opt/anaconda3/lib/python3.9/site-packages (from openai>=1.1.0->llama-index==0.9.48) (3.5.0)\n",
      "Requirement already satisfied: distro<2,>=1.7.0 in /Users/lilewill/opt/anaconda3/lib/python3.9/site-packages (from openai>=1.1.0->llama-index==0.9.48) (1.9.0)\n",
      "Requirement already satisfied: pydantic<3,>=1.9.0 in /Users/lilewill/opt/anaconda3/lib/python3.9/site-packages (from openai>=1.1.0->llama-index==0.9.48) (2.6.4)\n",
      "Requirement already satisfied: sniffio in /Users/lilewill/opt/anaconda3/lib/python3.9/site-packages (from openai>=1.1.0->llama-index==0.9.48) (1.2.0)\n",
      "Requirement already satisfied: certifi in /Users/lilewill/opt/anaconda3/lib/python3.9/site-packages (from httpx->llama-index==0.9.48) (2021.10.8)\n",
      "Requirement already satisfied: httpcore==1.* in /Users/lilewill/opt/anaconda3/lib/python3.9/site-packages (from httpx->llama-index==0.9.48) (1.0.4)\n",
      "Requirement already satisfied: idna in /Users/lilewill/opt/anaconda3/lib/python3.9/site-packages (from httpx->llama-index==0.9.48) (3.3)\n",
      "Requirement already satisfied: h11<0.15,>=0.13 in /Users/lilewill/opt/anaconda3/lib/python3.9/site-packages (from httpcore==1.*->httpx->llama-index==0.9.48) (0.14.0)\n",
      "Requirement already satisfied: charset-normalizer<4,>=2 in /Users/lilewill/opt/anaconda3/lib/python3.9/site-packages (from requests>=2.31.0->llama-index==0.9.48) (2.0.4)\n",
      "Requirement already satisfied: urllib3<3,>=1.21.1 in /Users/lilewill/opt/anaconda3/lib/python3.9/site-packages (from requests>=2.31.0->llama-index==0.9.48) (1.26.9)\n",
      "Requirement already satisfied: greenlet!=0.4.17 in /Users/lilewill/opt/anaconda3/lib/python3.9/site-packages (from SQLAlchemy>=1.4.49->SQLAlchemy[asyncio]>=1.4.49->llama-index==0.9.48) (1.1.1)\n",
      "Requirement already satisfied: mypy-extensions>=0.3.0 in /Users/lilewill/opt/anaconda3/lib/python3.9/site-packages (from typing-inspect>=0.8.0->llama-index==0.9.48) (0.4.3)\n",
      "Requirement already satisfied: marshmallow<4.0.0,>=3.18.0 in /Users/lilewill/opt/anaconda3/lib/python3.9/site-packages (from dataclasses-json->llama-index==0.9.48) (3.21.1)\n",
      "Requirement already satisfied: python-dateutil>=2.8.1 in /Users/lilewill/opt/anaconda3/lib/python3.9/site-packages (from pandas->llama-index==0.9.48) (2.8.2)\n",
      "Requirement already satisfied: pytz>=2020.1 in /Users/lilewill/opt/anaconda3/lib/python3.9/site-packages (from pandas->llama-index==0.9.48) (2021.3)\n",
      "Requirement already satisfied: packaging>=17.0 in /Users/lilewill/opt/anaconda3/lib/python3.9/site-packages (from marshmallow<4.0.0,>=3.18.0->dataclasses-json->llama-index==0.9.48) (23.2)\n",
      "Requirement already satisfied: annotated-types>=0.4.0 in /Users/lilewill/opt/anaconda3/lib/python3.9/site-packages (from pydantic<3,>=1.9.0->openai>=1.1.0->llama-index==0.9.48) (0.6.0)\n",
      "Requirement already satisfied: pydantic-core==2.16.3 in /Users/lilewill/opt/anaconda3/lib/python3.9/site-packages (from pydantic<3,>=1.9.0->openai>=1.1.0->llama-index==0.9.48) (2.16.3)\n",
      "Requirement already satisfied: six>=1.5 in /Users/lilewill/opt/anaconda3/lib/python3.9/site-packages (from python-dateutil>=2.8.1->pandas->llama-index==0.9.48) (1.16.0)\n",
      "Requirement already satisfied: transformers in /Users/lilewill/opt/anaconda3/lib/python3.9/site-packages (4.36.2)\n",
      "Requirement already satisfied: filelock in /Users/lilewill/opt/anaconda3/lib/python3.9/site-packages (from transformers) (3.6.0)\n",
      "Requirement already satisfied: huggingface-hub<1.0,>=0.19.3 in /Users/lilewill/opt/anaconda3/lib/python3.9/site-packages (from transformers) (0.22.2)\n",
      "Requirement already satisfied: numpy>=1.17 in /Users/lilewill/opt/anaconda3/lib/python3.9/site-packages (from transformers) (1.26.4)\n",
      "Requirement already satisfied: packaging>=20.0 in /Users/lilewill/opt/anaconda3/lib/python3.9/site-packages (from transformers) (23.2)\n",
      "Requirement already satisfied: pyyaml>=5.1 in /Users/lilewill/opt/anaconda3/lib/python3.9/site-packages (from transformers) (6.0.1)\n",
      "Requirement already satisfied: regex!=2019.12.17 in /Users/lilewill/opt/anaconda3/lib/python3.9/site-packages (from transformers) (2022.3.15)\n",
      "Requirement already satisfied: requests in /Users/lilewill/opt/anaconda3/lib/python3.9/site-packages (from transformers) (2.31.0)\n",
      "Requirement already satisfied: tokenizers<0.19,>=0.14 in /Users/lilewill/opt/anaconda3/lib/python3.9/site-packages (from transformers) (0.15.2)\n",
      "Requirement already satisfied: safetensors>=0.3.1 in /Users/lilewill/opt/anaconda3/lib/python3.9/site-packages (from transformers) (0.4.2)\n",
      "Requirement already satisfied: tqdm>=4.27 in /Users/lilewill/opt/anaconda3/lib/python3.9/site-packages (from transformers) (4.66.2)\n",
      "Requirement already satisfied: fsspec>=2023.5.0 in /Users/lilewill/opt/anaconda3/lib/python3.9/site-packages (from huggingface-hub<1.0,>=0.19.3->transformers) (2024.2.0)\n",
      "Requirement already satisfied: typing-extensions>=3.7.4.3 in /Users/lilewill/opt/anaconda3/lib/python3.9/site-packages (from huggingface-hub<1.0,>=0.19.3->transformers) (4.10.0)\n",
      "Requirement already satisfied: charset-normalizer<4,>=2 in /Users/lilewill/opt/anaconda3/lib/python3.9/site-packages (from requests->transformers) (2.0.4)\n",
      "Requirement already satisfied: idna<4,>=2.5 in /Users/lilewill/opt/anaconda3/lib/python3.9/site-packages (from requests->transformers) (3.3)\n",
      "Requirement already satisfied: urllib3<3,>=1.21.1 in /Users/lilewill/opt/anaconda3/lib/python3.9/site-packages (from requests->transformers) (1.26.9)\n",
      "Requirement already satisfied: certifi>=2017.4.17 in /Users/lilewill/opt/anaconda3/lib/python3.9/site-packages (from requests->transformers) (2021.10.8)\n",
      "Requirement already satisfied: torch in /Users/lilewill/opt/anaconda3/lib/python3.9/site-packages (2.2.2)\n",
      "Requirement already satisfied: sentence-transformers in /Users/lilewill/opt/anaconda3/lib/python3.9/site-packages (2.6.1)\n",
      "Requirement already satisfied: filelock in /Users/lilewill/opt/anaconda3/lib/python3.9/site-packages (from torch) (3.6.0)\n",
      "Requirement already satisfied: typing-extensions>=4.8.0 in /Users/lilewill/opt/anaconda3/lib/python3.9/site-packages (from torch) (4.10.0)\n",
      "Requirement already satisfied: sympy in /Users/lilewill/opt/anaconda3/lib/python3.9/site-packages (from torch) (1.10.1)\n",
      "Requirement already satisfied: networkx in /Users/lilewill/opt/anaconda3/lib/python3.9/site-packages (from torch) (3.2.1)\n",
      "Requirement already satisfied: jinja2 in /Users/lilewill/opt/anaconda3/lib/python3.9/site-packages (from torch) (2.11.3)\n",
      "Requirement already satisfied: fsspec in /Users/lilewill/opt/anaconda3/lib/python3.9/site-packages (from torch) (2024.2.0)\n",
      "Requirement already satisfied: transformers<5.0.0,>=4.32.0 in /Users/lilewill/opt/anaconda3/lib/python3.9/site-packages (from sentence-transformers) (4.36.2)\n",
      "Requirement already satisfied: tqdm in /Users/lilewill/opt/anaconda3/lib/python3.9/site-packages (from sentence-transformers) (4.66.2)\n",
      "Requirement already satisfied: numpy in /Users/lilewill/opt/anaconda3/lib/python3.9/site-packages (from sentence-transformers) (1.26.4)\n",
      "Requirement already satisfied: scikit-learn in /Users/lilewill/opt/anaconda3/lib/python3.9/site-packages (from sentence-transformers) (1.0.2)\n",
      "Requirement already satisfied: scipy in /Users/lilewill/opt/anaconda3/lib/python3.9/site-packages (from sentence-transformers) (1.7.3)\n",
      "Requirement already satisfied: huggingface-hub>=0.15.1 in /Users/lilewill/opt/anaconda3/lib/python3.9/site-packages (from sentence-transformers) (0.22.2)\n",
      "Requirement already satisfied: Pillow in /Users/lilewill/opt/anaconda3/lib/python3.9/site-packages (from sentence-transformers) (9.0.1)\n",
      "Requirement already satisfied: packaging>=20.9 in /Users/lilewill/opt/anaconda3/lib/python3.9/site-packages (from huggingface-hub>=0.15.1->sentence-transformers) (23.2)\n",
      "Requirement already satisfied: pyyaml>=5.1 in /Users/lilewill/opt/anaconda3/lib/python3.9/site-packages (from huggingface-hub>=0.15.1->sentence-transformers) (6.0.1)\n",
      "Requirement already satisfied: requests in /Users/lilewill/opt/anaconda3/lib/python3.9/site-packages (from huggingface-hub>=0.15.1->sentence-transformers) (2.31.0)\n",
      "Requirement already satisfied: regex!=2019.12.17 in /Users/lilewill/opt/anaconda3/lib/python3.9/site-packages (from transformers<5.0.0,>=4.32.0->sentence-transformers) (2022.3.15)\n",
      "Requirement already satisfied: tokenizers<0.19,>=0.14 in /Users/lilewill/opt/anaconda3/lib/python3.9/site-packages (from transformers<5.0.0,>=4.32.0->sentence-transformers) (0.15.2)\n",
      "Requirement already satisfied: safetensors>=0.3.1 in /Users/lilewill/opt/anaconda3/lib/python3.9/site-packages (from transformers<5.0.0,>=4.32.0->sentence-transformers) (0.4.2)\n",
      "Requirement already satisfied: MarkupSafe>=0.23 in /Users/lilewill/opt/anaconda3/lib/python3.9/site-packages (from jinja2->torch) (2.0.1)\n",
      "Requirement already satisfied: joblib>=0.11 in /Users/lilewill/opt/anaconda3/lib/python3.9/site-packages (from scikit-learn->sentence-transformers) (1.1.0)\n",
      "Requirement already satisfied: threadpoolctl>=2.0.0 in /Users/lilewill/opt/anaconda3/lib/python3.9/site-packages (from scikit-learn->sentence-transformers) (2.2.0)\n",
      "Collecting numpy (from sentence-transformers)\n",
      "  Using cached numpy-1.22.4-cp39-cp39-macosx_10_15_x86_64.whl.metadata (2.0 kB)\n",
      "Requirement already satisfied: mpmath>=0.19 in /Users/lilewill/opt/anaconda3/lib/python3.9/site-packages (from sympy->torch) (1.2.1)\n",
      "Requirement already satisfied: charset-normalizer<4,>=2 in /Users/lilewill/opt/anaconda3/lib/python3.9/site-packages (from requests->huggingface-hub>=0.15.1->sentence-transformers) (2.0.4)\n",
      "Requirement already satisfied: idna<4,>=2.5 in /Users/lilewill/opt/anaconda3/lib/python3.9/site-packages (from requests->huggingface-hub>=0.15.1->sentence-transformers) (3.3)\n",
      "Requirement already satisfied: urllib3<3,>=1.21.1 in /Users/lilewill/opt/anaconda3/lib/python3.9/site-packages (from requests->huggingface-hub>=0.15.1->sentence-transformers) (1.26.9)\n",
      "Requirement already satisfied: certifi>=2017.4.17 in /Users/lilewill/opt/anaconda3/lib/python3.9/site-packages (from requests->huggingface-hub>=0.15.1->sentence-transformers) (2021.10.8)\n",
      "Using cached numpy-1.22.4-cp39-cp39-macosx_10_15_x86_64.whl (17.7 MB)\n",
      "Installing collected packages: numpy\n",
      "  Attempting uninstall: numpy\n",
      "    Found existing installation: numpy 1.26.4\n",
      "    Uninstalling numpy-1.26.4:\n",
      "      Successfully uninstalled numpy-1.26.4\n",
      "\u001b[31mERROR: pip's dependency resolver does not currently take into account all the packages that are installed. This behaviour is the source of the following dependency conflicts.\n",
      "daal4py 2021.5.0 requires daal==2021.4.0, which is not installed.\n",
      "numba 0.55.1 requires numpy<1.22,>=1.18, but you have numpy 1.22.4 which is incompatible.\n",
      "trulens-eval 0.27.2 requires numpy>=1.23.5, but you have numpy 1.22.4 which is incompatible.\u001b[0m\u001b[31m\n",
      "\u001b[0mSuccessfully installed numpy-1.22.4\n",
      "Requirement already satisfied: pyvis in /Users/lilewill/opt/anaconda3/lib/python3.9/site-packages (0.3.2)\n",
      "Requirement already satisfied: ipython>=5.3.0 in /Users/lilewill/opt/anaconda3/lib/python3.9/site-packages (from pyvis) (8.2.0)\n",
      "Requirement already satisfied: jinja2>=2.9.6 in /Users/lilewill/opt/anaconda3/lib/python3.9/site-packages (from pyvis) (2.11.3)\n",
      "Requirement already satisfied: jsonpickle>=1.4.1 in /Users/lilewill/opt/anaconda3/lib/python3.9/site-packages (from pyvis) (3.0.4)\n",
      "Requirement already satisfied: networkx>=1.11 in /Users/lilewill/opt/anaconda3/lib/python3.9/site-packages (from pyvis) (3.2.1)\n",
      "Requirement already satisfied: backcall in /Users/lilewill/opt/anaconda3/lib/python3.9/site-packages (from ipython>=5.3.0->pyvis) (0.2.0)\n",
      "Requirement already satisfied: decorator in /Users/lilewill/opt/anaconda3/lib/python3.9/site-packages (from ipython>=5.3.0->pyvis) (5.1.1)\n",
      "Requirement already satisfied: jedi>=0.16 in /Users/lilewill/opt/anaconda3/lib/python3.9/site-packages (from ipython>=5.3.0->pyvis) (0.18.1)\n",
      "Requirement already satisfied: matplotlib-inline in /Users/lilewill/opt/anaconda3/lib/python3.9/site-packages (from ipython>=5.3.0->pyvis) (0.1.2)\n",
      "Requirement already satisfied: pickleshare in /Users/lilewill/opt/anaconda3/lib/python3.9/site-packages (from ipython>=5.3.0->pyvis) (0.7.5)\n",
      "Requirement already satisfied: prompt-toolkit!=3.0.0,!=3.0.1,<3.1.0,>=2.0.0 in /Users/lilewill/opt/anaconda3/lib/python3.9/site-packages (from ipython>=5.3.0->pyvis) (3.0.20)\n",
      "Requirement already satisfied: pygments>=2.4.0 in /Users/lilewill/opt/anaconda3/lib/python3.9/site-packages (from ipython>=5.3.0->pyvis) (2.17.2)\n",
      "Requirement already satisfied: setuptools>=18.5 in /Users/lilewill/opt/anaconda3/lib/python3.9/site-packages (from ipython>=5.3.0->pyvis) (61.2.0)\n",
      "Requirement already satisfied: stack-data in /Users/lilewill/opt/anaconda3/lib/python3.9/site-packages (from ipython>=5.3.0->pyvis) (0.2.0)\n",
      "Requirement already satisfied: traitlets>=5 in /Users/lilewill/opt/anaconda3/lib/python3.9/site-packages (from ipython>=5.3.0->pyvis) (5.1.1)\n",
      "Requirement already satisfied: pexpect>4.3 in /Users/lilewill/opt/anaconda3/lib/python3.9/site-packages (from ipython>=5.3.0->pyvis) (4.8.0)\n",
      "Requirement already satisfied: appnope in /Users/lilewill/opt/anaconda3/lib/python3.9/site-packages (from ipython>=5.3.0->pyvis) (0.1.2)\n",
      "Requirement already satisfied: MarkupSafe>=0.23 in /Users/lilewill/opt/anaconda3/lib/python3.9/site-packages (from jinja2>=2.9.6->pyvis) (2.0.1)\n",
      "Requirement already satisfied: parso<0.9.0,>=0.8.0 in /Users/lilewill/opt/anaconda3/lib/python3.9/site-packages (from jedi>=0.16->ipython>=5.3.0->pyvis) (0.8.3)\n",
      "Requirement already satisfied: ptyprocess>=0.5 in /Users/lilewill/opt/anaconda3/lib/python3.9/site-packages (from pexpect>4.3->ipython>=5.3.0->pyvis) (0.7.0)\n",
      "Requirement already satisfied: wcwidth in /Users/lilewill/opt/anaconda3/lib/python3.9/site-packages (from prompt-toolkit!=3.0.0,!=3.0.1,<3.1.0,>=2.0.0->ipython>=5.3.0->pyvis) (0.2.5)\n",
      "Requirement already satisfied: executing in /Users/lilewill/opt/anaconda3/lib/python3.9/site-packages (from stack-data->ipython>=5.3.0->pyvis) (0.8.3)\n",
      "Requirement already satisfied: asttokens in /Users/lilewill/opt/anaconda3/lib/python3.9/site-packages (from stack-data->ipython>=5.3.0->pyvis) (2.0.5)\n",
      "Requirement already satisfied: pure-eval in /Users/lilewill/opt/anaconda3/lib/python3.9/site-packages (from stack-data->ipython>=5.3.0->pyvis) (0.2.2)\n",
      "Requirement already satisfied: six in /Users/lilewill/opt/anaconda3/lib/python3.9/site-packages (from asttokens->stack-data->ipython>=5.3.0->pyvis) (1.16.0)\n"
     ]
    }
   ],
   "source": [
    "!pip install llama-index==0.9.48 \n",
    "!pip install transformers\n",
    "!pip install torch sentence-transformers\n",
    "!pip install pyvis\n",
    "import os\n",
    "from llama_index.llms import OpenAI\n",
    "from llama_index.vector_stores.qdrant import QdrantVectorStore\n",
    "from llama_index import ServiceContext, VectorStoreIndex, StorageContext\n",
    "from llama_index.node_parser import SentenceWindowNodeParser\n",
    "import pandas as pd\n",
    "pd.set_option(\"display.max_colwidth\", None)"
   ]
  },
  {
   "cell_type": "code",
   "execution_count": 4,
   "id": "99fb1d61-677e-475f-92fa-c11913b7fed4",
   "metadata": {},
   "outputs": [],
   "source": [
    "from openai import OpenAI\n",
    "import httpx\n",
    "os.environ[\"OPENAI_API_BASE\"] = 'https://api.xty.app/v1'\n",
    "os.environ[\"OPENAI_API_KEY\"] = 'sk-x'"
   ]
  },
  {
   "cell_type": "code",
   "execution_count": 5,
   "id": "05f6efd8-dcd8-451e-9e64-7e6769cfa8cb",
   "metadata": {},
   "outputs": [],
   "source": [
    "# Load the text\n",
    "from llama_index import SimpleDirectoryReader\n",
    "documents = SimpleDirectoryReader(\n",
    "    input_files=[\"peter_pan.txt\"]\n",
    ").load_data()"
   ]
  },
  {
   "cell_type": "code",
   "execution_count": 4,
   "id": "31cd6929-1b4b-4247-9078-80f3413875c3",
   "metadata": {},
   "outputs": [],
   "source": [
    "from llama_index.node_parser import SentenceWindowNodeParser\n",
    "\n",
    "# Create the sentence window node parser\n",
    "# Set the retrieval granularity\n",
    "node_parser = SentenceWindowNodeParser.from_defaults(\n",
    "    window_size=3,\n",
    "    window_metadata_key=\"window\",\n",
    "    original_text_metadata_key=\"original_text\",\n",
    ")"
   ]
  },
  {
   "cell_type": "code",
   "execution_count": 8,
   "id": "c86d9c91-9700-43e8-8f4c-e8f6b9aca928",
   "metadata": {
    "tags": []
   },
   "outputs": [],
   "source": [
    "from llama_index.llms import OpenAI\n",
    "llm = OpenAI(model=\"gpt-4\", temperature=0.1)"
   ]
  },
  {
   "cell_type": "code",
   "execution_count": 1,
   "id": "4157672b-fbd0-41c4-a07f-9e97e83aac25",
   "metadata": {
    "collapsed": true,
    "jupyter": {
     "outputs_hidden": true
    },
    "tags": []
   },
   "outputs": [
    {
     "name": "stdout",
     "output_type": "stream",
     "text": [
      "Requirement already satisfied: langchain-openai in /Users/lilewill/opt/anaconda3/lib/python3.9/site-packages (0.1.2)\n",
      "Collecting langchain-openai\n",
      "  Downloading langchain_openai-0.1.3-py3-none-any.whl.metadata (2.5 kB)\n",
      "Collecting langchain-core<0.2.0,>=0.1.42 (from langchain-openai)\n",
      "  Downloading langchain_core-0.1.45-py3-none-any.whl.metadata (5.9 kB)\n",
      "Requirement already satisfied: openai<2.0.0,>=1.10.0 in /Users/lilewill/opt/anaconda3/lib/python3.9/site-packages (from langchain-openai) (1.16.2)\n",
      "Requirement already satisfied: tiktoken<1,>=0.5.2 in /Users/lilewill/opt/anaconda3/lib/python3.9/site-packages (from langchain-openai) (0.6.0)\n",
      "Requirement already satisfied: PyYAML>=5.3 in /Users/lilewill/opt/anaconda3/lib/python3.9/site-packages (from langchain-core<0.2.0,>=0.1.42->langchain-openai) (6.0.1)\n",
      "Requirement already satisfied: jsonpatch<2.0,>=1.33 in /Users/lilewill/opt/anaconda3/lib/python3.9/site-packages (from langchain-core<0.2.0,>=0.1.42->langchain-openai) (1.33)\n",
      "Requirement already satisfied: langsmith<0.2.0,>=0.1.0 in /Users/lilewill/opt/anaconda3/lib/python3.9/site-packages (from langchain-core<0.2.0,>=0.1.42->langchain-openai) (0.1.31)\n",
      "Requirement already satisfied: packaging<24.0,>=23.2 in /Users/lilewill/opt/anaconda3/lib/python3.9/site-packages (from langchain-core<0.2.0,>=0.1.42->langchain-openai) (23.2)\n",
      "Requirement already satisfied: pydantic<3,>=1 in /Users/lilewill/opt/anaconda3/lib/python3.9/site-packages (from langchain-core<0.2.0,>=0.1.42->langchain-openai) (2.6.4)\n",
      "Requirement already satisfied: tenacity<9.0.0,>=8.1.0 in /Users/lilewill/opt/anaconda3/lib/python3.9/site-packages (from langchain-core<0.2.0,>=0.1.42->langchain-openai) (8.2.3)\n",
      "Requirement already satisfied: anyio<5,>=3.5.0 in /Users/lilewill/opt/anaconda3/lib/python3.9/site-packages (from openai<2.0.0,>=1.10.0->langchain-openai) (3.5.0)\n",
      "Requirement already satisfied: distro<2,>=1.7.0 in /Users/lilewill/opt/anaconda3/lib/python3.9/site-packages (from openai<2.0.0,>=1.10.0->langchain-openai) (1.9.0)\n",
      "Requirement already satisfied: httpx<1,>=0.23.0 in /Users/lilewill/opt/anaconda3/lib/python3.9/site-packages (from openai<2.0.0,>=1.10.0->langchain-openai) (0.27.0)\n",
      "Requirement already satisfied: sniffio in /Users/lilewill/opt/anaconda3/lib/python3.9/site-packages (from openai<2.0.0,>=1.10.0->langchain-openai) (1.2.0)\n",
      "Requirement already satisfied: tqdm>4 in /Users/lilewill/opt/anaconda3/lib/python3.9/site-packages (from openai<2.0.0,>=1.10.0->langchain-openai) (4.66.2)\n",
      "Requirement already satisfied: typing-extensions<5,>=4.7 in /Users/lilewill/opt/anaconda3/lib/python3.9/site-packages (from openai<2.0.0,>=1.10.0->langchain-openai) (4.10.0)\n",
      "Requirement already satisfied: regex>=2022.1.18 in /Users/lilewill/opt/anaconda3/lib/python3.9/site-packages (from tiktoken<1,>=0.5.2->langchain-openai) (2022.3.15)\n",
      "Requirement already satisfied: requests>=2.26.0 in /Users/lilewill/opt/anaconda3/lib/python3.9/site-packages (from tiktoken<1,>=0.5.2->langchain-openai) (2.31.0)\n",
      "Requirement already satisfied: idna>=2.8 in /Users/lilewill/opt/anaconda3/lib/python3.9/site-packages (from anyio<5,>=3.5.0->openai<2.0.0,>=1.10.0->langchain-openai) (3.3)\n",
      "Requirement already satisfied: certifi in /Users/lilewill/opt/anaconda3/lib/python3.9/site-packages (from httpx<1,>=0.23.0->openai<2.0.0,>=1.10.0->langchain-openai) (2021.10.8)\n",
      "Requirement already satisfied: httpcore==1.* in /Users/lilewill/opt/anaconda3/lib/python3.9/site-packages (from httpx<1,>=0.23.0->openai<2.0.0,>=1.10.0->langchain-openai) (1.0.4)\n",
      "Requirement already satisfied: h11<0.15,>=0.13 in /Users/lilewill/opt/anaconda3/lib/python3.9/site-packages (from httpcore==1.*->httpx<1,>=0.23.0->openai<2.0.0,>=1.10.0->langchain-openai) (0.14.0)\n",
      "Requirement already satisfied: jsonpointer>=1.9 in /Users/lilewill/opt/anaconda3/lib/python3.9/site-packages (from jsonpatch<2.0,>=1.33->langchain-core<0.2.0,>=0.1.42->langchain-openai) (2.1)\n",
      "Requirement already satisfied: orjson<4.0.0,>=3.9.14 in /Users/lilewill/opt/anaconda3/lib/python3.9/site-packages (from langsmith<0.2.0,>=0.1.0->langchain-core<0.2.0,>=0.1.42->langchain-openai) (3.9.15)\n",
      "Requirement already satisfied: annotated-types>=0.4.0 in /Users/lilewill/opt/anaconda3/lib/python3.9/site-packages (from pydantic<3,>=1->langchain-core<0.2.0,>=0.1.42->langchain-openai) (0.6.0)\n",
      "Requirement already satisfied: pydantic-core==2.16.3 in /Users/lilewill/opt/anaconda3/lib/python3.9/site-packages (from pydantic<3,>=1->langchain-core<0.2.0,>=0.1.42->langchain-openai) (2.16.3)\n",
      "Requirement already satisfied: charset-normalizer<4,>=2 in /Users/lilewill/opt/anaconda3/lib/python3.9/site-packages (from requests>=2.26.0->tiktoken<1,>=0.5.2->langchain-openai) (2.0.4)\n",
      "Requirement already satisfied: urllib3<3,>=1.21.1 in /Users/lilewill/opt/anaconda3/lib/python3.9/site-packages (from requests>=2.26.0->tiktoken<1,>=0.5.2->langchain-openai) (1.26.9)\n",
      "Downloading langchain_openai-0.1.3-py3-none-any.whl (33 kB)\n",
      "Downloading langchain_core-0.1.45-py3-none-any.whl (291 kB)\n",
      "\u001b[2K   \u001b[91m━\u001b[0m\u001b[90m╺\u001b[0m\u001b[90m━━━━━━━━━━━━━━━━━━━━━━━━━━━━━━━━━━━━━━\u001b[0m \u001b[32m10.2/291.3 kB\u001b[0m \u001b[31m?\u001b[0m eta \u001b[36m-:--:--\u001b[0m\n",
      "\u001b[?25h\u001b[31mERROR: Exception:\n",
      "Traceback (most recent call last):\n",
      "  File \"/Users/lilewill/opt/anaconda3/lib/python3.9/site-packages/pip/_vendor/urllib3/response.py\", line 438, in _error_catcher\n",
      "    yield\n",
      "  File \"/Users/lilewill/opt/anaconda3/lib/python3.9/site-packages/pip/_vendor/urllib3/response.py\", line 561, in read\n",
      "    data = self._fp_read(amt) if not fp_closed else b\"\"\n",
      "  File \"/Users/lilewill/opt/anaconda3/lib/python3.9/site-packages/pip/_vendor/urllib3/response.py\", line 527, in _fp_read\n",
      "    return self._fp.read(amt) if amt is not None else self._fp.read()\n",
      "  File \"/Users/lilewill/opt/anaconda3/lib/python3.9/site-packages/pip/_vendor/cachecontrol/filewrapper.py\", line 98, in read\n",
      "    data: bytes = self.__fp.read(amt)\n",
      "  File \"/Users/lilewill/opt/anaconda3/lib/python3.9/http/client.py\", line 463, in read\n",
      "    n = self.readinto(b)\n",
      "  File \"/Users/lilewill/opt/anaconda3/lib/python3.9/http/client.py\", line 507, in readinto\n",
      "    n = self.fp.readinto(b)\n",
      "  File \"/Users/lilewill/opt/anaconda3/lib/python3.9/socket.py\", line 704, in readinto\n",
      "    return self._sock.recv_into(b)\n",
      "  File \"/Users/lilewill/opt/anaconda3/lib/python3.9/ssl.py\", line 1241, in recv_into\n",
      "    return self.read(nbytes, buffer)\n",
      "  File \"/Users/lilewill/opt/anaconda3/lib/python3.9/ssl.py\", line 1099, in read\n",
      "    return self._sslobj.read(len, buffer)\n",
      "socket.timeout: The read operation timed out\n",
      "\n",
      "During handling of the above exception, another exception occurred:\n",
      "\n",
      "Traceback (most recent call last):\n",
      "  File \"/Users/lilewill/opt/anaconda3/lib/python3.9/site-packages/pip/_internal/cli/base_command.py\", line 180, in exc_logging_wrapper\n",
      "    status = run_func(*args)\n",
      "  File \"/Users/lilewill/opt/anaconda3/lib/python3.9/site-packages/pip/_internal/cli/req_command.py\", line 245, in wrapper\n",
      "    return func(self, options, args)\n",
      "  File \"/Users/lilewill/opt/anaconda3/lib/python3.9/site-packages/pip/_internal/commands/install.py\", line 377, in run\n",
      "    requirement_set = resolver.resolve(\n",
      "  File \"/Users/lilewill/opt/anaconda3/lib/python3.9/site-packages/pip/_internal/resolution/resolvelib/resolver.py\", line 179, in resolve\n",
      "    self.factory.preparer.prepare_linked_requirements_more(reqs)\n",
      "  File \"/Users/lilewill/opt/anaconda3/lib/python3.9/site-packages/pip/_internal/operations/prepare.py\", line 552, in prepare_linked_requirements_more\n",
      "    self._complete_partial_requirements(\n",
      "  File \"/Users/lilewill/opt/anaconda3/lib/python3.9/site-packages/pip/_internal/operations/prepare.py\", line 467, in _complete_partial_requirements\n",
      "    for link, (filepath, _) in batch_download:\n",
      "  File \"/Users/lilewill/opt/anaconda3/lib/python3.9/site-packages/pip/_internal/network/download.py\", line 183, in __call__\n",
      "    for chunk in chunks:\n",
      "  File \"/Users/lilewill/opt/anaconda3/lib/python3.9/site-packages/pip/_internal/cli/progress_bars.py\", line 53, in _rich_progress_bar\n",
      "    for chunk in iterable:\n",
      "  File \"/Users/lilewill/opt/anaconda3/lib/python3.9/site-packages/pip/_internal/network/utils.py\", line 63, in response_chunks\n",
      "    for chunk in response.raw.stream(\n",
      "  File \"/Users/lilewill/opt/anaconda3/lib/python3.9/site-packages/pip/_vendor/urllib3/response.py\", line 622, in stream\n",
      "    data = self.read(amt=amt, decode_content=decode_content)\n",
      "  File \"/Users/lilewill/opt/anaconda3/lib/python3.9/site-packages/pip/_vendor/urllib3/response.py\", line 587, in read\n",
      "    raise IncompleteRead(self._fp_bytes_read, self.length_remaining)\n",
      "  File \"/Users/lilewill/opt/anaconda3/lib/python3.9/contextlib.py\", line 137, in __exit__\n",
      "    self.gen.throw(typ, value, traceback)\n",
      "  File \"/Users/lilewill/opt/anaconda3/lib/python3.9/site-packages/pip/_vendor/urllib3/response.py\", line 443, in _error_catcher\n",
      "    raise ReadTimeoutError(self._pool, None, \"Read timed out.\")\n",
      "pip._vendor.urllib3.exceptions.ReadTimeoutError: HTTPSConnectionPool(host='files.pythonhosted.org', port=443): Read timed out.\u001b[0m\u001b[31m\n",
      "\u001b[0m\n",
      "Usage:   \n",
      "  pip install [options] <requirement specifier> [package-index-options] ...\n",
      "  pip install [options] -r <requirements file> [package-index-options] ...\n",
      "  pip install [options] [-e] <vcs project url> ...\n",
      "  pip install [options] [-e] <local project path> ...\n",
      "  pip install [options] <archive url/path> ...\n",
      "\n",
      "no such option: -y\n",
      "Requirement already satisfied: langchain_experimental in /Users/lilewill/opt/anaconda3/lib/python3.9/site-packages (0.0.57)\n",
      "Requirement already satisfied: langchain<0.2.0,>=0.1.15 in /Users/lilewill/opt/anaconda3/lib/python3.9/site-packages (from langchain_experimental) (0.1.15)\n",
      "Requirement already satisfied: langchain-core<0.2.0,>=0.1.41 in /Users/lilewill/opt/anaconda3/lib/python3.9/site-packages (from langchain_experimental) (0.1.41)\n",
      "Requirement already satisfied: PyYAML>=5.3 in /Users/lilewill/opt/anaconda3/lib/python3.9/site-packages (from langchain<0.2.0,>=0.1.15->langchain_experimental) (6.0.1)\n",
      "Requirement already satisfied: SQLAlchemy<3,>=1.4 in /Users/lilewill/opt/anaconda3/lib/python3.9/site-packages (from langchain<0.2.0,>=0.1.15->langchain_experimental) (2.0.29)\n",
      "Requirement already satisfied: aiohttp<4.0.0,>=3.8.3 in /Users/lilewill/opt/anaconda3/lib/python3.9/site-packages (from langchain<0.2.0,>=0.1.15->langchain_experimental) (3.9.3)\n",
      "Requirement already satisfied: async-timeout<5.0.0,>=4.0.0 in /Users/lilewill/opt/anaconda3/lib/python3.9/site-packages (from langchain<0.2.0,>=0.1.15->langchain_experimental) (4.0.1)\n",
      "Requirement already satisfied: dataclasses-json<0.7,>=0.5.7 in /Users/lilewill/opt/anaconda3/lib/python3.9/site-packages (from langchain<0.2.0,>=0.1.15->langchain_experimental) (0.6.4)\n",
      "Requirement already satisfied: jsonpatch<2.0,>=1.33 in /Users/lilewill/opt/anaconda3/lib/python3.9/site-packages (from langchain<0.2.0,>=0.1.15->langchain_experimental) (1.33)\n",
      "Requirement already satisfied: langchain-community<0.1,>=0.0.32 in /Users/lilewill/opt/anaconda3/lib/python3.9/site-packages (from langchain<0.2.0,>=0.1.15->langchain_experimental) (0.0.32)\n",
      "Requirement already satisfied: langchain-text-splitters<0.1,>=0.0.1 in /Users/lilewill/opt/anaconda3/lib/python3.9/site-packages (from langchain<0.2.0,>=0.1.15->langchain_experimental) (0.0.1)\n",
      "Requirement already satisfied: langsmith<0.2.0,>=0.1.17 in /Users/lilewill/opt/anaconda3/lib/python3.9/site-packages (from langchain<0.2.0,>=0.1.15->langchain_experimental) (0.1.31)\n",
      "Requirement already satisfied: numpy<2,>=1 in /Users/lilewill/opt/anaconda3/lib/python3.9/site-packages (from langchain<0.2.0,>=0.1.15->langchain_experimental) (1.26.4)\n",
      "Requirement already satisfied: pydantic<3,>=1 in /Users/lilewill/opt/anaconda3/lib/python3.9/site-packages (from langchain<0.2.0,>=0.1.15->langchain_experimental) (2.6.4)\n",
      "Requirement already satisfied: requests<3,>=2 in /Users/lilewill/opt/anaconda3/lib/python3.9/site-packages (from langchain<0.2.0,>=0.1.15->langchain_experimental) (2.31.0)\n",
      "Requirement already satisfied: tenacity<9.0.0,>=8.1.0 in /Users/lilewill/opt/anaconda3/lib/python3.9/site-packages (from langchain<0.2.0,>=0.1.15->langchain_experimental) (8.2.3)\n",
      "Requirement already satisfied: packaging<24.0,>=23.2 in /Users/lilewill/opt/anaconda3/lib/python3.9/site-packages (from langchain-core<0.2.0,>=0.1.41->langchain_experimental) (23.2)\n",
      "Requirement already satisfied: aiosignal>=1.1.2 in /Users/lilewill/opt/anaconda3/lib/python3.9/site-packages (from aiohttp<4.0.0,>=3.8.3->langchain<0.2.0,>=0.1.15->langchain_experimental) (1.2.0)\n",
      "Requirement already satisfied: attrs>=17.3.0 in /Users/lilewill/opt/anaconda3/lib/python3.9/site-packages (from aiohttp<4.0.0,>=3.8.3->langchain<0.2.0,>=0.1.15->langchain_experimental) (21.4.0)\n",
      "Requirement already satisfied: frozenlist>=1.1.1 in /Users/lilewill/opt/anaconda3/lib/python3.9/site-packages (from aiohttp<4.0.0,>=3.8.3->langchain<0.2.0,>=0.1.15->langchain_experimental) (1.2.0)\n",
      "Requirement already satisfied: multidict<7.0,>=4.5 in /Users/lilewill/opt/anaconda3/lib/python3.9/site-packages (from aiohttp<4.0.0,>=3.8.3->langchain<0.2.0,>=0.1.15->langchain_experimental) (5.2.0)\n",
      "Requirement already satisfied: yarl<2.0,>=1.0 in /Users/lilewill/opt/anaconda3/lib/python3.9/site-packages (from aiohttp<4.0.0,>=3.8.3->langchain<0.2.0,>=0.1.15->langchain_experimental) (1.6.3)\n",
      "Requirement already satisfied: typing-extensions>=3.6.5 in /Users/lilewill/opt/anaconda3/lib/python3.9/site-packages (from async-timeout<5.0.0,>=4.0.0->langchain<0.2.0,>=0.1.15->langchain_experimental) (4.10.0)\n",
      "Requirement already satisfied: marshmallow<4.0.0,>=3.18.0 in /Users/lilewill/opt/anaconda3/lib/python3.9/site-packages (from dataclasses-json<0.7,>=0.5.7->langchain<0.2.0,>=0.1.15->langchain_experimental) (3.21.1)\n",
      "Requirement already satisfied: typing-inspect<1,>=0.4.0 in /Users/lilewill/opt/anaconda3/lib/python3.9/site-packages (from dataclasses-json<0.7,>=0.5.7->langchain<0.2.0,>=0.1.15->langchain_experimental) (0.9.0)\n",
      "Requirement already satisfied: jsonpointer>=1.9 in /Users/lilewill/opt/anaconda3/lib/python3.9/site-packages (from jsonpatch<2.0,>=1.33->langchain<0.2.0,>=0.1.15->langchain_experimental) (2.1)\n",
      "Requirement already satisfied: orjson<4.0.0,>=3.9.14 in /Users/lilewill/opt/anaconda3/lib/python3.9/site-packages (from langsmith<0.2.0,>=0.1.17->langchain<0.2.0,>=0.1.15->langchain_experimental) (3.9.15)\n",
      "Requirement already satisfied: annotated-types>=0.4.0 in /Users/lilewill/opt/anaconda3/lib/python3.9/site-packages (from pydantic<3,>=1->langchain<0.2.0,>=0.1.15->langchain_experimental) (0.6.0)\n",
      "Requirement already satisfied: pydantic-core==2.16.3 in /Users/lilewill/opt/anaconda3/lib/python3.9/site-packages (from pydantic<3,>=1->langchain<0.2.0,>=0.1.15->langchain_experimental) (2.16.3)\n",
      "Requirement already satisfied: charset-normalizer<4,>=2 in /Users/lilewill/opt/anaconda3/lib/python3.9/site-packages (from requests<3,>=2->langchain<0.2.0,>=0.1.15->langchain_experimental) (2.0.4)\n",
      "Requirement already satisfied: idna<4,>=2.5 in /Users/lilewill/opt/anaconda3/lib/python3.9/site-packages (from requests<3,>=2->langchain<0.2.0,>=0.1.15->langchain_experimental) (3.3)\n",
      "Requirement already satisfied: urllib3<3,>=1.21.1 in /Users/lilewill/opt/anaconda3/lib/python3.9/site-packages (from requests<3,>=2->langchain<0.2.0,>=0.1.15->langchain_experimental) (1.26.9)\n",
      "Requirement already satisfied: certifi>=2017.4.17 in /Users/lilewill/opt/anaconda3/lib/python3.9/site-packages (from requests<3,>=2->langchain<0.2.0,>=0.1.15->langchain_experimental) (2021.10.8)\n",
      "Requirement already satisfied: greenlet!=0.4.17 in /Users/lilewill/opt/anaconda3/lib/python3.9/site-packages (from SQLAlchemy<3,>=1.4->langchain<0.2.0,>=0.1.15->langchain_experimental) (1.1.1)\n",
      "Requirement already satisfied: mypy-extensions>=0.3.0 in /Users/lilewill/opt/anaconda3/lib/python3.9/site-packages (from typing-inspect<1,>=0.4.0->dataclasses-json<0.7,>=0.5.7->langchain<0.2.0,>=0.1.15->langchain_experimental) (0.4.3)\n",
      "Requirement already satisfied: langchain[docarray] in /Users/lilewill/opt/anaconda3/lib/python3.9/site-packages (0.1.15)\n",
      "Requirement already satisfied: PyYAML>=5.3 in /Users/lilewill/opt/anaconda3/lib/python3.9/site-packages (from langchain[docarray]) (6.0.1)\n",
      "Requirement already satisfied: SQLAlchemy<3,>=1.4 in /Users/lilewill/opt/anaconda3/lib/python3.9/site-packages (from langchain[docarray]) (2.0.29)\n",
      "Requirement already satisfied: aiohttp<4.0.0,>=3.8.3 in /Users/lilewill/opt/anaconda3/lib/python3.9/site-packages (from langchain[docarray]) (3.9.3)\n",
      "Requirement already satisfied: async-timeout<5.0.0,>=4.0.0 in /Users/lilewill/opt/anaconda3/lib/python3.9/site-packages (from langchain[docarray]) (4.0.1)\n",
      "Requirement already satisfied: dataclasses-json<0.7,>=0.5.7 in /Users/lilewill/opt/anaconda3/lib/python3.9/site-packages (from langchain[docarray]) (0.6.4)\n",
      "Requirement already satisfied: jsonpatch<2.0,>=1.33 in /Users/lilewill/opt/anaconda3/lib/python3.9/site-packages (from langchain[docarray]) (1.33)\n",
      "Requirement already satisfied: langchain-community<0.1,>=0.0.32 in /Users/lilewill/opt/anaconda3/lib/python3.9/site-packages (from langchain[docarray]) (0.0.32)\n",
      "Requirement already satisfied: langchain-core<0.2.0,>=0.1.41 in /Users/lilewill/opt/anaconda3/lib/python3.9/site-packages (from langchain[docarray]) (0.1.41)\n",
      "Requirement already satisfied: langchain-text-splitters<0.1,>=0.0.1 in /Users/lilewill/opt/anaconda3/lib/python3.9/site-packages (from langchain[docarray]) (0.0.1)\n",
      "Requirement already satisfied: langsmith<0.2.0,>=0.1.17 in /Users/lilewill/opt/anaconda3/lib/python3.9/site-packages (from langchain[docarray]) (0.1.31)\n",
      "Requirement already satisfied: numpy<2,>=1 in /Users/lilewill/opt/anaconda3/lib/python3.9/site-packages (from langchain[docarray]) (1.26.4)\n",
      "Requirement already satisfied: pydantic<3,>=1 in /Users/lilewill/opt/anaconda3/lib/python3.9/site-packages (from langchain[docarray]) (2.6.4)\n",
      "Requirement already satisfied: requests<3,>=2 in /Users/lilewill/opt/anaconda3/lib/python3.9/site-packages (from langchain[docarray]) (2.31.0)\n",
      "Requirement already satisfied: tenacity<9.0.0,>=8.1.0 in /Users/lilewill/opt/anaconda3/lib/python3.9/site-packages (from langchain[docarray]) (8.2.3)\n",
      "Collecting docarray<0.33.0,>=0.32.0 (from docarray[hnswlib]<0.33.0,>=0.32.0; extra == \"docarray\"->langchain[docarray])\n",
      "  Using cached docarray-0.32.1-py3-none-any.whl.metadata (30 kB)\n",
      "Requirement already satisfied: aiosignal>=1.1.2 in /Users/lilewill/opt/anaconda3/lib/python3.9/site-packages (from aiohttp<4.0.0,>=3.8.3->langchain[docarray]) (1.2.0)\n",
      "Requirement already satisfied: attrs>=17.3.0 in /Users/lilewill/opt/anaconda3/lib/python3.9/site-packages (from aiohttp<4.0.0,>=3.8.3->langchain[docarray]) (21.4.0)\n",
      "Requirement already satisfied: frozenlist>=1.1.1 in /Users/lilewill/opt/anaconda3/lib/python3.9/site-packages (from aiohttp<4.0.0,>=3.8.3->langchain[docarray]) (1.2.0)\n",
      "Requirement already satisfied: multidict<7.0,>=4.5 in /Users/lilewill/opt/anaconda3/lib/python3.9/site-packages (from aiohttp<4.0.0,>=3.8.3->langchain[docarray]) (5.2.0)\n",
      "Requirement already satisfied: yarl<2.0,>=1.0 in /Users/lilewill/opt/anaconda3/lib/python3.9/site-packages (from aiohttp<4.0.0,>=3.8.3->langchain[docarray]) (1.6.3)\n",
      "Requirement already satisfied: typing-extensions>=3.6.5 in /Users/lilewill/opt/anaconda3/lib/python3.9/site-packages (from async-timeout<5.0.0,>=4.0.0->langchain[docarray]) (4.10.0)\n",
      "Requirement already satisfied: marshmallow<4.0.0,>=3.18.0 in /Users/lilewill/opt/anaconda3/lib/python3.9/site-packages (from dataclasses-json<0.7,>=0.5.7->langchain[docarray]) (3.21.1)\n",
      "Requirement already satisfied: typing-inspect<1,>=0.4.0 in /Users/lilewill/opt/anaconda3/lib/python3.9/site-packages (from dataclasses-json<0.7,>=0.5.7->langchain[docarray]) (0.9.0)\n",
      "Requirement already satisfied: orjson>=3.8.2 in /Users/lilewill/opt/anaconda3/lib/python3.9/site-packages (from docarray<0.33.0,>=0.32.0->docarray[hnswlib]<0.33.0,>=0.32.0; extra == \"docarray\"->langchain[docarray]) (3.9.15)\n",
      "Requirement already satisfied: rich>=13.1.0 in /Users/lilewill/opt/anaconda3/lib/python3.9/site-packages (from docarray<0.33.0,>=0.32.0->docarray[hnswlib]<0.33.0,>=0.32.0; extra == \"docarray\"->langchain[docarray]) (13.7.1)\n",
      "Collecting types-requests>=2.28.11.6 (from docarray<0.33.0,>=0.32.0->docarray[hnswlib]<0.33.0,>=0.32.0; extra == \"docarray\"->langchain[docarray])\n",
      "  Using cached types_requests-2.31.0.20240406-py3-none-any.whl.metadata (1.8 kB)\n",
      "Collecting hnswlib>=0.6.2 (from docarray[hnswlib]<0.33.0,>=0.32.0; extra == \"docarray\"->langchain[docarray])\n",
      "  Using cached hnswlib-0.8.0.tar.gz (36 kB)\n",
      "  Installing build dependencies ... \u001b[?25lerror\n",
      "  \u001b[1;31merror\u001b[0m: \u001b[1msubprocess-exited-with-error\u001b[0m\n",
      "  \n",
      "  \u001b[31m×\u001b[0m \u001b[32mpip subprocess to install build dependencies\u001b[0m did not run successfully.\n",
      "  \u001b[31m│\u001b[0m exit code: \u001b[1;36m2\u001b[0m\n",
      "  \u001b[31m╰─>\u001b[0m \u001b[31m[62 lines of output]\u001b[0m\n",
      "  \u001b[31m   \u001b[0m Collecting setuptools>=42\n",
      "  \u001b[31m   \u001b[0m   Downloading setuptools-69.5.1-py3-none-any.whl.metadata (6.2 kB)\n",
      "  \u001b[31m   \u001b[0m Collecting wheel\n",
      "  \u001b[31m   \u001b[0m   Using cached wheel-0.43.0-py3-none-any.whl.metadata (2.2 kB)\n",
      "  \u001b[31m   \u001b[0m Collecting numpy>=1.10.0\n",
      "  \u001b[31m   \u001b[0m   Using cached numpy-1.26.4-cp39-cp39-macosx_10_9_x86_64.whl.metadata (61 kB)\n",
      "  \u001b[31m   \u001b[0m Collecting pybind11>=2.0\n",
      "  \u001b[31m   \u001b[0m   Using cached pybind11-2.12.0-py3-none-any.whl.metadata (9.5 kB)\n",
      "  \u001b[31m   \u001b[0m Downloading setuptools-69.5.1-py3-none-any.whl (894 kB)\n",
      "  \u001b[31m   \u001b[0m    ━╸                                       41.0/894.6 kB 2.7 kB/s eta 0:05:19\n",
      "  \u001b[31m   \u001b[0m ERROR: Exception:\n",
      "  \u001b[31m   \u001b[0m Traceback (most recent call last):\n",
      "  \u001b[31m   \u001b[0m   File \"/Users/lilewill/opt/anaconda3/lib/python3.9/site-packages/pip/_vendor/urllib3/response.py\", line 438, in _error_catcher\n",
      "  \u001b[31m   \u001b[0m     yield\n",
      "  \u001b[31m   \u001b[0m   File \"/Users/lilewill/opt/anaconda3/lib/python3.9/site-packages/pip/_vendor/urllib3/response.py\", line 561, in read\n",
      "  \u001b[31m   \u001b[0m     data = self._fp_read(amt) if not fp_closed else b\"\"\n",
      "  \u001b[31m   \u001b[0m   File \"/Users/lilewill/opt/anaconda3/lib/python3.9/site-packages/pip/_vendor/urllib3/response.py\", line 527, in _fp_read\n",
      "  \u001b[31m   \u001b[0m     return self._fp.read(amt) if amt is not None else self._fp.read()\n",
      "  \u001b[31m   \u001b[0m   File \"/Users/lilewill/opt/anaconda3/lib/python3.9/site-packages/pip/_vendor/cachecontrol/filewrapper.py\", line 98, in read\n",
      "  \u001b[31m   \u001b[0m     data: bytes = self.__fp.read(amt)\n",
      "  \u001b[31m   \u001b[0m   File \"/Users/lilewill/opt/anaconda3/lib/python3.9/http/client.py\", line 463, in read\n",
      "  \u001b[31m   \u001b[0m     n = self.readinto(b)\n",
      "  \u001b[31m   \u001b[0m   File \"/Users/lilewill/opt/anaconda3/lib/python3.9/http/client.py\", line 507, in readinto\n",
      "  \u001b[31m   \u001b[0m     n = self.fp.readinto(b)\n",
      "  \u001b[31m   \u001b[0m   File \"/Users/lilewill/opt/anaconda3/lib/python3.9/socket.py\", line 704, in readinto\n",
      "  \u001b[31m   \u001b[0m     return self._sock.recv_into(b)\n",
      "  \u001b[31m   \u001b[0m   File \"/Users/lilewill/opt/anaconda3/lib/python3.9/ssl.py\", line 1241, in recv_into\n",
      "  \u001b[31m   \u001b[0m     return self.read(nbytes, buffer)\n",
      "  \u001b[31m   \u001b[0m   File \"/Users/lilewill/opt/anaconda3/lib/python3.9/ssl.py\", line 1099, in read\n",
      "  \u001b[31m   \u001b[0m     return self._sslobj.read(len, buffer)\n",
      "  \u001b[31m   \u001b[0m socket.timeout: The read operation timed out\n",
      "  \u001b[31m   \u001b[0m \n",
      "  \u001b[31m   \u001b[0m During handling of the above exception, another exception occurred:\n",
      "  \u001b[31m   \u001b[0m \n",
      "  \u001b[31m   \u001b[0m Traceback (most recent call last):\n",
      "  \u001b[31m   \u001b[0m   File \"/Users/lilewill/opt/anaconda3/lib/python3.9/site-packages/pip/_internal/cli/base_command.py\", line 180, in exc_logging_wrapper\n",
      "  \u001b[31m   \u001b[0m     status = run_func(*args)\n",
      "  \u001b[31m   \u001b[0m   File \"/Users/lilewill/opt/anaconda3/lib/python3.9/site-packages/pip/_internal/cli/req_command.py\", line 245, in wrapper\n",
      "  \u001b[31m   \u001b[0m     return func(self, options, args)\n",
      "  \u001b[31m   \u001b[0m   File \"/Users/lilewill/opt/anaconda3/lib/python3.9/site-packages/pip/_internal/commands/install.py\", line 377, in run\n",
      "  \u001b[31m   \u001b[0m     requirement_set = resolver.resolve(\n",
      "  \u001b[31m   \u001b[0m   File \"/Users/lilewill/opt/anaconda3/lib/python3.9/site-packages/pip/_internal/resolution/resolvelib/resolver.py\", line 179, in resolve\n",
      "  \u001b[31m   \u001b[0m     self.factory.preparer.prepare_linked_requirements_more(reqs)\n",
      "  \u001b[31m   \u001b[0m   File \"/Users/lilewill/opt/anaconda3/lib/python3.9/site-packages/pip/_internal/operations/prepare.py\", line 552, in prepare_linked_requirements_more\n",
      "  \u001b[31m   \u001b[0m     self._complete_partial_requirements(\n",
      "  \u001b[31m   \u001b[0m   File \"/Users/lilewill/opt/anaconda3/lib/python3.9/site-packages/pip/_internal/operations/prepare.py\", line 467, in _complete_partial_requirements\n",
      "  \u001b[31m   \u001b[0m     for link, (filepath, _) in batch_download:\n",
      "  \u001b[31m   \u001b[0m   File \"/Users/lilewill/opt/anaconda3/lib/python3.9/site-packages/pip/_internal/network/download.py\", line 183, in __call__\n",
      "  \u001b[31m   \u001b[0m     for chunk in chunks:\n",
      "  \u001b[31m   \u001b[0m   File \"/Users/lilewill/opt/anaconda3/lib/python3.9/site-packages/pip/_internal/cli/progress_bars.py\", line 53, in _rich_progress_bar\n",
      "  \u001b[31m   \u001b[0m     for chunk in iterable:\n",
      "  \u001b[31m   \u001b[0m   File \"/Users/lilewill/opt/anaconda3/lib/python3.9/site-packages/pip/_internal/network/utils.py\", line 63, in response_chunks\n",
      "  \u001b[31m   \u001b[0m     for chunk in response.raw.stream(\n",
      "  \u001b[31m   \u001b[0m   File \"/Users/lilewill/opt/anaconda3/lib/python3.9/site-packages/pip/_vendor/urllib3/response.py\", line 622, in stream\n",
      "  \u001b[31m   \u001b[0m     data = self.read(amt=amt, decode_content=decode_content)\n",
      "  \u001b[31m   \u001b[0m   File \"/Users/lilewill/opt/anaconda3/lib/python3.9/site-packages/pip/_vendor/urllib3/response.py\", line 587, in read\n",
      "  \u001b[31m   \u001b[0m     raise IncompleteRead(self._fp_bytes_read, self.length_remaining)\n",
      "  \u001b[31m   \u001b[0m   File \"/Users/lilewill/opt/anaconda3/lib/python3.9/contextlib.py\", line 137, in __exit__\n",
      "  \u001b[31m   \u001b[0m     self.gen.throw(typ, value, traceback)\n",
      "  \u001b[31m   \u001b[0m   File \"/Users/lilewill/opt/anaconda3/lib/python3.9/site-packages/pip/_vendor/urllib3/response.py\", line 443, in _error_catcher\n",
      "  \u001b[31m   \u001b[0m     raise ReadTimeoutError(self._pool, None, \"Read timed out.\")\n",
      "  \u001b[31m   \u001b[0m pip._vendor.urllib3.exceptions.ReadTimeoutError: HTTPSConnectionPool(host='files.pythonhosted.org', port=443): Read timed out.\n",
      "  \u001b[31m   \u001b[0m \u001b[31m[end of output]\u001b[0m\n",
      "  \n",
      "  \u001b[1;35mnote\u001b[0m: This error originates from a subprocess, and is likely not a problem with pip.\n",
      "\u001b[1;31merror\u001b[0m: \u001b[1msubprocess-exited-with-error\u001b[0m\n",
      "\n",
      "\u001b[31m×\u001b[0m \u001b[32mpip subprocess to install build dependencies\u001b[0m did not run successfully.\n",
      "\u001b[31m│\u001b[0m exit code: \u001b[1;36m2\u001b[0m\n",
      "\u001b[31m╰─>\u001b[0m See above for output.\n",
      "\n",
      "\u001b[1;35mnote\u001b[0m: This error originates from a subprocess, and is likely not a problem with pip.\n",
      "\u001b[?25h"
     ]
    }
   ],
   "source": [
    "# Prepare for embedding\n",
    "!pip install -U langchain-openai\n",
    "!pip install openai -y\n",
    "!pip install langchain_experimental\n",
    "!pip install \"langchain[docarray]\" "
   ]
  },
  {
   "cell_type": "code",
   "execution_count": 2,
   "id": "d6de0d0f-7375-4b33-8228-09a0af80d42f",
   "metadata": {
    "collapsed": true,
    "jupyter": {
     "outputs_hidden": true
    },
    "tags": []
   },
   "outputs": [
    {
     "ename": "ValidationError",
     "evalue": "1 validation error for OpenAIEmbeddings\n__root__\n  Did not find openai_api_key, please add an environment variable `OPENAI_API_KEY` which contains it, or pass `openai_api_key` as a named parameter. (type=value_error)",
     "output_type": "error",
     "traceback": [
      "\u001b[0;31m---------------------------------------------------------------------------\u001b[0m",
      "\u001b[0;31mValidationError\u001b[0m                           Traceback (most recent call last)",
      "Input \u001b[0;32mIn [2]\u001b[0m, in \u001b[0;36m<cell line: 2>\u001b[0;34m()\u001b[0m\n\u001b[1;32m      1\u001b[0m \u001b[38;5;28;01mfrom\u001b[39;00m \u001b[38;5;21;01mlangchain_openai\u001b[39;00m \u001b[38;5;28;01mimport\u001b[39;00m OpenAIEmbeddings\n\u001b[0;32m----> 2\u001b[0m embeddings \u001b[38;5;241m=\u001b[39m \u001b[43mOpenAIEmbeddings\u001b[49m\u001b[43m(\u001b[49m\u001b[43mmodel\u001b[49m\u001b[43m \u001b[49m\u001b[38;5;241;43m=\u001b[39;49m\u001b[43m \u001b[49m\u001b[38;5;124;43m'\u001b[39;49m\u001b[38;5;124;43mtext-embedding-3-small\u001b[39;49m\u001b[38;5;124;43m'\u001b[39;49m\u001b[43m)\u001b[49m\n",
      "File \u001b[0;32m~/opt/anaconda3/lib/python3.9/site-packages/pydantic/v1/main.py:341\u001b[0m, in \u001b[0;36mBaseModel.__init__\u001b[0;34m(__pydantic_self__, **data)\u001b[0m\n\u001b[1;32m    339\u001b[0m values, fields_set, validation_error \u001b[38;5;241m=\u001b[39m validate_model(__pydantic_self__\u001b[38;5;241m.\u001b[39m\u001b[38;5;18m__class__\u001b[39m, data)\n\u001b[1;32m    340\u001b[0m \u001b[38;5;28;01mif\u001b[39;00m validation_error:\n\u001b[0;32m--> 341\u001b[0m     \u001b[38;5;28;01mraise\u001b[39;00m validation_error\n\u001b[1;32m    342\u001b[0m \u001b[38;5;28;01mtry\u001b[39;00m:\n\u001b[1;32m    343\u001b[0m     object_setattr(__pydantic_self__, \u001b[38;5;124m'\u001b[39m\u001b[38;5;124m__dict__\u001b[39m\u001b[38;5;124m'\u001b[39m, values)\n",
      "\u001b[0;31mValidationError\u001b[0m: 1 validation error for OpenAIEmbeddings\n__root__\n  Did not find openai_api_key, please add an environment variable `OPENAI_API_KEY` which contains it, or pass `openai_api_key` as a named parameter. (type=value_error)"
     ]
    }
   ],
   "source": [
    "from langchain_openai import OpenAIEmbeddings\n",
    "embeddings = OpenAIEmbeddings(model = 'text-embedding-3-small')"
   ]
  },
  {
   "cell_type": "code",
   "execution_count": null,
   "id": "935b90cd-c236-4bf9-9ce6-697c95595103",
   "metadata": {},
   "outputs": [],
   "source": [
    "# Set the sentence context\n",
    "sentence_context = ServiceContext.from_defaults(\n",
    "    llm=llm,\n",
    "    embed_model=embeddings,\n",
    "    node_parser=node_parser,\n",
    ")"
   ]
  },
  {
   "cell_type": "code",
   "execution_count": null,
   "id": "9d63457b-d7ba-4a04-ae71-65ca4cad70d4",
   "metadata": {
    "tags": []
   },
   "outputs": [],
   "source": [
    "# Set the vector index store of Qdrant or others\n",
    "!pip install llama-index-vector-stores-qdrant\n",
    "import qdrant_client\n",
    "client = qdrant_client.QdrantClient(location=\":memory:\",\n",
    "                                    search_type=\"mmr\")"
   ]
  },
  {
   "cell_type": "code",
   "execution_count": 18,
   "id": "399e123c-1663-41fa-8fe5-a1812a3f72e8",
   "metadata": {},
   "outputs": [],
   "source": [
    "# Embedding\n",
    "from llama_index import VectorStoreIndex\n",
    "from llama_index import Document\n",
    "\n",
    "vector_store = QdrantVectorStore(client=client, collection_name=\"peter_pan\")\n",
    "storage_context = StorageContext.from_defaults(vector_store=vector_store)\n",
    "\n",
    "document = Document(text=\"\\n\\n\".join([doc.text for doc in documents]))\n",
    "sentence_index = VectorStoreIndex.from_documents(\n",
    "    [document], service_context=sentence_context\n",
    ")"
   ]
  },
  {
   "cell_type": "code",
   "execution_count": 19,
   "id": "129a3cb4-016b-41bf-9559-a9e8de49a3db",
   "metadata": {
    "collapsed": true,
    "jupyter": {
     "outputs_hidden": true
    },
    "tags": []
   },
   "outputs": [
    {
     "name": "stderr",
     "output_type": "stream",
     "text": [
      "/environment/miniconda3/lib/python3.10/site-packages/tqdm/auto.py:21: TqdmWarning: IProgress not found. Please update jupyter and ipywidgets. See https://ipywidgets.readthedocs.io/en/stable/user_install.html\n",
      "  from .autonotebook import tqdm as notebook_tqdm\n"
     ]
    }
   ],
   "source": [
    "# Prepare Postprocessor and Reranker \n",
    "from llama_index.indices.postprocessor import MetadataReplacementPostProcessor\n",
    "\n",
    "postproc = MetadataReplacementPostProcessor(\n",
    "    target_metadata_key=\"window\"\n",
    ")\n",
    "\n",
    "from llama_index.indices.postprocessor import SentenceTransformerRerank\n",
    "from llama_index import load_index_from_storage\n",
    "from llama_index.readers.web import TrafilaturaWebReader\n",
    "from llama_index import Document\n",
    "import numpy as np\n",
    "import nest_asyncio\n",
    "from llama_index.response_synthesizers import ResponseMode, get_response_synthesizer\n",
    "\n",
    "# BAAI/bge-reranker-base\n",
    "# link: https://huggingface.co/BAAI/bge-reranker-base\n",
    "rerank = SentenceTransformerRerank(\n",
    "    top_n=3, model=\"BAAI/bge-reranker-base\"\n",
    ")"
   ]
  },
  {
   "cell_type": "code",
   "execution_count": 20,
   "id": "348f61f1-af11-4946-bd1d-cdd8fb336514",
   "metadata": {},
   "outputs": [],
   "source": [
    "# Prepare the prompt template\n",
    "from llama_index import PromptTemplate\n",
    "from llama_index.response_synthesizers import TreeSummarize\n",
    "\n",
    "qa_prompt_tmpl = (\n",
    "\"\"\"Based on the context to answer a claim is TRUE or False, and give me your reasons. \n",
    "Make your answer concise. \n",
    "Claim: {query_str} \n",
    "Context: {context_str} \n",
    "Answer:\n",
    "\"\"\"\n",
    ")\n",
    "prompt_w = PromptTemplate(qa_prompt_tmpl)"
   ]
  },
  {
   "cell_type": "code",
   "execution_count": 21,
   "id": "6f2ec2dd-e467-406a-a815-1c4394fc0db8",
   "metadata": {},
   "outputs": [],
   "source": [
    "# Set the response synthesizer\n",
    "from llama_index.response_synthesizers import ResponseMode, get_response_synthesizer\n",
    "response_synthesizer = get_response_synthesizer(service_context=sentence_context,\n",
    "                                                response_mode=ResponseMode.TREE_SUMMARIZE,\n",
    "                                                summary_template=prompt_w,\n",
    "                                                use_async=False,\n",
    "                                                verbose=True)"
   ]
  },
  {
   "cell_type": "code",
   "execution_count": 142,
   "id": "6e73baa5-e3af-495f-b227-a09d354dce7a",
   "metadata": {
    "tags": []
   },
   "outputs": [],
   "source": [
    "# Create the query engine\n",
    "sentence_window_engine = sentence_index.as_query_engine(\n",
    "    search_type=\"mmr\", \n",
    "    node_postprocessors=[postproc, rerank],\n",
    "    response_synthesizer = response_synthesizer\n",
    ")"
   ]
  },
  {
   "cell_type": "code",
   "execution_count": 36,
   "id": "1534a317-e336-43b4-a5e6-e8838a0a9531",
   "metadata": {
    "collapsed": true,
    "jupyter": {
     "outputs_hidden": true
    },
    "tags": []
   },
   "outputs": [
    {
     "name": "stderr",
     "output_type": "stream",
     "text": [
      "/environment/miniconda3/lib/python3.10/abc.py:123: RuntimeWarning: coroutine 'run_async_tasks.<locals>._gather' was never awaited\n",
      "  return _abc_subclasscheck(cls, subclass)\n",
      "RuntimeWarning: Enable tracemalloc to get the object allocation traceback\n",
      "/environment/miniconda3/lib/python3.10/abc.py:123: RuntimeWarning: coroutine 'BaseQueryEngine.aquery' was never awaited\n",
      "  return _abc_subclasscheck(cls, subclass)\n",
      "RuntimeWarning: Enable tracemalloc to get the object allocation traceback\n"
     ]
    },
    {
     "name": "stdout",
     "output_type": "stream",
     "text": [
      "1 text chunks after repacking\n"
     ]
    },
    {
     "data": {
      "text/markdown": [
       "**`Final Response:`** TRUE, Peter Pan is a brave person.\n",
       "\n",
       "Reasons:\n",
       "1. Peter Pan is depicted as a leader who is respected and even revered by the Piccaninny warriors, indicating his courage and leadership in protecting his territory from pirates.\n",
       "2. The text mentions Peter Pan saving Tiger Lily, showcasing his willingness to risk himself for others, a key trait of bravery.\n",
       "3. The narrative sets Peter Pan against a \"terrible man\" (the pirate), highlighting a scenario where bravery is required to confront formidable enemies."
      ],
      "text/plain": [
       "<IPython.core.display.Markdown object>"
      ]
     },
     "metadata": {},
     "output_type": "display_data"
    }
   ],
   "source": [
    "# Test the Q&A\n",
    "window_response = sentence_window_engine.query(\n",
    "    \"Is Peter Pan a brave person? \"\n",
    ")\n",
    "from llama_index.response.notebook_utils import display_response\n",
    "\n",
    "display_response(window_response)"
   ]
  },
  {
   "cell_type": "code",
   "execution_count": 114,
   "id": "c2c37fb1-53a5-45f2-9882-aa84c8f52ce4",
   "metadata": {},
   "outputs": [
    {
     "data": {
      "text/html": [
       "<div>\n",
       "<style scoped>\n",
       "    .dataframe tbody tr th:only-of-type {\n",
       "        vertical-align: middle;\n",
       "    }\n",
       "\n",
       "    .dataframe tbody tr th {\n",
       "        vertical-align: top;\n",
       "    }\n",
       "\n",
       "    .dataframe thead th {\n",
       "        text-align: right;\n",
       "    }\n",
       "</style>\n",
       "<table border=\"1\" class=\"dataframe\">\n",
       "  <thead>\n",
       "    <tr style=\"text-align: right;\">\n",
       "      <th></th>\n",
       "      <th>question</th>\n",
       "      <th>ground_truths</th>\n",
       "    </tr>\n",
       "  </thead>\n",
       "  <tbody>\n",
       "    <tr>\n",
       "      <th>0</th>\n",
       "      <td>Wendy Darling met Peter Pan in the market for the first time.</td>\n",
       "      <td>[\"False. Wendy and Peter didn't meet in the market. Wendy Darling met Peter Pan when he flied in her family's window to retrieve his lost shadow for the fisrt time. \"]</td>\n",
       "    </tr>\n",
       "    <tr>\n",
       "      <th>1</th>\n",
       "      <td>Wendy like Peter but Peter don't like her.</td>\n",
       "      <td>[\"False. Wendy like Peter indeed, Peter is also very fond of Wendy because of the stories she tells, which are mainly about Peter and his adventures. He is fascinated by Wendy's stories of him that he would often visit her to listen.\"]</td>\n",
       "    </tr>\n",
       "    <tr>\n",
       "      <th>2</th>\n",
       "      <td>Peter Pan has good parents.</td>\n",
       "      <td>[\"False. Peter's parents aren't mentioned. He is an orphan and his parents' names are never mentioned.\"]</td>\n",
       "    </tr>\n",
       "    <tr>\n",
       "      <th>3</th>\n",
       "      <td>Mr Darling changed after the chilren left. He had reason for doing so.</td>\n",
       "      <td>[\"True. He changes quite a lot after the children fly away: his guilt makes him re-examine his behavior and values, and he becomes more cheerful, easy-going, and sentimental, even “quixotic.” Missing his children brings him back to his own childhood.\"]</td>\n",
       "    </tr>\n",
       "    <tr>\n",
       "      <th>4</th>\n",
       "      <td>Peter Pan went to Neverland through flight in the story.</td>\n",
       "      <td>[\"True. Peter Pan gets to Neverland through flight, by travelling to the \"second star to the right, and straight on till morning.\" Neverland is a small mythical island where Peter Pan and the Lost Boys live.\"]</td>\n",
       "    </tr>\n",
       "    <tr>\n",
       "      <th>5</th>\n",
       "      <td>Tinker Bell drunk the poison but she came back to life.</td>\n",
       "      <td>[\"True. Jane mourns the death of the tinker fairy in guilt and shame, and her belief in fairies begins to arise. Jane's newfound belief in fairies revives Tinker Bell.\"]</td>\n",
       "    </tr>\n",
       "  </tbody>\n",
       "</table>\n",
       "</div>"
      ],
      "text/plain": [
       "                                                                 question  \\\n",
       "0           Wendy Darling met Peter Pan in the market for the first time.   \n",
       "1                              Wendy like Peter but Peter don't like her.   \n",
       "2                                             Peter Pan has good parents.   \n",
       "3  Mr Darling changed after the chilren left. He had reason for doing so.   \n",
       "4                Peter Pan went to Neverland through flight in the story.   \n",
       "5                 Tinker Bell drunk the poison but she came back to life.   \n",
       "\n",
       "                                                                                                                                                                                                                                                  ground_truths  \n",
       "0                                                                                       [\"False. Wendy and Peter didn't meet in the market. Wendy Darling met Peter Pan when he flied in her family's window to retrieve his lost shadow for the fisrt time. \"]  \n",
       "1                   [\"False. Wendy like Peter indeed, Peter is also very fond of Wendy because of the stories she tells, which are mainly about Peter and his adventures. He is fascinated by Wendy's stories of him that he would often visit her to listen.\"]  \n",
       "2                                                                                                                                                      [\"False. Peter's parents aren't mentioned. He is an orphan and his parents' names are never mentioned.\"]  \n",
       "3  [\"True. He changes quite a lot after the children fly away: his guilt makes him re-examine his behavior and values, and he becomes more cheerful, easy-going, and sentimental, even “quixotic.” Missing his children brings him back to his own childhood.\"]  \n",
       "4                                             [\"True. Peter Pan gets to Neverland through flight, by travelling to the \"second star to the right, and straight on till morning.\" Neverland is a small mythical island where Peter Pan and the Lost Boys live.\"]  \n",
       "5                                                                                     [\"True. Jane mourns the death of the tinker fairy in guilt and shame, and her belief in fairies begins to arise. Jane's newfound belief in fairies revives Tinker Bell.\"]  "
      ]
     },
     "execution_count": 114,
     "metadata": {},
     "output_type": "execute_result"
    }
   ],
   "source": [
    "import pandas as pd\n",
    "q = pd.read_csv('02-QC.csv')\n",
    "q"
   ]
  },
  {
   "cell_type": "code",
   "execution_count": 143,
   "id": "557da387-58e8-4259-8d4a-b5f1cd19a4e8",
   "metadata": {
    "collapsed": true,
    "jupyter": {
     "outputs_hidden": true
    },
    "tags": []
   },
   "outputs": [
    {
     "name": "stdout",
     "output_type": "stream",
     "text": [
      "1 text chunks after repacking\n"
     ]
    },
    {
     "data": {
      "text/markdown": [
       "**`Final Response:`** False.\n",
       "\n",
       "The claim that Wendy Darling met Peter Pan in the market for the first time is not supported by the context provided or by the original story of Peter Pan. In J.M. Barrie's classic tale, Wendy Darling first encounters Peter Pan in her bedroom when he comes looking for his shadow. The passage provided does not mention a market at all; instead, it describes a scene where Peter is seen by Wendy before he flies away, and it also includes a conversation between Wendy and her mother about Peter Pan. Wendy's mother recalls Peter Pan from her own childhood, suggesting a mythical or legendary figure rather than someone Wendy would have met in a commonplace setting like a market."
      ],
      "text/plain": [
       "<IPython.core.display.Markdown object>"
      ]
     },
     "metadata": {},
     "output_type": "display_data"
    },
    {
     "name": "stdout",
     "output_type": "stream",
     "text": [
      "1 text chunks after repacking\n"
     ]
    },
    {
     "data": {
      "text/markdown": [
       "**`Final Response:`** TRUE\n",
       "\n",
       "Reasons:\n",
       "1. The context provided does not explicitly state Wendy's feelings towards Peter, but it is commonly known from the story of \"Peter Pan\" that Wendy harbors affection for Peter.\n",
       "2. The context does show Peter pointing out drawbacks to Wendy, which could be interpreted as a lack of reciprocal affection or at least a lack of sensitivity towards Wendy's feelings. This suggests that Peter may not have the same affection for Wendy as she has for him.\n",
       "3. Peter's focus in the conversation is more on the tactical situation with the pirates rather than on Wendy's feelings or reactions, further indicating that his priorities and affections may not align with Wendy's."
      ],
      "text/plain": [
       "<IPython.core.display.Markdown object>"
      ]
     },
     "metadata": {},
     "output_type": "display_data"
    },
    {
     "name": "stdout",
     "output_type": "stream",
     "text": [
      "1 text chunks after repacking\n"
     ]
    },
    {
     "data": {
      "text/markdown": [
       "**`Final Response:`** False.\n",
       "\n",
       "The claim that Peter Pan has good parents does not seem to be supported by the context provided. The context does not mention Peter Pan's parents at all. Instead, it focuses on Mrs. Darling and her interactions with her own children, as well as Peter Pan's interactions with the Lost Boys and Tiger Lily. The text describes Mrs. Darling as a joyful and caring mother to her children, but there is no information about Peter Pan's parents or their qualities. Therefore, based on the context given, we cannot conclude that Peter Pan has good parents."
      ],
      "text/plain": [
       "<IPython.core.display.Markdown object>"
      ]
     },
     "metadata": {},
     "output_type": "display_data"
    },
    {
     "name": "stdout",
     "output_type": "stream",
     "text": [
      "1 text chunks after repacking\n"
     ]
    },
    {
     "data": {
      "text/markdown": [
       "**`Final Response:`** TRUE.\n",
       "\n",
       "Reason: The context provided suggests a significant emotional impact on Mr. Darling due to the events surrounding the children and their safety, indicated by his actions and emotional state. Tying up Nana in the backyard and then sitting in the passage with his knuckles to his eyes shows a change in his behavior, likely driven by stress, worry, or guilt. This change in demeanor and actions after the children's involvement in the situation (as they were put to bed and the night-lights were lit) supports the claim that Mr. Darling changed after the children left, and he had reasons for doing so, rooted in the unfolding dramatic events and his emotional responses to them."
      ],
      "text/plain": [
       "<IPython.core.display.Markdown object>"
      ]
     },
     "metadata": {},
     "output_type": "display_data"
    },
    {
     "name": "stdout",
     "output_type": "stream",
     "text": [
      "1 text chunks after repacking\n"
     ]
    },
    {
     "data": {
      "text/markdown": [
       "**`Final Response:`** TRUE\n",
       "\n",
       "Peter Pan and his companions indeed went to Neverland through flight. The context provided describes how the characters lost their ability to fly because they stopped believing, which implies that belief was a necessary component of their flight. Additionally, the passage mentions Wendy flying away with Peter, and the chapter titled \"THE FLIGHT\" suggests that flying is the method by which they travel to Neverland. The quote \"Second to the right, and straight on till morning\" is a famous line from the story that Peter Pan gives as the direction to Neverland, further supporting the idea that they flew there."
      ],
      "text/plain": [
       "<IPython.core.display.Markdown object>"
      ]
     },
     "metadata": {},
     "output_type": "display_data"
    },
    {
     "name": "stdout",
     "output_type": "stream",
     "text": [
      "1 text chunks after repacking\n"
     ]
    },
    {
     "data": {
      "text/markdown": [
       "**`Final Response:`** TRUE. Tinker Bell did drink the poison, but she came back to life. In the story of Peter Pan by J.M. Barrie, Tinker Bell drinks the poison that was intended for Peter Pan in order to save him. After she drinks it, she indeed begins to die. However, she is revived when Peter Pan calls upon children who believe in fairies to clap their hands, thus restoring her life through their belief and the power of their clapping. This act of collective belief and the magical nature of the story allow Tinker Bell to come back to life despite the lethal effect of the poison."
      ],
      "text/plain": [
       "<IPython.core.display.Markdown object>"
      ]
     },
     "metadata": {},
     "output_type": "display_data"
    }
   ],
   "source": [
    "# Fact-checking\n",
    "questions = q['question']\n",
    "ground_truths = q['ground_truths']\n",
    "contexts = []\n",
    "answers = []\n",
    "display = []\n",
    "\n",
    "# Inference\n",
    "for query in questions:\n",
    "    window_response = sentence_window_engine.query(query)\n",
    "    answers.append(display_response(window_response))\n"
   ]
  },
  {
   "cell_type": "code",
   "execution_count": 116,
   "id": "367c9e0e-71d7-478b-9a61-fd5a3129a96a",
   "metadata": {
    "collapsed": true,
    "jupyter": {
     "outputs_hidden": true
    },
    "tags": []
   },
   "outputs": [
    {
     "name": "stderr",
     "output_type": "stream",
     "text": [
      "huggingface/tokenizers: The current process just got forked, after parallelism has already been used. Disabling parallelism to avoid deadlocks...\n",
      "To disable this warning, you can either:\n",
      "\t- Avoid using `tokenizers` before the fork if possible\n",
      "\t- Explicitly set the environment variable TOKENIZERS_PARALLELISM=(true | false)\n"
     ]
    },
    {
     "name": "stdout",
     "output_type": "stream",
     "text": [
      "Looking in indexes: https://pypi.tuna.tsinghua.edu.cn/simple\n",
      "Requirement already satisfied: ragas in /environment/miniconda3/lib/python3.10/site-packages (0.0.22)\n",
      "Requirement already satisfied: numpy in /environment/miniconda3/lib/python3.10/site-packages (from ragas) (1.24.1)\n",
      "Requirement already satisfied: datasets in /environment/miniconda3/lib/python3.10/site-packages (from ragas) (2.18.0)\n",
      "Requirement already satisfied: tiktoken in /environment/miniconda3/lib/python3.10/site-packages (from ragas) (0.6.0)\n",
      "Requirement already satisfied: langchain in /environment/miniconda3/lib/python3.10/site-packages (from ragas) (0.1.16)\n",
      "Requirement already satisfied: openai>1 in /environment/miniconda3/lib/python3.10/site-packages (from ragas) (1.23.1)\n",
      "Requirement already satisfied: pysbd>=0.3.4 in /environment/miniconda3/lib/python3.10/site-packages (from ragas) (0.3.4)\n",
      "Requirement already satisfied: nest-asyncio in /environment/miniconda3/lib/python3.10/site-packages (from ragas) (1.6.0)\n",
      "Requirement already satisfied: anyio<5,>=3.5.0 in /environment/miniconda3/lib/python3.10/site-packages (from openai>1->ragas) (3.7.1)\n",
      "Requirement already satisfied: distro<2,>=1.7.0 in /environment/miniconda3/lib/python3.10/site-packages (from openai>1->ragas) (1.9.0)\n",
      "Requirement already satisfied: httpx<1,>=0.23.0 in /environment/miniconda3/lib/python3.10/site-packages (from openai>1->ragas) (0.24.1)\n",
      "Requirement already satisfied: pydantic<3,>=1.9.0 in /environment/miniconda3/lib/python3.10/site-packages (from openai>1->ragas) (2.4.2)\n",
      "Requirement already satisfied: sniffio in /environment/miniconda3/lib/python3.10/site-packages (from openai>1->ragas) (1.3.0)\n",
      "Requirement already satisfied: tqdm>4 in /environment/miniconda3/lib/python3.10/site-packages (from openai>1->ragas) (4.66.2)\n",
      "Requirement already satisfied: typing-extensions<5,>=4.7 in /environment/miniconda3/lib/python3.10/site-packages (from openai>1->ragas) (4.8.0)\n",
      "Requirement already satisfied: filelock in /environment/miniconda3/lib/python3.10/site-packages (from datasets->ragas) (3.9.0)\n",
      "Requirement already satisfied: pyarrow>=12.0.0 in /environment/miniconda3/lib/python3.10/site-packages (from datasets->ragas) (15.0.2)\n",
      "Requirement already satisfied: pyarrow-hotfix in /environment/miniconda3/lib/python3.10/site-packages (from datasets->ragas) (0.6)\n",
      "Requirement already satisfied: dill<0.3.9,>=0.3.0 in /environment/miniconda3/lib/python3.10/site-packages (from datasets->ragas) (0.3.8)\n",
      "Requirement already satisfied: pandas in /environment/miniconda3/lib/python3.10/site-packages (from datasets->ragas) (2.1.2)\n",
      "Requirement already satisfied: requests>=2.19.0 in /environment/miniconda3/lib/python3.10/site-packages (from datasets->ragas) (2.31.0)\n",
      "Requirement already satisfied: xxhash in /environment/miniconda3/lib/python3.10/site-packages (from datasets->ragas) (3.4.1)\n",
      "Requirement already satisfied: multiprocess in /environment/miniconda3/lib/python3.10/site-packages (from datasets->ragas) (0.70.16)\n",
      "Requirement already satisfied: fsspec[http]<=2024.2.0,>=2023.1.0 in /environment/miniconda3/lib/python3.10/site-packages (from datasets->ragas) (2024.2.0)\n",
      "Requirement already satisfied: aiohttp in /environment/miniconda3/lib/python3.10/site-packages (from datasets->ragas) (3.9.5)\n",
      "Requirement already satisfied: huggingface-hub>=0.19.4 in /environment/miniconda3/lib/python3.10/site-packages (from datasets->ragas) (0.22.2)\n",
      "Requirement already satisfied: packaging in /environment/miniconda3/lib/python3.10/site-packages (from datasets->ragas) (23.2)\n",
      "Requirement already satisfied: pyyaml>=5.1 in /environment/miniconda3/lib/python3.10/site-packages (from datasets->ragas) (6.0.1)\n",
      "Requirement already satisfied: SQLAlchemy<3,>=1.4 in /environment/miniconda3/lib/python3.10/site-packages (from langchain->ragas) (2.0.29)\n",
      "Requirement already satisfied: async-timeout<5.0.0,>=4.0.0 in /environment/miniconda3/lib/python3.10/site-packages (from langchain->ragas) (4.0.3)\n",
      "Requirement already satisfied: dataclasses-json<0.7,>=0.5.7 in /environment/miniconda3/lib/python3.10/site-packages (from langchain->ragas) (0.6.4)\n",
      "Requirement already satisfied: jsonpatch<2.0,>=1.33 in /environment/miniconda3/lib/python3.10/site-packages (from langchain->ragas) (1.33)\n",
      "Requirement already satisfied: langchain-community<0.1,>=0.0.32 in /environment/miniconda3/lib/python3.10/site-packages (from langchain->ragas) (0.0.33)\n",
      "Requirement already satisfied: langchain-core<0.2.0,>=0.1.42 in /environment/miniconda3/lib/python3.10/site-packages (from langchain->ragas) (0.1.44)\n",
      "Requirement already satisfied: langchain-text-splitters<0.1,>=0.0.1 in /environment/miniconda3/lib/python3.10/site-packages (from langchain->ragas) (0.0.1)\n",
      "Requirement already satisfied: langsmith<0.2.0,>=0.1.17 in /environment/miniconda3/lib/python3.10/site-packages (from langchain->ragas) (0.1.49)\n",
      "Requirement already satisfied: tenacity<9.0.0,>=8.1.0 in /environment/miniconda3/lib/python3.10/site-packages (from langchain->ragas) (8.2.3)\n",
      "Requirement already satisfied: regex>=2022.1.18 in /environment/miniconda3/lib/python3.10/site-packages (from tiktoken->ragas) (2024.4.16)\n",
      "Requirement already satisfied: aiosignal>=1.1.2 in /environment/miniconda3/lib/python3.10/site-packages (from aiohttp->datasets->ragas) (1.3.1)\n",
      "Requirement already satisfied: attrs>=17.3.0 in /environment/miniconda3/lib/python3.10/site-packages (from aiohttp->datasets->ragas) (23.1.0)\n",
      "Requirement already satisfied: frozenlist>=1.1.1 in /environment/miniconda3/lib/python3.10/site-packages (from aiohttp->datasets->ragas) (1.4.1)\n",
      "Requirement already satisfied: multidict<7.0,>=4.5 in /environment/miniconda3/lib/python3.10/site-packages (from aiohttp->datasets->ragas) (6.0.4)\n",
      "Requirement already satisfied: yarl<2.0,>=1.0 in /environment/miniconda3/lib/python3.10/site-packages (from aiohttp->datasets->ragas) (1.9.2)\n",
      "Requirement already satisfied: idna>=2.8 in /environment/miniconda3/lib/python3.10/site-packages (from anyio<5,>=3.5.0->openai>1->ragas) (2.10)\n",
      "Requirement already satisfied: exceptiongroup in /environment/miniconda3/lib/python3.10/site-packages (from anyio<5,>=3.5.0->openai>1->ragas) (1.1.2)\n",
      "Requirement already satisfied: marshmallow<4.0.0,>=3.18.0 in /environment/miniconda3/lib/python3.10/site-packages (from dataclasses-json<0.7,>=0.5.7->langchain->ragas) (3.21.1)\n",
      "Requirement already satisfied: typing-inspect<1,>=0.4.0 in /environment/miniconda3/lib/python3.10/site-packages (from dataclasses-json<0.7,>=0.5.7->langchain->ragas) (0.9.0)\n",
      "Requirement already satisfied: certifi in /environment/miniconda3/lib/python3.10/site-packages (from httpx<1,>=0.23.0->openai>1->ragas) (2023.7.22)\n",
      "Requirement already satisfied: httpcore<0.18.0,>=0.15.0 in /environment/miniconda3/lib/python3.10/site-packages (from httpx<1,>=0.23.0->openai>1->ragas) (0.17.3)\n",
      "Requirement already satisfied: jsonpointer>=1.9 in /environment/miniconda3/lib/python3.10/site-packages (from jsonpatch<2.0,>=1.33->langchain->ragas) (2.1)\n",
      "Requirement already satisfied: orjson<4.0.0,>=3.9.14 in /environment/miniconda3/lib/python3.10/site-packages (from langsmith<0.2.0,>=0.1.17->langchain->ragas) (3.10.1)\n",
      "Requirement already satisfied: annotated-types>=0.4.0 in /environment/miniconda3/lib/python3.10/site-packages (from pydantic<3,>=1.9.0->openai>1->ragas) (0.6.0)\n",
      "Requirement already satisfied: pydantic-core==2.10.1 in /environment/miniconda3/lib/python3.10/site-packages (from pydantic<3,>=1.9.0->openai>1->ragas) (2.10.1)\n",
      "Requirement already satisfied: charset-normalizer<4,>=2 in /environment/miniconda3/lib/python3.10/site-packages (from requests>=2.19.0->datasets->ragas) (2.0.4)\n",
      "Requirement already satisfied: urllib3<3,>=1.21.1 in /environment/miniconda3/lib/python3.10/site-packages (from requests>=2.19.0->datasets->ragas) (2.2.1)\n",
      "Requirement already satisfied: greenlet!=0.4.17 in /environment/miniconda3/lib/python3.10/site-packages (from SQLAlchemy<3,>=1.4->langchain->ragas) (3.0.3)\n",
      "Requirement already satisfied: python-dateutil>=2.8.2 in /environment/miniconda3/lib/python3.10/site-packages (from pandas->datasets->ragas) (2.8.2)\n",
      "Requirement already satisfied: pytz>=2020.1 in /environment/miniconda3/lib/python3.10/site-packages (from pandas->datasets->ragas) (2023.3.post1)\n",
      "Requirement already satisfied: tzdata>=2022.1 in /environment/miniconda3/lib/python3.10/site-packages (from pandas->datasets->ragas) (2023.3)\n",
      "Requirement already satisfied: h11<0.15,>=0.13 in /environment/miniconda3/lib/python3.10/site-packages (from httpcore<0.18.0,>=0.15.0->httpx<1,>=0.23.0->openai>1->ragas) (0.14.0)\n",
      "Requirement already satisfied: six>=1.5 in /environment/miniconda3/lib/python3.10/site-packages (from python-dateutil>=2.8.2->pandas->datasets->ragas) (1.16.0)\n",
      "Requirement already satisfied: mypy-extensions>=0.3.0 in /environment/miniconda3/lib/python3.10/site-packages (from typing-inspect<1,>=0.4.0->dataclasses-json<0.7,>=0.5.7->langchain->ragas) (1.0.0)\n"
     ]
    }
   ],
   "source": [
    "!pip uinstall ragas\n",
    "!pip install ragas==0.0.22"
   ]
  },
  {
   "cell_type": "code",
   "execution_count": 144,
   "id": "784f807a-6017-4519-961f-8589437a8b95",
   "metadata": {},
   "outputs": [],
   "source": [
    "from ragas.llama_index import evaluate # Please attention: this evaluate funtion is just for ragas==0.0.22\n",
    "\n",
    "metrics = [faithfulness]"
   ]
  },
  {
   "cell_type": "code",
   "execution_count": 145,
   "id": "1d682ab3-5caf-4aa0-897b-80639eb5a612",
   "metadata": {
    "tags": []
   },
   "outputs": [],
   "source": [
    "# Avoid the runtime error\n",
    "import asyncio\n",
    "import time\n",
    "nest_asyncio.apply()"
   ]
  },
  {
   "cell_type": "code",
   "execution_count": 146,
   "id": "348157d7-87dc-46bd-a356-608bc79a253b",
   "metadata": {
    "tags": []
   },
   "outputs": [
    {
     "name": "stdout",
     "output_type": "stream",
     "text": [
      "1 text chunks after repacking\n",
      "1 text chunks after repacking\n",
      "1 text chunks after repacking\n",
      "1 text chunks after repacking\n",
      "1 text chunks after repacking\n",
      "1 text chunks after repacking\n"
     ]
    },
    {
     "name": "stderr",
     "output_type": "stream",
     "text": [
      "Evaluating:   0%|          | 0/6 [00:00<?, ?it/s]No statements were generated from the answer.\n",
      "Evaluating:  17%|█▋        | 1/6 [00:05<00:27,  5.57s/it]No statements were generated from the answer.\n",
      "Evaluating: 100%|██████████| 6/6 [00:26<00:00,  4.41s/it]\n"
     ]
    }
   ],
   "source": [
    "result = evaluate(sentence_window_engine, metrics, questions,answers)"
   ]
  },
  {
   "cell_type": "code",
   "execution_count": 147,
   "id": "15486ffe-0f2f-4089-8177-f4ef4a188116",
   "metadata": {
    "tags": []
   },
   "outputs": [],
   "source": [
    "data = result.to_pandas()\n",
    "data1 = data.to_dict()"
   ]
  },
  {
   "cell_type": "code",
   "execution_count": 148,
   "id": "0a4b9395-d183-46d7-9772-7a1fbd7126bc",
   "metadata": {},
   "outputs": [],
   "source": [
    "questions = data['question']\n",
    "ground_truths = q['ground_truths']\n",
    "contexts = data['contexts']\n",
    "answers = data['answer']\n",
    "from datasets import Dataset \n",
    "from ragas import evaluate # This is the function of latest ragas\n",
    "from ragas.metrics import (\n",
    "    faithfulness,\n",
    "    answer_relevancy,\n",
    "    context_precision,\n",
    "    context_recall,\n",
    "    answer_correctness\n",
    ")\n",
    "\n",
    "metrics = [\n",
    "    faithfulness,\n",
    "    context_precision,\n",
    "    context_recall,\n",
    "    answer_relevancy,\n",
    "    answer_correctness\n",
    "]"
   ]
  },
  {
   "cell_type": "code",
   "execution_count": 149,
   "id": "a0097f79-83f1-4d83-95c9-175eb5958517",
   "metadata": {},
   "outputs": [
    {
     "name": "stderr",
     "output_type": "stream",
     "text": [
      "Evaluating:   3%|▎         | 1/30 [00:12<05:59, 12.39s/it]No statements were generated from the answer.\n",
      "Evaluating:  33%|███▎      | 10/30 [00:16<00:20,  1.02s/it]No statements were generated from the answer.\n",
      "Evaluating:  37%|███▋      | 11/30 [00:20<00:29,  1.54s/it]No statements were generated from the answer.\n",
      "Evaluating: 100%|██████████| 30/30 [00:37<00:00,  1.25s/it]\n"
     ]
    }
   ],
   "source": [
    "data = {\n",
    "    \"question\": questions,\n",
    "    \"answer\": answers,\n",
    "    'contexts': contexts,\n",
    "    \"ground_truth\": ground_truths\n",
    "}\n",
    "\n",
    "dataset = Dataset.from_dict(data)\n",
    "\n",
    "result = evaluate(\n",
    "    dataset = dataset, \n",
    "    metrics=metrics,\n",
    ")\n",
    "\n",
    "res_w1 = result.to_pandas()"
   ]
  },
  {
   "cell_type": "code",
   "execution_count": 150,
   "id": "2b03c243-540d-4af1-aaf9-26a3ccb2eb1a",
   "metadata": {
    "tags": []
   },
   "outputs": [
    {
     "data": {
      "text/html": [
       "<div>\n",
       "<style scoped>\n",
       "    .dataframe tbody tr th:only-of-type {\n",
       "        vertical-align: middle;\n",
       "    }\n",
       "\n",
       "    .dataframe tbody tr th {\n",
       "        vertical-align: top;\n",
       "    }\n",
       "\n",
       "    .dataframe thead th {\n",
       "        text-align: right;\n",
       "    }\n",
       "</style>\n",
       "<table border=\"1\" class=\"dataframe\">\n",
       "  <thead>\n",
       "    <tr style=\"text-align: right;\">\n",
       "      <th></th>\n",
       "      <th>question</th>\n",
       "      <th>answer</th>\n",
       "      <th>contexts</th>\n",
       "      <th>ground_truth</th>\n",
       "      <th>faithfulness</th>\n",
       "      <th>context_precision</th>\n",
       "      <th>context_recall</th>\n",
       "      <th>answer_relevancy</th>\n",
       "      <th>answer_correctness</th>\n",
       "    </tr>\n",
       "  </thead>\n",
       "  <tbody>\n",
       "    <tr>\n",
       "      <th>0</th>\n",
       "      <td>Wendy Darling met Peter Pan in the market for the first time.</td>\n",
       "      <td>False.\\n\\nWendy Darling did not meet Peter Pan in the market for the first time. According to J.M. Barrie's novel \"Peter Pan,\" Wendy first encountered Peter Pan when he visited the nursery of the Darling family's home at night. Peter was there looking for his shadow which Wendy's mother, Mrs. Darling, had previously found and stored away. Wendy helps Peter by sewing his shadow back on, marking the beginning of their acquaintance and subsequent adventures. The text provided does not mention a market meeting, and the traditional story aligns with their meeting occurring in Wendy's home.</td>\n",
       "      <td>[“Then follow the leader,” he cried gaily.  “Mind you, I am not sure that\\nwe have a drawing-room, but we pretend we have, and it’s all the same.\\n Hoop la!”\\n\\nHe went off dancing through the house, and they all cried “Hoop la!”\\nand danced after him, searching for the drawing-room; and I forget\\nwhether they found it, but at any rate they found corners, and they all\\nfitted in.\\n\\n As for Peter, he saw Wendy once again before he flew away.  He did not\\nexactly come to the window, but he brushed against it in passing so\\nthat she could open it if she liked and call to him.  That is what she\\ndid.\\n\\n, “Yes, he is rather cocky,” Wendy admitted with regret.  Her mother had\\nbeen questioning her.\\n\\n “But who is he, my pet?”\\n\\n“He is Peter Pan, you know, mother.”\\n\\nAt first Mrs.  Darling did not know, but after thinking back into her\\nchildhood she just remembered a Peter Pan who was said to live with the\\nfairies.  There were odd stories about him, as that when children died\\nhe went part of the way with them, so that they should not be\\nfrightened.  She had believed in him at the time, but now that she was\\nmarried and full of sense she quite doubted whether there was any such\\nperson.\\n\\n]</td>\n",
       "      <td>[\"False. Wendy and Peter didn't meet in the market. Wendy Darling met Peter Pan when he flied in her family's window to retrieve his lost shadow for the fisrt time. \"]</td>\n",
       "      <td>NaN</td>\n",
       "      <td>1.0</td>\n",
       "      <td>0.00</td>\n",
       "      <td>0.000000</td>\n",
       "      <td>0.236439</td>\n",
       "    </tr>\n",
       "    <tr>\n",
       "      <th>1</th>\n",
       "      <td>Wendy like Peter but Peter don't like her.</td>\n",
       "      <td>Based on the context provided, the claim that Wendy likes Peter but Peter doesn't like her cannot be definitively proven true or false solely from the text given. The excerpt focuses more on the dynamics of their adventure and the concern for safety rather than explicitly detailing the personal feelings between Wendy and Peter. However, there are subtle indications of care and interaction, such as Wendy's concern and the group dynamics, but these do not directly address their personal feelings towards each other in a romantic sense. Therefore, without additional context specifically addressing Peter's feelings towards Wendy, I cannot accurately determine the truthfulness of the claim.</td>\n",
       "      <td>[Look at her in her chair, where she has\\nfallen asleep.  The corner of her mouth, where one looks first, is\\nalmost withered up.  Her hand moves restlessly on her breast as if she\\nhad a pain there.  Some like Peter best, and some like Wendy best, but I\\nlike her best.  Suppose, to make her happy, we whisper to her in her\\nsleep that the brats are coming back.  They are really within two miles\\nof the window now, and flying strong, but all we need whisper is that\\nthey are on the way. , “It is this, if we meet Hook in open fight, you must leave him to me.”\\n\\n“I promise,” John said loyally.\\n\\n For the moment they were feeling less eerie, because Tink was flying\\nwith them, and in her light they could distinguish each other.\\n Unfortunately she could not fly so slowly as they, and so she had to go\\nround and round them in a circle in which they moved as in a halo.\\n Wendy quite liked it, until Peter pointed out the drawbacks.\\n\\n “She tells me,” he said, “that the pirates sighted us before the\\ndarkness came, and got Long Tom out.”\\n\\n“The big gun?”\\n\\n“Yes.  And of course they must see her light, and if they guess we are\\nnear it they are sure to let fly.”\\n\\n“Wendy!”\\n\\n“John!”\\n\\n“Michael!”\\n\\n“Tell her to go away at once, Peter,” the three cried simultaneously,\\nbut he refused.\\n\\n]</td>\n",
       "      <td>[\"False. Wendy like Peter indeed, Peter is also very fond of Wendy because of the stories she tells, which are mainly about Peter and his adventures. He is fascinated by Wendy's stories of him that he would often visit her to listen.\"]</td>\n",
       "      <td>NaN</td>\n",
       "      <td>1.0</td>\n",
       "      <td>0.75</td>\n",
       "      <td>0.000000</td>\n",
       "      <td>0.221497</td>\n",
       "    </tr>\n",
       "    <tr>\n",
       "      <th>2</th>\n",
       "      <td>Peter Pan has good parents.</td>\n",
       "      <td>FALSE.\\n\\nThe claim that Peter Pan has good parents is not directly supported by the context provided. The text primarily focuses on Mrs. Darling's interactions with her own children and her knowledge of Peter Pan, rather than Peter's own parents. Mrs. Darling is depicted as a caring and playful mother to her children, but there is no information about Peter Pan's biological parents or their qualities in the provided text. Peter Pan is often portrayed as a boy who lives away from parental figures, leading the Lost Boys in Neverland, which suggests he does not have traditional parental guidance. Therefore, based on the context given, the claim about Peter Pan having good parents cannot be substantiated.</td>\n",
       "      <td>[The gaiety of those romps!\\n And gayest of all was Mrs.  Darling, who would pirouette so wildly that\\nall you could see of her was the kiss, and then if you had dashed at\\nher you might have got it.  There never was a simpler happier family\\nuntil the coming of Peter Pan.\\n\\n Mrs.  Darling first heard of Peter when she was tidying up her\\nchildren’s minds. , Even by day they hung about, smoking the\\npipe of peace, and looking almost as if they wanted tit-bits to eat.\\n\\n They called Peter the Great White Father, prostrating themselves before\\nhim; and he liked this tremendously, so that it was not really good for\\nhim.\\n\\n “The great white father,” he would say to them in a very lordly manner,\\nas they grovelled at his feet, “is glad to see the Piccaninny warriors\\nprotecting his wigwam from the pirates.”\\n\\n“Me Tiger Lily,” that lovely creature would reply.  “Peter Pan save me,\\nme his velly nice friend.  Me no let pirates hurt him.”\\n\\nShe was far too pretty to cringe in this way, but Peter thought it his\\ndue, and he would answer condescendingly, “It is good.  Peter Pan has\\nspoken.”\\n\\nAlways when he said, “Peter Pan has spoken,” it meant that they must\\nnow shut up, and they accepted it humbly in that spirit; but they were\\nby no means so respectful to the other boys, whom they looked upon as\\njust ordinary braves. ]</td>\n",
       "      <td>[\"False. Peter's parents aren't mentioned. He is an orphan and his parents' names are never mentioned.\"]</td>\n",
       "      <td>NaN</td>\n",
       "      <td>1.0</td>\n",
       "      <td>0.00</td>\n",
       "      <td>0.000000</td>\n",
       "      <td>0.215281</td>\n",
       "    </tr>\n",
       "    <tr>\n",
       "      <th>3</th>\n",
       "      <td>Mr Darling changed after the chilren left. He had reason for doing so.</td>\n",
       "      <td>The claim that \"Mr. Darling changed after the children left\" is TRUE based on the context provided. The context does not directly describe the change in Mr. Darling, but it implies a significant event is about to happen, which is related to the sense of danger Wendy perceives. The mention of Mr. Darling's \"too affectionate nature, which craved for admiration,\" and his actions of sitting in the passage with his knuckles to his eyes after tying Nana up in the backyard, suggests that he is emotionally affected by the situation. This emotional response could be indicative of a change in his demeanor or behavior, which is likely to be exacerbated by the children's departure, as suggested by Wendy's intuition of danger. The reason for his change is not explicitly stated, but the context implies that it is connected to the events unfolding in the nursery and the potential danger that Wendy senses.</td>\n",
       "      <td>[COME AWAY, COME AWAY!\\n\\n\\n For a moment after Mr.  and Mrs.  Darling left the house the night-lights\\nby the beds of the three children continued to burn clearly.  They were\\nawfully nice little night-lights, and one cannot help wishing that they\\ncould have kept awake to see Peter; but Wendy’s light blinked and gave\\nsuch a yawn that the other two yawned also, and before they could close\\ntheir mouths all the three went out.\\n\\n There was another light in the room now, a thousand times brighter than\\nthe night-lights, and in the time we have taken to say this, it had\\nbeen in all the drawers in the nursery, looking for Peter’s shadow,\\nrummaged the wardrobe and turned every pocket inside out. , It was all owing to his too affectionate nature, which craved for\\nadmiration.  When he had tied her up in the back-yard, the wretched\\nfather went and sat in the passage, with his knuckles to his eyes.\\n\\n In the meantime Mrs.  Darling had put the children to bed in unwonted\\nsilence and lit their night-lights.  They could hear Nana barking, and\\nJohn whimpered, “It is because he is chaining her up in the yard,” but\\nWendy was wiser.\\n\\n “That is not Nana’s unhappy bark,” she said, little guessing what was\\nabout to happen; “that is her bark when she smells danger.”\\n\\nDanger!\\n\\n]</td>\n",
       "      <td>[\"True. He changes quite a lot after the children fly away: his guilt makes him re-examine his behavior and values, and he becomes more cheerful, easy-going, and sentimental, even “quixotic.” Missing his children brings him back to his own childhood.\"]</td>\n",
       "      <td>1.0</td>\n",
       "      <td>1.0</td>\n",
       "      <td>0.00</td>\n",
       "      <td>0.907915</td>\n",
       "      <td>0.590381</td>\n",
       "    </tr>\n",
       "    <tr>\n",
       "      <th>4</th>\n",
       "      <td>Peter Pan went to Neverland through flight in the story.</td>\n",
       "      <td>TRUE. Peter Pan went to Neverland through flight in the story.\\n\\nReasons:\\n1. The text explicitly mentions that Wendy flew away with Peter, indicating that flight was the mode of transportation to Neverland.\\n2. The directions given by Peter, \"Second to the right, and straight on till morning,\" suggest a journey made through the air, as these instructions would not be practical for any form of ground or sea travel.\\n3. The narrative describes the delights of flying experienced by Peter and his companions, further supporting that their journey to Neverland involved flying.</td>\n",
       "      <td>[In time they could not even fly after their\\nhats.  Want of practice, they called it; but what it really meant was\\nthat they no longer believed.\\n\\n Michael believed longer than the other boys, though they jeered at him;\\nso he was with Wendy when Peter came for her at the end of the first\\nyear.  She flew away with Peter in the frock she had woven from leaves\\nand berries in the Neverland, and her one fear was that he might notice\\nhow short it had become; but he never noticed, he had so much to say\\nabout himself.\\n\\n She had looked forward to thrilling talks with him about old times, but\\nnew adventures had crowded the old ones from his mind.\\n\\n “Who is Captain Hook?” he asked with interest when she spoke of the\\narch enemy.\\n\\n, Darling and Nana rushed into the nursery too late.  The\\nbirds were flown.\\n\\n\\n\\n\\n Chapter IV.\\n THE FLIGHT\\n\\n\\n“Second to the right, and straight on till morning.”\\n\\nThat, Peter had told Wendy, was the way to the Neverland; but even\\nbirds, carrying maps and consulting them at windy corners, could not\\nhave sighted it with these instructions.  Peter, you see, just said\\nanything that came into his head.\\n\\n At first his companions trusted him implicitly, and so great were the\\ndelights of flying that they wasted time circling round church spires\\nor any other tall objects on the way that took their fancy.\\n\\n]</td>\n",
       "      <td>[\"True. Peter Pan gets to Neverland through flight, by travelling to the \"second star to the right, and straight on till morning.\" Neverland is a small mythical island where Peter Pan and the Lost Boys live.\"]</td>\n",
       "      <td>1.0</td>\n",
       "      <td>1.0</td>\n",
       "      <td>1.00</td>\n",
       "      <td>0.949334</td>\n",
       "      <td>0.606144</td>\n",
       "    </tr>\n",
       "    <tr>\n",
       "      <th>5</th>\n",
       "      <td>Tinker Bell drunk the poison but she came back to life.</td>\n",
       "      <td>TRUE. The claim that Tinker Bell drank the poison and came back to life is true in the context of J.M. Barrie's story \"Peter Pan.\" In the story, Tinker Bell drinks the poison intended for Peter Pan to save his life. She does indeed begin to die, but she is revived by the belief of children. Peter Pan implores the children who are reading or listening to the story to clap their hands if they believe in fairies, and this collective belief and clapping bring Tinker Bell back to life. This is a well-known part of the Peter Pan narrative and a classic example of the power of belief in fairy tales and children's stories.</td>\n",
       "      <td>[“They don’t want us to land,” he explained.\\n\\n “Who are they?” Wendy whispered, shuddering.\\n\\n But he could not or would not say.  Tinker Bell had been asleep on his\\nshoulder, but now he wakened her and sent her on in front.\\n\\n Sometimes he poised himself in the air, listening intently, with his\\nhand to his ear, and again he would stare down with eyes so bright that\\nthey seemed to bore two holes to earth.  Having done these things, he\\nwent on again.\\n\\n, “Why, Tink, how dare you drink my medicine?”\\n\\nBut she did not answer.  Already she was reeling in the air.\\n\\n “What is the matter with you?” cried Peter, suddenly afraid.\\n\\n “It was poisoned, Peter,” she told him softly; “and now I am going to\\nbe dead.”\\n\\n“O Tink, did you drink it to save me?”\\n\\n“Yes.”\\n\\n“But why, Tink?”\\n\\nHer wings would scarcely carry her now, but in reply she alighted on\\nhis shoulder and gave his nose a loving bite.  She whispered in his ear\\n“You silly ass,” and then, tottering to her chamber, lay down on the\\nbed.\\n\\n His head almost filled the fourth wall of her little room as he knelt\\nnear her in distress. ]</td>\n",
       "      <td>[\"True. Jane mourns the death of the tinker fairy in guilt and shame, and her belief in fairies begins to arise. Jane's newfound belief in fairies revives Tinker Bell.\"]</td>\n",
       "      <td>1.0</td>\n",
       "      <td>0.5</td>\n",
       "      <td>0.00</td>\n",
       "      <td>0.936662</td>\n",
       "      <td>0.901970</td>\n",
       "    </tr>\n",
       "  </tbody>\n",
       "</table>\n",
       "</div>"
      ],
      "text/plain": [
       "                                                                 question  \\\n",
       "0           Wendy Darling met Peter Pan in the market for the first time.   \n",
       "1                              Wendy like Peter but Peter don't like her.   \n",
       "2                                             Peter Pan has good parents.   \n",
       "3  Mr Darling changed after the chilren left. He had reason for doing so.   \n",
       "4                Peter Pan went to Neverland through flight in the story.   \n",
       "5                 Tinker Bell drunk the poison but she came back to life.   \n",
       "\n",
       "                                                                                                                                                                                                                                                                                                                                                                                                                                                                                                                                                                                                                                                                                                                                                                                                                                                                                                                                    answer  \\\n",
       "0                                                                                                                                                                                                                                                                                                                          False.\\n\\nWendy Darling did not meet Peter Pan in the market for the first time. According to J.M. Barrie's novel \"Peter Pan,\" Wendy first encountered Peter Pan when he visited the nursery of the Darling family's home at night. Peter was there looking for his shadow which Wendy's mother, Mrs. Darling, had previously found and stored away. Wendy helps Peter by sewing his shadow back on, marking the beginning of their acquaintance and subsequent adventures. The text provided does not mention a market meeting, and the traditional story aligns with their meeting occurring in Wendy's home.   \n",
       "1                                                                                                                                                                                                                    Based on the context provided, the claim that Wendy likes Peter but Peter doesn't like her cannot be definitively proven true or false solely from the text given. The excerpt focuses more on the dynamics of their adventure and the concern for safety rather than explicitly detailing the personal feelings between Wendy and Peter. However, there are subtle indications of care and interaction, such as Wendy's concern and the group dynamics, but these do not directly address their personal feelings towards each other in a romantic sense. Therefore, without additional context specifically addressing Peter's feelings towards Wendy, I cannot accurately determine the truthfulness of the claim.   \n",
       "2                                                                                                                                                                                                  FALSE.\\n\\nThe claim that Peter Pan has good parents is not directly supported by the context provided. The text primarily focuses on Mrs. Darling's interactions with her own children and her knowledge of Peter Pan, rather than Peter's own parents. Mrs. Darling is depicted as a caring and playful mother to her children, but there is no information about Peter Pan's biological parents or their qualities in the provided text. Peter Pan is often portrayed as a boy who lives away from parental figures, leading the Lost Boys in Neverland, which suggests he does not have traditional parental guidance. Therefore, based on the context given, the claim about Peter Pan having good parents cannot be substantiated.   \n",
       "3  The claim that \"Mr. Darling changed after the children left\" is TRUE based on the context provided. The context does not directly describe the change in Mr. Darling, but it implies a significant event is about to happen, which is related to the sense of danger Wendy perceives. The mention of Mr. Darling's \"too affectionate nature, which craved for admiration,\" and his actions of sitting in the passage with his knuckles to his eyes after tying Nana up in the backyard, suggests that he is emotionally affected by the situation. This emotional response could be indicative of a change in his demeanor or behavior, which is likely to be exacerbated by the children's departure, as suggested by Wendy's intuition of danger. The reason for his change is not explicitly stated, but the context implies that it is connected to the events unfolding in the nursery and the potential danger that Wendy senses.   \n",
       "4                                                                                                                                                                                                                                                                                                                                      TRUE. Peter Pan went to Neverland through flight in the story.\\n\\nReasons:\\n1. The text explicitly mentions that Wendy flew away with Peter, indicating that flight was the mode of transportation to Neverland.\\n2. The directions given by Peter, \"Second to the right, and straight on till morning,\" suggest a journey made through the air, as these instructions would not be practical for any form of ground or sea travel.\\n3. The narrative describes the delights of flying experienced by Peter and his companions, further supporting that their journey to Neverland involved flying.   \n",
       "5                                                                                                                                                                                                                                                                                           TRUE. The claim that Tinker Bell drank the poison and came back to life is true in the context of J.M. Barrie's story \"Peter Pan.\" In the story, Tinker Bell drinks the poison intended for Peter Pan to save his life. She does indeed begin to die, but she is revived by the belief of children. Peter Pan implores the children who are reading or listening to the story to clap their hands if they believe in fairies, and this collective belief and clapping bring Tinker Bell back to life. This is a well-known part of the Peter Pan narrative and a classic example of the power of belief in fairy tales and children's stories.   \n",
       "\n",
       "                                                                                                                                                                                                                                                                                                                                                                                                                                                                                                                                                                                                                                                                                                                                                                                                                                                                                                                                                                                                                                                                                                                                                                                                                                                                                                                                                                                                                   contexts  \\\n",
       "0                                                                                                                                                               [“Then follow the leader,” he cried gaily.  “Mind you, I am not sure that\\nwe have a drawing-room, but we pretend we have, and it’s all the same.\\n Hoop la!”\\n\\nHe went off dancing through the house, and they all cried “Hoop la!”\\nand danced after him, searching for the drawing-room; and I forget\\nwhether they found it, but at any rate they found corners, and they all\\nfitted in.\\n\\n As for Peter, he saw Wendy once again before he flew away.  He did not\\nexactly come to the window, but he brushed against it in passing so\\nthat she could open it if she liked and call to him.  That is what she\\ndid.\\n\\n, “Yes, he is rather cocky,” Wendy admitted with regret.  Her mother had\\nbeen questioning her.\\n\\n “But who is he, my pet?”\\n\\n“He is Peter Pan, you know, mother.”\\n\\nAt first Mrs.  Darling did not know, but after thinking back into her\\nchildhood she just remembered a Peter Pan who was said to live with the\\nfairies.  There were odd stories about him, as that when children died\\nhe went part of the way with them, so that they should not be\\nfrightened.  She had believed in him at the time, but now that she was\\nmarried and full of sense she quite doubted whether there was any such\\nperson.\\n\\n]   \n",
       "1                                                              [Look at her in her chair, where she has\\nfallen asleep.  The corner of her mouth, where one looks first, is\\nalmost withered up.  Her hand moves restlessly on her breast as if she\\nhad a pain there.  Some like Peter best, and some like Wendy best, but I\\nlike her best.  Suppose, to make her happy, we whisper to her in her\\nsleep that the brats are coming back.  They are really within two miles\\nof the window now, and flying strong, but all we need whisper is that\\nthey are on the way. , “It is this, if we meet Hook in open fight, you must leave him to me.”\\n\\n“I promise,” John said loyally.\\n\\n For the moment they were feeling less eerie, because Tink was flying\\nwith them, and in her light they could distinguish each other.\\n Unfortunately she could not fly so slowly as they, and so she had to go\\nround and round them in a circle in which they moved as in a halo.\\n Wendy quite liked it, until Peter pointed out the drawbacks.\\n\\n “She tells me,” he said, “that the pirates sighted us before the\\ndarkness came, and got Long Tom out.”\\n\\n“The big gun?”\\n\\n“Yes.  And of course they must see her light, and if they guess we are\\nnear it they are sure to let fly.”\\n\\n“Wendy!”\\n\\n“John!”\\n\\n“Michael!”\\n\\n“Tell her to go away at once, Peter,” the three cried simultaneously,\\nbut he refused.\\n\\n]   \n",
       "2                          [The gaiety of those romps!\\n And gayest of all was Mrs.  Darling, who would pirouette so wildly that\\nall you could see of her was the kiss, and then if you had dashed at\\nher you might have got it.  There never was a simpler happier family\\nuntil the coming of Peter Pan.\\n\\n Mrs.  Darling first heard of Peter when she was tidying up her\\nchildren’s minds. , Even by day they hung about, smoking the\\npipe of peace, and looking almost as if they wanted tit-bits to eat.\\n\\n They called Peter the Great White Father, prostrating themselves before\\nhim; and he liked this tremendously, so that it was not really good for\\nhim.\\n\\n “The great white father,” he would say to them in a very lordly manner,\\nas they grovelled at his feet, “is glad to see the Piccaninny warriors\\nprotecting his wigwam from the pirates.”\\n\\n“Me Tiger Lily,” that lovely creature would reply.  “Peter Pan save me,\\nme his velly nice friend.  Me no let pirates hurt him.”\\n\\nShe was far too pretty to cringe in this way, but Peter thought it his\\ndue, and he would answer condescendingly, “It is good.  Peter Pan has\\nspoken.”\\n\\nAlways when he said, “Peter Pan has spoken,” it meant that they must\\nnow shut up, and they accepted it humbly in that spirit; but they were\\nby no means so respectful to the other boys, whom they looked upon as\\njust ordinary braves. ]   \n",
       "3                                                                          [COME AWAY, COME AWAY!\\n\\n\\n For a moment after Mr.  and Mrs.  Darling left the house the night-lights\\nby the beds of the three children continued to burn clearly.  They were\\nawfully nice little night-lights, and one cannot help wishing that they\\ncould have kept awake to see Peter; but Wendy’s light blinked and gave\\nsuch a yawn that the other two yawned also, and before they could close\\ntheir mouths all the three went out.\\n\\n There was another light in the room now, a thousand times brighter than\\nthe night-lights, and in the time we have taken to say this, it had\\nbeen in all the drawers in the nursery, looking for Peter’s shadow,\\nrummaged the wardrobe and turned every pocket inside out. , It was all owing to his too affectionate nature, which craved for\\nadmiration.  When he had tied her up in the back-yard, the wretched\\nfather went and sat in the passage, with his knuckles to his eyes.\\n\\n In the meantime Mrs.  Darling had put the children to bed in unwonted\\nsilence and lit their night-lights.  They could hear Nana barking, and\\nJohn whimpered, “It is because he is chaining her up in the yard,” but\\nWendy was wiser.\\n\\n “That is not Nana’s unhappy bark,” she said, little guessing what was\\nabout to happen; “that is her bark when she smells danger.”\\n\\nDanger!\\n\\n]   \n",
       "4  [In time they could not even fly after their\\nhats.  Want of practice, they called it; but what it really meant was\\nthat they no longer believed.\\n\\n Michael believed longer than the other boys, though they jeered at him;\\nso he was with Wendy when Peter came for her at the end of the first\\nyear.  She flew away with Peter in the frock she had woven from leaves\\nand berries in the Neverland, and her one fear was that he might notice\\nhow short it had become; but he never noticed, he had so much to say\\nabout himself.\\n\\n She had looked forward to thrilling talks with him about old times, but\\nnew adventures had crowded the old ones from his mind.\\n\\n “Who is Captain Hook?” he asked with interest when she spoke of the\\narch enemy.\\n\\n, Darling and Nana rushed into the nursery too late.  The\\nbirds were flown.\\n\\n\\n\\n\\n Chapter IV.\\n THE FLIGHT\\n\\n\\n“Second to the right, and straight on till morning.”\\n\\nThat, Peter had told Wendy, was the way to the Neverland; but even\\nbirds, carrying maps and consulting them at windy corners, could not\\nhave sighted it with these instructions.  Peter, you see, just said\\nanything that came into his head.\\n\\n At first his companions trusted him implicitly, and so great were the\\ndelights of flying that they wasted time circling round church spires\\nor any other tall objects on the way that took their fancy.\\n\\n]   \n",
       "5                                                                                                                                                                                                                                                             [“They don’t want us to land,” he explained.\\n\\n “Who are they?” Wendy whispered, shuddering.\\n\\n But he could not or would not say.  Tinker Bell had been asleep on his\\nshoulder, but now he wakened her and sent her on in front.\\n\\n Sometimes he poised himself in the air, listening intently, with his\\nhand to his ear, and again he would stare down with eyes so bright that\\nthey seemed to bore two holes to earth.  Having done these things, he\\nwent on again.\\n\\n, “Why, Tink, how dare you drink my medicine?”\\n\\nBut she did not answer.  Already she was reeling in the air.\\n\\n “What is the matter with you?” cried Peter, suddenly afraid.\\n\\n “It was poisoned, Peter,” she told him softly; “and now I am going to\\nbe dead.”\\n\\n“O Tink, did you drink it to save me?”\\n\\n“Yes.”\\n\\n“But why, Tink?”\\n\\nHer wings would scarcely carry her now, but in reply she alighted on\\nhis shoulder and gave his nose a loving bite.  She whispered in his ear\\n“You silly ass,” and then, tottering to her chamber, lay down on the\\nbed.\\n\\n His head almost filled the fourth wall of her little room as he knelt\\nnear her in distress. ]   \n",
       "\n",
       "                                                                                                                                                                                                                                                   ground_truth  \\\n",
       "0                                                                                       [\"False. Wendy and Peter didn't meet in the market. Wendy Darling met Peter Pan when he flied in her family's window to retrieve his lost shadow for the fisrt time. \"]   \n",
       "1                   [\"False. Wendy like Peter indeed, Peter is also very fond of Wendy because of the stories she tells, which are mainly about Peter and his adventures. He is fascinated by Wendy's stories of him that he would often visit her to listen.\"]   \n",
       "2                                                                                                                                                      [\"False. Peter's parents aren't mentioned. He is an orphan and his parents' names are never mentioned.\"]   \n",
       "3  [\"True. He changes quite a lot after the children fly away: his guilt makes him re-examine his behavior and values, and he becomes more cheerful, easy-going, and sentimental, even “quixotic.” Missing his children brings him back to his own childhood.\"]   \n",
       "4                                             [\"True. Peter Pan gets to Neverland through flight, by travelling to the \"second star to the right, and straight on till morning.\" Neverland is a small mythical island where Peter Pan and the Lost Boys live.\"]   \n",
       "5                                                                                     [\"True. Jane mourns the death of the tinker fairy in guilt and shame, and her belief in fairies begins to arise. Jane's newfound belief in fairies revives Tinker Bell.\"]   \n",
       "\n",
       "   faithfulness  context_precision  context_recall  answer_relevancy  \\\n",
       "0           NaN                1.0            0.00          0.000000   \n",
       "1           NaN                1.0            0.75          0.000000   \n",
       "2           NaN                1.0            0.00          0.000000   \n",
       "3           1.0                1.0            0.00          0.907915   \n",
       "4           1.0                1.0            1.00          0.949334   \n",
       "5           1.0                0.5            0.00          0.936662   \n",
       "\n",
       "   answer_correctness  \n",
       "0            0.236439  \n",
       "1            0.221497  \n",
       "2            0.215281  \n",
       "3            0.590381  \n",
       "4            0.606144  \n",
       "5            0.901970  "
      ]
     },
     "execution_count": 150,
     "metadata": {},
     "output_type": "execute_result"
    }
   ],
   "source": [
    "res_w1"
   ]
  },
  {
   "cell_type": "code",
   "execution_count": 151,
   "id": "53bd8840-600f-4ff9-b1a1-f03c60e73591",
   "metadata": {},
   "outputs": [
    {
     "data": {
      "text/html": [
       "<div>\n",
       "<style scoped>\n",
       "    .dataframe tbody tr th:only-of-type {\n",
       "        vertical-align: middle;\n",
       "    }\n",
       "\n",
       "    .dataframe tbody tr th {\n",
       "        vertical-align: top;\n",
       "    }\n",
       "\n",
       "    .dataframe thead th {\n",
       "        text-align: right;\n",
       "    }\n",
       "</style>\n",
       "<table border=\"1\" class=\"dataframe\">\n",
       "  <thead>\n",
       "    <tr style=\"text-align: right;\">\n",
       "      <th></th>\n",
       "      <th>faithfulness</th>\n",
       "      <th>context_precision</th>\n",
       "      <th>context_recall</th>\n",
       "      <th>answer_relevancy</th>\n",
       "      <th>answer_correctness</th>\n",
       "    </tr>\n",
       "  </thead>\n",
       "  <tbody>\n",
       "    <tr>\n",
       "      <th>count</th>\n",
       "      <td>3.0</td>\n",
       "      <td>6.000000</td>\n",
       "      <td>6.000000</td>\n",
       "      <td>6.000000</td>\n",
       "      <td>6.000000</td>\n",
       "    </tr>\n",
       "    <tr>\n",
       "      <th>mean</th>\n",
       "      <td>1.0</td>\n",
       "      <td>0.916667</td>\n",
       "      <td>0.291667</td>\n",
       "      <td>0.465652</td>\n",
       "      <td>0.461952</td>\n",
       "    </tr>\n",
       "    <tr>\n",
       "      <th>std</th>\n",
       "      <td>0.0</td>\n",
       "      <td>0.204124</td>\n",
       "      <td>0.458712</td>\n",
       "      <td>0.510273</td>\n",
       "      <td>0.282992</td>\n",
       "    </tr>\n",
       "    <tr>\n",
       "      <th>min</th>\n",
       "      <td>1.0</td>\n",
       "      <td>0.500000</td>\n",
       "      <td>0.000000</td>\n",
       "      <td>0.000000</td>\n",
       "      <td>0.215281</td>\n",
       "    </tr>\n",
       "    <tr>\n",
       "      <th>25%</th>\n",
       "      <td>1.0</td>\n",
       "      <td>1.000000</td>\n",
       "      <td>0.000000</td>\n",
       "      <td>0.000000</td>\n",
       "      <td>0.225232</td>\n",
       "    </tr>\n",
       "    <tr>\n",
       "      <th>50%</th>\n",
       "      <td>1.0</td>\n",
       "      <td>1.000000</td>\n",
       "      <td>0.000000</td>\n",
       "      <td>0.453957</td>\n",
       "      <td>0.413410</td>\n",
       "    </tr>\n",
       "    <tr>\n",
       "      <th>75%</th>\n",
       "      <td>1.0</td>\n",
       "      <td>1.000000</td>\n",
       "      <td>0.562500</td>\n",
       "      <td>0.929475</td>\n",
       "      <td>0.602204</td>\n",
       "    </tr>\n",
       "    <tr>\n",
       "      <th>max</th>\n",
       "      <td>1.0</td>\n",
       "      <td>1.000000</td>\n",
       "      <td>1.000000</td>\n",
       "      <td>0.949334</td>\n",
       "      <td>0.901970</td>\n",
       "    </tr>\n",
       "  </tbody>\n",
       "</table>\n",
       "</div>"
      ],
      "text/plain": [
       "       faithfulness  context_precision  context_recall  answer_relevancy  \\\n",
       "count           3.0           6.000000        6.000000          6.000000   \n",
       "mean            1.0           0.916667        0.291667          0.465652   \n",
       "std             0.0           0.204124        0.458712          0.510273   \n",
       "min             1.0           0.500000        0.000000          0.000000   \n",
       "25%             1.0           1.000000        0.000000          0.000000   \n",
       "50%             1.0           1.000000        0.000000          0.453957   \n",
       "75%             1.0           1.000000        0.562500          0.929475   \n",
       "max             1.0           1.000000        1.000000          0.949334   \n",
       "\n",
       "       answer_correctness  \n",
       "count            6.000000  \n",
       "mean             0.461952  \n",
       "std              0.282992  \n",
       "min              0.215281  \n",
       "25%              0.225232  \n",
       "50%              0.413410  \n",
       "75%              0.602204  \n",
       "max              0.901970  "
      ]
     },
     "execution_count": 151,
     "metadata": {},
     "output_type": "execute_result"
    }
   ],
   "source": [
    "res_w1.describe()"
   ]
  },
  {
   "cell_type": "markdown",
   "id": "063837c8-1c53-4a09-8fd9-b801ba164c49",
   "metadata": {},
   "source": [
    "## Knowledge Graph for RAG"
   ]
  },
  {
   "cell_type": "code",
   "execution_count": 6,
   "id": "2d9f1a94-dcea-433e-90cb-df5340ff6b07",
   "metadata": {},
   "outputs": [],
   "source": [
    "from llama_index.graph_stores import SimpleGraphStore, Neo4jGraphStore, NebulaGraphStore\n",
    "from llama_index import load_index_from_storage\n",
    "from llama_index.readers.web import TrafilaturaWebReader\n",
    "from llama_index import KnowledgeGraphIndex"
   ]
  },
  {
   "cell_type": "code",
   "execution_count": 13,
   "id": "d6cd2d25-bf67-4efd-82f0-68f6c1938ea4",
   "metadata": {},
   "outputs": [],
   "source": [
    "from llama_index import SimpleDirectoryReader\n",
    "documents = SimpleDirectoryReader(\n",
    "    input_files=[\"peter_pan.txt\"]\n",
    ").load_data()"
   ]
  },
  {
   "cell_type": "code",
   "execution_count": 14,
   "id": "88573a63-b453-4f09-9904-f95420b30865",
   "metadata": {},
   "outputs": [],
   "source": [
    "service_context_g = ServiceContext.from_defaults(llm=llm, chunk_size=256)\n",
    "graph_store = SimpleGraphStore() # Neo4jGraphStore, NebulaGraphStore\n",
    "storage_context_g = StorageContext.from_defaults(graph_store=graph_store)"
   ]
  },
  {
   "cell_type": "code",
   "execution_count": 15,
   "id": "a54ed5ed-559e-455a-a0d6-8f4312e73233",
   "metadata": {},
   "outputs": [],
   "source": [
    "# Create Index\n",
    "index = KnowledgeGraphIndex.from_documents(\n",
    "    documents,\n",
    "    max_triplets_per_chunk=3,\n",
    "    include_embeddings=False\n",
    ")"
   ]
  },
  {
   "cell_type": "code",
   "execution_count": 16,
   "id": "64827bcf-a4f8-46a4-80ed-26bfb9f25b7c",
   "metadata": {
    "tags": []
   },
   "outputs": [
    {
     "name": "stdout",
     "output_type": "stream",
     "text": [
      "no_embedding_KG.html\n"
     ]
    },
    {
     "data": {
      "text/html": [
       "\n",
       "        <iframe\n",
       "            width=\"100%\"\n",
       "            height=\"600px\"\n",
       "            src=\"no_embedding_KG.html\"\n",
       "            frameborder=\"0\"\n",
       "            allowfullscreen\n",
       "            \n",
       "        ></iframe>\n",
       "        "
      ],
      "text/plain": [
       "<IPython.lib.display.IFrame at 0x7fd795109ac0>"
      ]
     },
     "execution_count": 16,
     "metadata": {},
     "output_type": "execute_result"
    }
   ],
   "source": [
    "# Create graph\n",
    "from pyvis.network import Network\n",
    "\n",
    "g = index.get_networkx_graph()\n",
    "net = Network(notebook=True, cdn_resources=\"in_line\", directed=True)\n",
    "net.from_nx(g)\n",
    "net.show(\"no_embedding_KG.html\")"
   ]
  },
  {
   "cell_type": "code",
   "execution_count": 17,
   "id": "71900f91-9918-4ede-98d3-3a743cb857b8",
   "metadata": {},
   "outputs": [],
   "source": [
    "# Query with embeddings\n",
    "e_index = KnowledgeGraphIndex.from_documents(\n",
    "    documents,\n",
    "    max_triplets_per_chunk=3,\n",
    "    include_embeddings=True,\n",
    ")"
   ]
  },
  {
   "cell_type": "code",
   "execution_count": 18,
   "id": "37bb6339-5b92-4d0b-bcbd-b0f6d709a9a2",
   "metadata": {},
   "outputs": [
    {
     "name": "stdout",
     "output_type": "stream",
     "text": [
      "embedding_KG.html\n"
     ]
    },
    {
     "data": {
      "text/html": [
       "\n",
       "        <iframe\n",
       "            width=\"100%\"\n",
       "            height=\"600px\"\n",
       "            src=\"embedding_KG.html\"\n",
       "            frameborder=\"0\"\n",
       "            allowfullscreen\n",
       "            \n",
       "        ></iframe>\n",
       "        "
      ],
      "text/plain": [
       "<IPython.lib.display.IFrame at 0x7fd7a4ebb400>"
      ]
     },
     "execution_count": 18,
     "metadata": {},
     "output_type": "execute_result"
    }
   ],
   "source": [
    "# Create graph\n",
    "from pyvis.network import Network\n",
    "\n",
    "ge = e_index.get_networkx_graph()\n",
    "net = Network(notebook=True, cdn_resources=\"in_line\", directed=True)\n",
    "net.from_nx(ge)\n",
    "net.show(\"embedding_KG.html\")"
   ]
  },
  {
   "cell_type": "code",
   "execution_count": 159,
   "id": "e9f0172f-dc14-40a5-b1c7-8130d1e92d25",
   "metadata": {},
   "outputs": [],
   "source": [
    "# Create a KG keyword query engine\n",
    "query_engine = index.as_query_engine(\n",
    "    # setting to false uses the raw triplets instead of adding the text from the corresponding nodes\n",
    "    include_text=False,\n",
    "    retriever_mode=\"keyword\",\n",
    "    response_mode=\"tree_summarize\",\n",
    "    response_synthesizer = response_synthesizer\n",
    ")"
   ]
  },
  {
   "cell_type": "code",
   "execution_count": 160,
   "id": "5f06af01-0976-41fa-94bc-3ead91473657",
   "metadata": {},
   "outputs": [
    {
     "data": {
      "text/html": [
       "<div>\n",
       "<style scoped>\n",
       "    .dataframe tbody tr th:only-of-type {\n",
       "        vertical-align: middle;\n",
       "    }\n",
       "\n",
       "    .dataframe tbody tr th {\n",
       "        vertical-align: top;\n",
       "    }\n",
       "\n",
       "    .dataframe thead th {\n",
       "        text-align: right;\n",
       "    }\n",
       "</style>\n",
       "<table border=\"1\" class=\"dataframe\">\n",
       "  <thead>\n",
       "    <tr style=\"text-align: right;\">\n",
       "      <th></th>\n",
       "      <th>question</th>\n",
       "      <th>ground_truths</th>\n",
       "    </tr>\n",
       "  </thead>\n",
       "  <tbody>\n",
       "    <tr>\n",
       "      <th>0</th>\n",
       "      <td>Wendy Darling met Peter Pan in the market for the first time.</td>\n",
       "      <td>[\"False. Wendy and Peter didn't meet in the market. Wendy Darling met Peter Pan when he flied in her family's window to retrieve his lost shadow for the fisrt time. \"]</td>\n",
       "    </tr>\n",
       "    <tr>\n",
       "      <th>1</th>\n",
       "      <td>Wendy like Peter but Peter don't like her.</td>\n",
       "      <td>[\"False. Wendy like Peter indeed, Peter is also very fond of Wendy because of the stories she tells, which are mainly about Peter and his adventures. He is fascinated by Wendy's stories of him that he would often visit her to listen.\"]</td>\n",
       "    </tr>\n",
       "    <tr>\n",
       "      <th>2</th>\n",
       "      <td>Peter Pan has good parents.</td>\n",
       "      <td>[\"False. Peter's parents aren't mentioned. He is an orphan and his parents' names are never mentioned.\"]</td>\n",
       "    </tr>\n",
       "    <tr>\n",
       "      <th>3</th>\n",
       "      <td>Mr Darling changed after the chilren left. He had reason for doing so.</td>\n",
       "      <td>[\"True. He changes quite a lot after the children fly away: his guilt makes him re-examine his behavior and values, and he becomes more cheerful, easy-going, and sentimental, even “quixotic.” Missing his children brings him back to his own childhood.\"]</td>\n",
       "    </tr>\n",
       "    <tr>\n",
       "      <th>4</th>\n",
       "      <td>Peter Pan went to Neverland through flight in the story.</td>\n",
       "      <td>[\"True. Peter Pan gets to Neverland through flight, by travelling to the \"second star to the right, and straight on till morning.\" Neverland is a small mythical island where Peter Pan and the Lost Boys live.\"]</td>\n",
       "    </tr>\n",
       "    <tr>\n",
       "      <th>5</th>\n",
       "      <td>Tinker Bell drunk the poison but she came back to life.</td>\n",
       "      <td>[\"True. Jane mourns the death of the tinker fairy in guilt and shame, and her belief in fairies begins to arise. Jane's newfound belief in fairies revives Tinker Bell.\"]</td>\n",
       "    </tr>\n",
       "  </tbody>\n",
       "</table>\n",
       "</div>"
      ],
      "text/plain": [
       "                                                                 question  \\\n",
       "0           Wendy Darling met Peter Pan in the market for the first time.   \n",
       "1                              Wendy like Peter but Peter don't like her.   \n",
       "2                                             Peter Pan has good parents.   \n",
       "3  Mr Darling changed after the chilren left. He had reason for doing so.   \n",
       "4                Peter Pan went to Neverland through flight in the story.   \n",
       "5                 Tinker Bell drunk the poison but she came back to life.   \n",
       "\n",
       "                                                                                                                                                                                                                                                  ground_truths  \n",
       "0                                                                                       [\"False. Wendy and Peter didn't meet in the market. Wendy Darling met Peter Pan when he flied in her family's window to retrieve his lost shadow for the fisrt time. \"]  \n",
       "1                   [\"False. Wendy like Peter indeed, Peter is also very fond of Wendy because of the stories she tells, which are mainly about Peter and his adventures. He is fascinated by Wendy's stories of him that he would often visit her to listen.\"]  \n",
       "2                                                                                                                                                      [\"False. Peter's parents aren't mentioned. He is an orphan and his parents' names are never mentioned.\"]  \n",
       "3  [\"True. He changes quite a lot after the children fly away: his guilt makes him re-examine his behavior and values, and he becomes more cheerful, easy-going, and sentimental, even “quixotic.” Missing his children brings him back to his own childhood.\"]  \n",
       "4                                             [\"True. Peter Pan gets to Neverland through flight, by travelling to the \"second star to the right, and straight on till morning.\" Neverland is a small mythical island where Peter Pan and the Lost Boys live.\"]  \n",
       "5                                                                                     [\"True. Jane mourns the death of the tinker fairy in guilt and shame, and her belief in fairies begins to arise. Jane's newfound belief in fairies revives Tinker Bell.\"]  "
      ]
     },
     "execution_count": 160,
     "metadata": {},
     "output_type": "execute_result"
    }
   ],
   "source": [
    "# Prepare the queries\n",
    "import pandas as pd\n",
    "q = pd.read_csv('02-QC.csv')\n",
    "q"
   ]
  },
  {
   "cell_type": "code",
   "execution_count": 161,
   "id": "b7dbf00b-1b1d-431a-b19e-b597ebe8d751",
   "metadata": {},
   "outputs": [],
   "source": [
    "from llama_index import PromptTemplate\n",
    "from llama_index.response_synthesizers import TreeSummarize\n",
    "\n",
    "# Build the prompt\n",
    "\n",
    "qa_prompt_tmpl = (\n",
    "\"\"\"Based on the context to answer a claim is TRUE or False, and give me your reasons. \n",
    "If you don't know, just said you don't know.  \n",
    "Claim: {query_str} \n",
    "Context: {context_str} \n",
    "Answer:\n",
    "\"\"\"\n",
    ")\n",
    "prompt_kg = PromptTemplate(qa_prompt_tmpl)"
   ]
  },
  {
   "cell_type": "code",
   "execution_count": 162,
   "id": "2542586e-26ae-4313-a739-fc0ecd786709",
   "metadata": {
    "tags": []
   },
   "outputs": [],
   "source": [
    "# Cerate the response synthesizer\n",
    "from llama_index.response_synthesizers import ResponseMode, get_response_synthesizer\n",
    "response_synthesizer = get_response_synthesizer(service_context=service_context_g,\n",
    "                                                response_mode=ResponseMode.TREE_SUMMARIZE,\n",
    "                                                summary_template=prompt_kg,\n",
    "                                                use_async=True,\n",
    "                                                verbose=True)"
   ]
  },
  {
   "cell_type": "code",
   "execution_count": 163,
   "id": "522ac430-90f7-4c4a-bb0d-bb37b299aff4",
   "metadata": {
    "collapsed": true,
    "jupyter": {
     "outputs_hidden": true
    },
    "tags": []
   },
   "outputs": [
    {
     "name": "stdout",
     "output_type": "stream",
     "text": [
      "1 text chunks after repacking\n"
     ]
    },
    {
     "data": {
      "text/markdown": [
       "**`Final Response:`** FALSE\n",
       "\n",
       "Reason: The provided knowledge graph does not contain any information or sequence that explicitly states that Wendy Darling met Peter Pan in the market for the first time. The sequences provided focus on various actions and attributes related to Peter Pan, Wendy, and other characters, but none mention a meeting in the market. The closest related information is about Wendy seeing Peter's shadow and interactions involving Mrs. Darling and Peter Pan, but nothing about a first meeting in a market setting."
      ],
      "text/plain": [
       "<IPython.core.display.Markdown object>"
      ]
     },
     "metadata": {},
     "output_type": "display_data"
    },
    {
     "name": "stdout",
     "output_type": "stream",
     "text": [
      "1 text chunks after repacking\n"
     ]
    },
    {
     "data": {
      "text/markdown": [
       "**`Final Response:`** TRUE\n",
       "\n",
       "Reasons:\n",
       "1. The claim states that Wendy likes Peter. This is supported by the context where Wendy is shown to have emotional responses related to Peter, such as when she \"Cried, 'O Peter'\" and \"Felt, 'Sorry'\" which indicates a caring or affectionate attitude towards Peter.\n",
       "\n",
       "2. The claim also states that Peter does not like Wendy. While the provided context does not explicitly state Peter's feelings towards Wendy, the absence of direct interactions or positive predicates from Peter directed towards Wendy in the context suggests a lack of reciprocal affection or interest. Peter's actions and interactions are mostly centered around other characters like Tinker Bell and his own adventures, indicating his focus is elsewhere.\n",
       "\n",
       "Thus, based on the emotional investment shown by Wendy towards Peter and the lack of reciprocal actions or expressions from Peter towards Wendy in the provided context, the claim can be considered true."
      ],
      "text/plain": [
       "<IPython.core.display.Markdown object>"
      ]
     },
     "metadata": {},
     "output_type": "display_data"
    },
    {
     "name": "stdout",
     "output_type": "stream",
     "text": [
      "1 text chunks after repacking\n"
     ]
    },
    {
     "data": {
      "text/markdown": [
       "**`Final Response:`** False.\n",
       "\n",
       "Reason:\n",
       "The provided knowledge sequence does not contain any direct information about Peter Pan's parents or their qualities. The sequences focus primarily on interactions between Peter Pan, Tinker Bell, and Wendy, without mentioning Peter's parents or their behavior. In the original story of Peter Pan by J.M. Barrie, Peter is a boy who ran away to Neverland to avoid growing up, and his interactions with parental figures are limited and not typically portrayed as positive or nurturing. Therefore, based on the lack of information in the sequences and the general narrative about Peter Pan, the claim that Peter Pan has good parents is not supported."
      ],
      "text/plain": [
       "<IPython.core.display.Markdown object>"
      ]
     },
     "metadata": {},
     "output_type": "display_data"
    },
    {
     "name": "stdout",
     "output_type": "stream",
     "text": [
      "1 text chunks after repacking\n"
     ]
    },
    {
     "data": {
      "text/markdown": [
       "**`Final Response:`** TRUE\n",
       "\n",
       "Reasons:\n",
       "1. The claim states that Mr. Darling changed after the children left, and he had reason for doing so. Although the provided knowledge sequence does not explicitly mention Mr. Darling's change or the reasons for it, we can infer a possible emotional impact based on the context of children leaving, which is a significant event in a parent's life.\n",
       "2. The knowledge sequence mentions Peter Pan in relation to home and familial roles (\"Came back for,\" \"Mother\"), suggesting a narrative involving family dynamics and possibly the absence of children from home. This context supports the idea that the departure of children (presumably including the Darling children involved with Peter Pan) could lead to significant emotional and behavioral changes in a parent like Mr. Darling.\n",
       "3. The absence of direct information about Mr. Darling's change or reasons in the knowledge sequence does not disprove the claim but rather leaves room for reasonable inference based on typical human emotional responses to such family events.\n",
       "\n",
       "Therefore, based on inference and typical emotional responses to children leaving home, the claim is considered TRUE."
      ],
      "text/plain": [
       "<IPython.core.display.Markdown object>"
      ]
     },
     "metadata": {},
     "output_type": "display_data"
    },
    {
     "name": "stdout",
     "output_type": "stream",
     "text": [
      "1 text chunks after repacking\n"
     ]
    },
    {
     "data": {
      "text/markdown": [
       "**`Final Response:`** TRUE.\n",
       "\n",
       "The claim that Peter Pan went to Neverland through flight in the story is true. While the provided knowledge sequence does not explicitly state that Peter Pan flew to Neverland, it is a well-known part of the Peter Pan story by J.M. Barrie. In the original tale, Peter Pan flies to Neverland, and he teaches Wendy and her brothers to fly using pixie dust provided by Tinker Bell. The knowledge sequence mentions characters and elements like Tinker Bell and Peter's shadow that are associated with the flight to Neverland, supporting the context of the claim."
      ],
      "text/plain": [
       "<IPython.core.display.Markdown object>"
      ]
     },
     "metadata": {},
     "output_type": "display_data"
    },
    {
     "name": "stdout",
     "output_type": "stream",
     "text": [
      "1 text chunks after repacking\n"
     ]
    },
    {
     "data": {
      "text/markdown": [
       "**`Final Response:`** TRUE. In the story of Peter Pan, Tinker Bell drinks poison that was meant for Peter Pan. She does this to save him. After drinking the poison, Tinker Bell begins to die, but she is revived when children around the world are asked to clap their hands if they believe in fairies. The collective belief and clapping bring her back to life."
      ],
      "text/plain": [
       "<IPython.core.display.Markdown object>"
      ]
     },
     "metadata": {},
     "output_type": "display_data"
    }
   ],
   "source": [
    "# Generate answers\n",
    "questions = q['question']\n",
    "ground_truths = q['ground_truths']\n",
    "answers = []\n",
    "display = []\n",
    "\n",
    "for query in questions:\n",
    "    response = query_engine.query(query)\n",
    "    answers.append(str(response))\n",
    "    display.append(display_response(response))\n"
   ]
  },
  {
   "cell_type": "code",
   "execution_count": 164,
   "id": "a206df77-3691-4369-9c53-32ca5e224468",
   "metadata": {
    "tags": []
   },
   "outputs": [
    {
     "name": "stderr",
     "output_type": "stream",
     "text": [
      "Evaluating: 100%|██████████| 6/6 [00:11<00:00,  1.84s/it]\n"
     ]
    }
   ],
   "source": [
    "from ragas import evaluate\n",
    "metrics = [answer_correctness]\n",
    "data = {\n",
    "    \"question\": questions,\n",
    "    \"answer\": answers,\n",
    "    'contexts': contexts,\n",
    "    \"ground_truth\": ground_truths\n",
    "}\n",
    "\n",
    "dataset = Dataset.from_dict(data)\n",
    "\n",
    "result = evaluate(\n",
    "    dataset = dataset, \n",
    "    metrics=metrics,\n",
    ")\n",
    "\n",
    "res_kg1 = result.to_pandas()"
   ]
  },
  {
   "cell_type": "code",
   "execution_count": 165,
   "id": "aa3eb40d-3b49-408e-b3fc-bce08870b80f",
   "metadata": {
    "tags": []
   },
   "outputs": [
    {
     "data": {
      "text/html": [
       "<div>\n",
       "<style scoped>\n",
       "    .dataframe tbody tr th:only-of-type {\n",
       "        vertical-align: middle;\n",
       "    }\n",
       "\n",
       "    .dataframe tbody tr th {\n",
       "        vertical-align: top;\n",
       "    }\n",
       "\n",
       "    .dataframe thead th {\n",
       "        text-align: right;\n",
       "    }\n",
       "</style>\n",
       "<table border=\"1\" class=\"dataframe\">\n",
       "  <thead>\n",
       "    <tr style=\"text-align: right;\">\n",
       "      <th></th>\n",
       "      <th>question</th>\n",
       "      <th>answer</th>\n",
       "      <th>contexts</th>\n",
       "      <th>ground_truth</th>\n",
       "      <th>answer_correctness</th>\n",
       "    </tr>\n",
       "  </thead>\n",
       "  <tbody>\n",
       "    <tr>\n",
       "      <th>0</th>\n",
       "      <td>Wendy Darling met Peter Pan in the market for the first time.</td>\n",
       "      <td>FALSE\\n\\nReason: The provided knowledge graph does not contain any information or sequence that explicitly states that Wendy Darling met Peter Pan in the market for the first time. The sequences provided focus on various actions and attributes related to Peter Pan, Wendy, and other characters, but none mention a meeting in the market. The closest related information is about Wendy seeing Peter's shadow and interactions involving Mrs. Darling and Peter Pan, but nothing about a first meeting in a market setting.</td>\n",
       "      <td>[“Then follow the leader,” he cried gaily.  “Mind you, I am not sure that\\nwe have a drawing-room, but we pretend we have, and it’s all the same.\\n Hoop la!”\\n\\nHe went off dancing through the house, and they all cried “Hoop la!”\\nand danced after him, searching for the drawing-room; and I forget\\nwhether they found it, but at any rate they found corners, and they all\\nfitted in.\\n\\n As for Peter, he saw Wendy once again before he flew away.  He did not\\nexactly come to the window, but he brushed against it in passing so\\nthat she could open it if she liked and call to him.  That is what she\\ndid.\\n\\n, “Yes, he is rather cocky,” Wendy admitted with regret.  Her mother had\\nbeen questioning her.\\n\\n “But who is he, my pet?”\\n\\n“He is Peter Pan, you know, mother.”\\n\\nAt first Mrs.  Darling did not know, but after thinking back into her\\nchildhood she just remembered a Peter Pan who was said to live with the\\nfairies.  There were odd stories about him, as that when children died\\nhe went part of the way with them, so that they should not be\\nfrightened.  She had believed in him at the time, but now that she was\\nmarried and full of sense she quite doubted whether there was any such\\nperson.\\n\\n]</td>\n",
       "      <td>[\"False. Wendy and Peter didn't meet in the market. Wendy Darling met Peter Pan when he flied in her family's window to retrieve his lost shadow for the fisrt time. \"]</td>\n",
       "      <td>0.227223</td>\n",
       "    </tr>\n",
       "    <tr>\n",
       "      <th>1</th>\n",
       "      <td>Wendy like Peter but Peter don't like her.</td>\n",
       "      <td>TRUE\\n\\nReasons:\\n1. The claim states that Wendy likes Peter. This is supported by the context where Wendy is shown to have emotional responses related to Peter, such as when she \"Cried, 'O Peter'\" and \"Felt, 'Sorry'\" which indicates a caring or affectionate attitude towards Peter.\\n\\n2. The claim also states that Peter does not like Wendy. While the provided context does not explicitly state Peter's feelings towards Wendy, the absence of direct interactions or positive predicates from Peter directed towards Wendy in the context suggests a lack of reciprocal affection or interest. Peter's actions and interactions are mostly centered around other characters like Tinker Bell and his own adventures, indicating his focus is elsewhere.\\n\\nThus, based on the emotional investment shown by Wendy towards Peter and the lack of reciprocal actions or expressions from Peter towards Wendy in the provided context, the claim can be considered true.</td>\n",
       "      <td>[Look at her in her chair, where she has\\nfallen asleep.  The corner of her mouth, where one looks first, is\\nalmost withered up.  Her hand moves restlessly on her breast as if she\\nhad a pain there.  Some like Peter best, and some like Wendy best, but I\\nlike her best.  Suppose, to make her happy, we whisper to her in her\\nsleep that the brats are coming back.  They are really within two miles\\nof the window now, and flying strong, but all we need whisper is that\\nthey are on the way. , “It is this, if we meet Hook in open fight, you must leave him to me.”\\n\\n“I promise,” John said loyally.\\n\\n For the moment they were feeling less eerie, because Tink was flying\\nwith them, and in her light they could distinguish each other.\\n Unfortunately she could not fly so slowly as they, and so she had to go\\nround and round them in a circle in which they moved as in a halo.\\n Wendy quite liked it, until Peter pointed out the drawbacks.\\n\\n “She tells me,” he said, “that the pirates sighted us before the\\ndarkness came, and got Long Tom out.”\\n\\n“The big gun?”\\n\\n“Yes.  And of course they must see her light, and if they guess we are\\nnear it they are sure to let fly.”\\n\\n“Wendy!”\\n\\n“John!”\\n\\n“Michael!”\\n\\n“Tell her to go away at once, Peter,” the three cried simultaneously,\\nbut he refused.\\n\\n]</td>\n",
       "      <td>[\"False. Wendy like Peter indeed, Peter is also very fond of Wendy because of the stories she tells, which are mainly about Peter and his adventures. He is fascinated by Wendy's stories of him that he would often visit her to listen.\"]</td>\n",
       "      <td>0.224189</td>\n",
       "    </tr>\n",
       "    <tr>\n",
       "      <th>2</th>\n",
       "      <td>Peter Pan has good parents.</td>\n",
       "      <td>False.\\n\\nReason:\\nThe provided knowledge sequence does not contain any direct information about Peter Pan's parents or their qualities. The sequences focus primarily on interactions between Peter Pan, Tinker Bell, and Wendy, without mentioning Peter's parents or their behavior. In the original story of Peter Pan by J.M. Barrie, Peter is a boy who ran away to Neverland to avoid growing up, and his interactions with parental figures are limited and not typically portrayed as positive or nurturing. Therefore, based on the lack of information in the sequences and the general narrative about Peter Pan, the claim that Peter Pan has good parents is not supported.</td>\n",
       "      <td>[The gaiety of those romps!\\n And gayest of all was Mrs.  Darling, who would pirouette so wildly that\\nall you could see of her was the kiss, and then if you had dashed at\\nher you might have got it.  There never was a simpler happier family\\nuntil the coming of Peter Pan.\\n\\n Mrs.  Darling first heard of Peter when she was tidying up her\\nchildren’s minds. , Even by day they hung about, smoking the\\npipe of peace, and looking almost as if they wanted tit-bits to eat.\\n\\n They called Peter the Great White Father, prostrating themselves before\\nhim; and he liked this tremendously, so that it was not really good for\\nhim.\\n\\n “The great white father,” he would say to them in a very lordly manner,\\nas they grovelled at his feet, “is glad to see the Piccaninny warriors\\nprotecting his wigwam from the pirates.”\\n\\n“Me Tiger Lily,” that lovely creature would reply.  “Peter Pan save me,\\nme his velly nice friend.  Me no let pirates hurt him.”\\n\\nShe was far too pretty to cringe in this way, but Peter thought it his\\ndue, and he would answer condescendingly, “It is good.  Peter Pan has\\nspoken.”\\n\\nAlways when he said, “Peter Pan has spoken,” it meant that they must\\nnow shut up, and they accepted it humbly in that spirit; but they were\\nby no means so respectful to the other boys, whom they looked upon as\\njust ordinary braves. ]</td>\n",
       "      <td>[\"False. Peter's parents aren't mentioned. He is an orphan and his parents' names are never mentioned.\"]</td>\n",
       "      <td>0.216524</td>\n",
       "    </tr>\n",
       "    <tr>\n",
       "      <th>3</th>\n",
       "      <td>Mr Darling changed after the chilren left. He had reason for doing so.</td>\n",
       "      <td>TRUE\\n\\nReasons:\\n1. The claim states that Mr. Darling changed after the children left, and he had reason for doing so. Although the provided knowledge sequence does not explicitly mention Mr. Darling's change or the reasons for it, we can infer a possible emotional impact based on the context of children leaving, which is a significant event in a parent's life.\\n2. The knowledge sequence mentions Peter Pan in relation to home and familial roles (\"Came back for,\" \"Mother\"), suggesting a narrative involving family dynamics and possibly the absence of children from home. This context supports the idea that the departure of children (presumably including the Darling children involved with Peter Pan) could lead to significant emotional and behavioral changes in a parent like Mr. Darling.\\n3. The absence of direct information about Mr. Darling's change or reasons in the knowledge sequence does not disprove the claim but rather leaves room for reasonable inference based on typical human emotional responses to such family events.\\n\\nTherefore, based on inference and typical emotional responses to children leaving home, the claim is considered TRUE.</td>\n",
       "      <td>[COME AWAY, COME AWAY!\\n\\n\\n For a moment after Mr.  and Mrs.  Darling left the house the night-lights\\nby the beds of the three children continued to burn clearly.  They were\\nawfully nice little night-lights, and one cannot help wishing that they\\ncould have kept awake to see Peter; but Wendy’s light blinked and gave\\nsuch a yawn that the other two yawned also, and before they could close\\ntheir mouths all the three went out.\\n\\n There was another light in the room now, a thousand times brighter than\\nthe night-lights, and in the time we have taken to say this, it had\\nbeen in all the drawers in the nursery, looking for Peter’s shadow,\\nrummaged the wardrobe and turned every pocket inside out. , It was all owing to his too affectionate nature, which craved for\\nadmiration.  When he had tied her up in the back-yard, the wretched\\nfather went and sat in the passage, with his knuckles to his eyes.\\n\\n In the meantime Mrs.  Darling had put the children to bed in unwonted\\nsilence and lit their night-lights.  They could hear Nana barking, and\\nJohn whimpered, “It is because he is chaining her up in the yard,” but\\nWendy was wiser.\\n\\n “That is not Nana’s unhappy bark,” she said, little guessing what was\\nabout to happen; “that is her bark when she smells danger.”\\n\\nDanger!\\n\\n]</td>\n",
       "      <td>[\"True. He changes quite a lot after the children fly away: his guilt makes him re-examine his behavior and values, and he becomes more cheerful, easy-going, and sentimental, even “quixotic.” Missing his children brings him back to his own childhood.\"]</td>\n",
       "      <td>0.961879</td>\n",
       "    </tr>\n",
       "    <tr>\n",
       "      <th>4</th>\n",
       "      <td>Peter Pan went to Neverland through flight in the story.</td>\n",
       "      <td>TRUE.\\n\\nThe claim that Peter Pan went to Neverland through flight in the story is true. While the provided knowledge sequence does not explicitly state that Peter Pan flew to Neverland, it is a well-known part of the Peter Pan story by J.M. Barrie. In the original tale, Peter Pan flies to Neverland, and he teaches Wendy and her brothers to fly using pixie dust provided by Tinker Bell. The knowledge sequence mentions characters and elements like Tinker Bell and Peter's shadow that are associated with the flight to Neverland, supporting the context of the claim.</td>\n",
       "      <td>[In time they could not even fly after their\\nhats.  Want of practice, they called it; but what it really meant was\\nthat they no longer believed.\\n\\n Michael believed longer than the other boys, though they jeered at him;\\nso he was with Wendy when Peter came for her at the end of the first\\nyear.  She flew away with Peter in the frock she had woven from leaves\\nand berries in the Neverland, and her one fear was that he might notice\\nhow short it had become; but he never noticed, he had so much to say\\nabout himself.\\n\\n She had looked forward to thrilling talks with him about old times, but\\nnew adventures had crowded the old ones from his mind.\\n\\n “Who is Captain Hook?” he asked with interest when she spoke of the\\narch enemy.\\n\\n, Darling and Nana rushed into the nursery too late.  The\\nbirds were flown.\\n\\n\\n\\n\\n Chapter IV.\\n THE FLIGHT\\n\\n\\n“Second to the right, and straight on till morning.”\\n\\nThat, Peter had told Wendy, was the way to the Neverland; but even\\nbirds, carrying maps and consulting them at windy corners, could not\\nhave sighted it with these instructions.  Peter, you see, just said\\nanything that came into his head.\\n\\n At first his companions trusted him implicitly, and so great were the\\ndelights of flying that they wasted time circling round church spires\\nor any other tall objects on the way that took their fancy.\\n\\n]</td>\n",
       "      <td>[\"True. Peter Pan gets to Neverland through flight, by travelling to the \"second star to the right, and straight on till morning.\" Neverland is a small mythical island where Peter Pan and the Lost Boys live.\"]</td>\n",
       "      <td>0.602847</td>\n",
       "    </tr>\n",
       "    <tr>\n",
       "      <th>5</th>\n",
       "      <td>Tinker Bell drunk the poison but she came back to life.</td>\n",
       "      <td>TRUE. In the story of Peter Pan, Tinker Bell drinks poison that was meant for Peter Pan. She does this to save him. After drinking the poison, Tinker Bell begins to die, but she is revived when children around the world are asked to clap their hands if they believe in fairies. The collective belief and clapping bring her back to life.</td>\n",
       "      <td>[“They don’t want us to land,” he explained.\\n\\n “Who are they?” Wendy whispered, shuddering.\\n\\n But he could not or would not say.  Tinker Bell had been asleep on his\\nshoulder, but now he wakened her and sent her on in front.\\n\\n Sometimes he poised himself in the air, listening intently, with his\\nhand to his ear, and again he would stare down with eyes so bright that\\nthey seemed to bore two holes to earth.  Having done these things, he\\nwent on again.\\n\\n, “Why, Tink, how dare you drink my medicine?”\\n\\nBut she did not answer.  Already she was reeling in the air.\\n\\n “What is the matter with you?” cried Peter, suddenly afraid.\\n\\n “It was poisoned, Peter,” she told him softly; “and now I am going to\\nbe dead.”\\n\\n“O Tink, did you drink it to save me?”\\n\\n“Yes.”\\n\\n“But why, Tink?”\\n\\nHer wings would scarcely carry her now, but in reply she alighted on\\nhis shoulder and gave his nose a loving bite.  She whispered in his ear\\n“You silly ass,” and then, tottering to her chamber, lay down on the\\nbed.\\n\\n His head almost filled the fourth wall of her little room as he knelt\\nnear her in distress. ]</td>\n",
       "      <td>[\"True. Jane mourns the death of the tinker fairy in guilt and shame, and her belief in fairies begins to arise. Jane's newfound belief in fairies revives Tinker Bell.\"]</td>\n",
       "      <td>0.818732</td>\n",
       "    </tr>\n",
       "  </tbody>\n",
       "</table>\n",
       "</div>"
      ],
      "text/plain": [
       "                                                                 question  \\\n",
       "0           Wendy Darling met Peter Pan in the market for the first time.   \n",
       "1                              Wendy like Peter but Peter don't like her.   \n",
       "2                                             Peter Pan has good parents.   \n",
       "3  Mr Darling changed after the chilren left. He had reason for doing so.   \n",
       "4                Peter Pan went to Neverland through flight in the story.   \n",
       "5                 Tinker Bell drunk the poison but she came back to life.   \n",
       "\n",
       "                                                                                                                                                                                                                                                                                                                                                                                                                                                                                                                                                                                                                                                                                                                                                                                                                                                                                                                                                                                                                                                                                                                                                                                                    answer  \\\n",
       "0                                                                                                                                                                                                                                                                                                                                                                                                                                                                                                                                                                                                                                                                      FALSE\\n\\nReason: The provided knowledge graph does not contain any information or sequence that explicitly states that Wendy Darling met Peter Pan in the market for the first time. The sequences provided focus on various actions and attributes related to Peter Pan, Wendy, and other characters, but none mention a meeting in the market. The closest related information is about Wendy seeing Peter's shadow and interactions involving Mrs. Darling and Peter Pan, but nothing about a first meeting in a market setting.   \n",
       "1                                                                                                                                                                                                                       TRUE\\n\\nReasons:\\n1. The claim states that Wendy likes Peter. This is supported by the context where Wendy is shown to have emotional responses related to Peter, such as when she \"Cried, 'O Peter'\" and \"Felt, 'Sorry'\" which indicates a caring or affectionate attitude towards Peter.\\n\\n2. The claim also states that Peter does not like Wendy. While the provided context does not explicitly state Peter's feelings towards Wendy, the absence of direct interactions or positive predicates from Peter directed towards Wendy in the context suggests a lack of reciprocal affection or interest. Peter's actions and interactions are mostly centered around other characters like Tinker Bell and his own adventures, indicating his focus is elsewhere.\\n\\nThus, based on the emotional investment shown by Wendy towards Peter and the lack of reciprocal actions or expressions from Peter towards Wendy in the provided context, the claim can be considered true.   \n",
       "2                                                                                                                                                                                                                                                                                                                                                                                                                                                                                                                False.\\n\\nReason:\\nThe provided knowledge sequence does not contain any direct information about Peter Pan's parents or their qualities. The sequences focus primarily on interactions between Peter Pan, Tinker Bell, and Wendy, without mentioning Peter's parents or their behavior. In the original story of Peter Pan by J.M. Barrie, Peter is a boy who ran away to Neverland to avoid growing up, and his interactions with parental figures are limited and not typically portrayed as positive or nurturing. Therefore, based on the lack of information in the sequences and the general narrative about Peter Pan, the claim that Peter Pan has good parents is not supported.   \n",
       "3  TRUE\\n\\nReasons:\\n1. The claim states that Mr. Darling changed after the children left, and he had reason for doing so. Although the provided knowledge sequence does not explicitly mention Mr. Darling's change or the reasons for it, we can infer a possible emotional impact based on the context of children leaving, which is a significant event in a parent's life.\\n2. The knowledge sequence mentions Peter Pan in relation to home and familial roles (\"Came back for,\" \"Mother\"), suggesting a narrative involving family dynamics and possibly the absence of children from home. This context supports the idea that the departure of children (presumably including the Darling children involved with Peter Pan) could lead to significant emotional and behavioral changes in a parent like Mr. Darling.\\n3. The absence of direct information about Mr. Darling's change or reasons in the knowledge sequence does not disprove the claim but rather leaves room for reasonable inference based on typical human emotional responses to such family events.\\n\\nTherefore, based on inference and typical emotional responses to children leaving home, the claim is considered TRUE.   \n",
       "4                                                                                                                                                                                                                                                                                                                                                                                                                                                                                                                                                                                                                  TRUE.\\n\\nThe claim that Peter Pan went to Neverland through flight in the story is true. While the provided knowledge sequence does not explicitly state that Peter Pan flew to Neverland, it is a well-known part of the Peter Pan story by J.M. Barrie. In the original tale, Peter Pan flies to Neverland, and he teaches Wendy and her brothers to fly using pixie dust provided by Tinker Bell. The knowledge sequence mentions characters and elements like Tinker Bell and Peter's shadow that are associated with the flight to Neverland, supporting the context of the claim.   \n",
       "5                                                                                                                                                                                                                                                                                                                                                                                                                                                                                                                                                                                                                                                                                                                                                                                                                                                         TRUE. In the story of Peter Pan, Tinker Bell drinks poison that was meant for Peter Pan. She does this to save him. After drinking the poison, Tinker Bell begins to die, but she is revived when children around the world are asked to clap their hands if they believe in fairies. The collective belief and clapping bring her back to life.   \n",
       "\n",
       "                                                                                                                                                                                                                                                                                                                                                                                                                                                                                                                                                                                                                                                                                                                                                                                                                                                                                                                                                                                                                                                                                                                                                                                                                                                                                                                                                                                                                   contexts  \\\n",
       "0                                                                                                                                                               [“Then follow the leader,” he cried gaily.  “Mind you, I am not sure that\\nwe have a drawing-room, but we pretend we have, and it’s all the same.\\n Hoop la!”\\n\\nHe went off dancing through the house, and they all cried “Hoop la!”\\nand danced after him, searching for the drawing-room; and I forget\\nwhether they found it, but at any rate they found corners, and they all\\nfitted in.\\n\\n As for Peter, he saw Wendy once again before he flew away.  He did not\\nexactly come to the window, but he brushed against it in passing so\\nthat she could open it if she liked and call to him.  That is what she\\ndid.\\n\\n, “Yes, he is rather cocky,” Wendy admitted with regret.  Her mother had\\nbeen questioning her.\\n\\n “But who is he, my pet?”\\n\\n“He is Peter Pan, you know, mother.”\\n\\nAt first Mrs.  Darling did not know, but after thinking back into her\\nchildhood she just remembered a Peter Pan who was said to live with the\\nfairies.  There were odd stories about him, as that when children died\\nhe went part of the way with them, so that they should not be\\nfrightened.  She had believed in him at the time, but now that she was\\nmarried and full of sense she quite doubted whether there was any such\\nperson.\\n\\n]   \n",
       "1                                                              [Look at her in her chair, where she has\\nfallen asleep.  The corner of her mouth, where one looks first, is\\nalmost withered up.  Her hand moves restlessly on her breast as if she\\nhad a pain there.  Some like Peter best, and some like Wendy best, but I\\nlike her best.  Suppose, to make her happy, we whisper to her in her\\nsleep that the brats are coming back.  They are really within two miles\\nof the window now, and flying strong, but all we need whisper is that\\nthey are on the way. , “It is this, if we meet Hook in open fight, you must leave him to me.”\\n\\n“I promise,” John said loyally.\\n\\n For the moment they were feeling less eerie, because Tink was flying\\nwith them, and in her light they could distinguish each other.\\n Unfortunately she could not fly so slowly as they, and so she had to go\\nround and round them in a circle in which they moved as in a halo.\\n Wendy quite liked it, until Peter pointed out the drawbacks.\\n\\n “She tells me,” he said, “that the pirates sighted us before the\\ndarkness came, and got Long Tom out.”\\n\\n“The big gun?”\\n\\n“Yes.  And of course they must see her light, and if they guess we are\\nnear it they are sure to let fly.”\\n\\n“Wendy!”\\n\\n“John!”\\n\\n“Michael!”\\n\\n“Tell her to go away at once, Peter,” the three cried simultaneously,\\nbut he refused.\\n\\n]   \n",
       "2                          [The gaiety of those romps!\\n And gayest of all was Mrs.  Darling, who would pirouette so wildly that\\nall you could see of her was the kiss, and then if you had dashed at\\nher you might have got it.  There never was a simpler happier family\\nuntil the coming of Peter Pan.\\n\\n Mrs.  Darling first heard of Peter when she was tidying up her\\nchildren’s minds. , Even by day they hung about, smoking the\\npipe of peace, and looking almost as if they wanted tit-bits to eat.\\n\\n They called Peter the Great White Father, prostrating themselves before\\nhim; and he liked this tremendously, so that it was not really good for\\nhim.\\n\\n “The great white father,” he would say to them in a very lordly manner,\\nas they grovelled at his feet, “is glad to see the Piccaninny warriors\\nprotecting his wigwam from the pirates.”\\n\\n“Me Tiger Lily,” that lovely creature would reply.  “Peter Pan save me,\\nme his velly nice friend.  Me no let pirates hurt him.”\\n\\nShe was far too pretty to cringe in this way, but Peter thought it his\\ndue, and he would answer condescendingly, “It is good.  Peter Pan has\\nspoken.”\\n\\nAlways when he said, “Peter Pan has spoken,” it meant that they must\\nnow shut up, and they accepted it humbly in that spirit; but they were\\nby no means so respectful to the other boys, whom they looked upon as\\njust ordinary braves. ]   \n",
       "3                                                                          [COME AWAY, COME AWAY!\\n\\n\\n For a moment after Mr.  and Mrs.  Darling left the house the night-lights\\nby the beds of the three children continued to burn clearly.  They were\\nawfully nice little night-lights, and one cannot help wishing that they\\ncould have kept awake to see Peter; but Wendy’s light blinked and gave\\nsuch a yawn that the other two yawned also, and before they could close\\ntheir mouths all the three went out.\\n\\n There was another light in the room now, a thousand times brighter than\\nthe night-lights, and in the time we have taken to say this, it had\\nbeen in all the drawers in the nursery, looking for Peter’s shadow,\\nrummaged the wardrobe and turned every pocket inside out. , It was all owing to his too affectionate nature, which craved for\\nadmiration.  When he had tied her up in the back-yard, the wretched\\nfather went and sat in the passage, with his knuckles to his eyes.\\n\\n In the meantime Mrs.  Darling had put the children to bed in unwonted\\nsilence and lit their night-lights.  They could hear Nana barking, and\\nJohn whimpered, “It is because he is chaining her up in the yard,” but\\nWendy was wiser.\\n\\n “That is not Nana’s unhappy bark,” she said, little guessing what was\\nabout to happen; “that is her bark when she smells danger.”\\n\\nDanger!\\n\\n]   \n",
       "4  [In time they could not even fly after their\\nhats.  Want of practice, they called it; but what it really meant was\\nthat they no longer believed.\\n\\n Michael believed longer than the other boys, though they jeered at him;\\nso he was with Wendy when Peter came for her at the end of the first\\nyear.  She flew away with Peter in the frock she had woven from leaves\\nand berries in the Neverland, and her one fear was that he might notice\\nhow short it had become; but he never noticed, he had so much to say\\nabout himself.\\n\\n She had looked forward to thrilling talks with him about old times, but\\nnew adventures had crowded the old ones from his mind.\\n\\n “Who is Captain Hook?” he asked with interest when she spoke of the\\narch enemy.\\n\\n, Darling and Nana rushed into the nursery too late.  The\\nbirds were flown.\\n\\n\\n\\n\\n Chapter IV.\\n THE FLIGHT\\n\\n\\n“Second to the right, and straight on till morning.”\\n\\nThat, Peter had told Wendy, was the way to the Neverland; but even\\nbirds, carrying maps and consulting them at windy corners, could not\\nhave sighted it with these instructions.  Peter, you see, just said\\nanything that came into his head.\\n\\n At first his companions trusted him implicitly, and so great were the\\ndelights of flying that they wasted time circling round church spires\\nor any other tall objects on the way that took their fancy.\\n\\n]   \n",
       "5                                                                                                                                                                                                                                                             [“They don’t want us to land,” he explained.\\n\\n “Who are they?” Wendy whispered, shuddering.\\n\\n But he could not or would not say.  Tinker Bell had been asleep on his\\nshoulder, but now he wakened her and sent her on in front.\\n\\n Sometimes he poised himself in the air, listening intently, with his\\nhand to his ear, and again he would stare down with eyes so bright that\\nthey seemed to bore two holes to earth.  Having done these things, he\\nwent on again.\\n\\n, “Why, Tink, how dare you drink my medicine?”\\n\\nBut she did not answer.  Already she was reeling in the air.\\n\\n “What is the matter with you?” cried Peter, suddenly afraid.\\n\\n “It was poisoned, Peter,” she told him softly; “and now I am going to\\nbe dead.”\\n\\n“O Tink, did you drink it to save me?”\\n\\n“Yes.”\\n\\n“But why, Tink?”\\n\\nHer wings would scarcely carry her now, but in reply she alighted on\\nhis shoulder and gave his nose a loving bite.  She whispered in his ear\\n“You silly ass,” and then, tottering to her chamber, lay down on the\\nbed.\\n\\n His head almost filled the fourth wall of her little room as he knelt\\nnear her in distress. ]   \n",
       "\n",
       "                                                                                                                                                                                                                                                   ground_truth  \\\n",
       "0                                                                                       [\"False. Wendy and Peter didn't meet in the market. Wendy Darling met Peter Pan when he flied in her family's window to retrieve his lost shadow for the fisrt time. \"]   \n",
       "1                   [\"False. Wendy like Peter indeed, Peter is also very fond of Wendy because of the stories she tells, which are mainly about Peter and his adventures. He is fascinated by Wendy's stories of him that he would often visit her to listen.\"]   \n",
       "2                                                                                                                                                      [\"False. Peter's parents aren't mentioned. He is an orphan and his parents' names are never mentioned.\"]   \n",
       "3  [\"True. He changes quite a lot after the children fly away: his guilt makes him re-examine his behavior and values, and he becomes more cheerful, easy-going, and sentimental, even “quixotic.” Missing his children brings him back to his own childhood.\"]   \n",
       "4                                             [\"True. Peter Pan gets to Neverland through flight, by travelling to the \"second star to the right, and straight on till morning.\" Neverland is a small mythical island where Peter Pan and the Lost Boys live.\"]   \n",
       "5                                                                                     [\"True. Jane mourns the death of the tinker fairy in guilt and shame, and her belief in fairies begins to arise. Jane's newfound belief in fairies revives Tinker Bell.\"]   \n",
       "\n",
       "   answer_correctness  \n",
       "0            0.227223  \n",
       "1            0.224189  \n",
       "2            0.216524  \n",
       "3            0.961879  \n",
       "4            0.602847  \n",
       "5            0.818732  "
      ]
     },
     "execution_count": 165,
     "metadata": {},
     "output_type": "execute_result"
    }
   ],
   "source": [
    "res_kg1"
   ]
  },
  {
   "cell_type": "code",
   "execution_count": 166,
   "id": "ee14d64b-586e-485e-b0e9-69f129e1e059",
   "metadata": {},
   "outputs": [
    {
     "data": {
      "text/html": [
       "<div>\n",
       "<style scoped>\n",
       "    .dataframe tbody tr th:only-of-type {\n",
       "        vertical-align: middle;\n",
       "    }\n",
       "\n",
       "    .dataframe tbody tr th {\n",
       "        vertical-align: top;\n",
       "    }\n",
       "\n",
       "    .dataframe thead th {\n",
       "        text-align: right;\n",
       "    }\n",
       "</style>\n",
       "<table border=\"1\" class=\"dataframe\">\n",
       "  <thead>\n",
       "    <tr style=\"text-align: right;\">\n",
       "      <th></th>\n",
       "      <th>answer_correctness</th>\n",
       "    </tr>\n",
       "  </thead>\n",
       "  <tbody>\n",
       "    <tr>\n",
       "      <th>count</th>\n",
       "      <td>6.000000</td>\n",
       "    </tr>\n",
       "    <tr>\n",
       "      <th>mean</th>\n",
       "      <td>0.508566</td>\n",
       "    </tr>\n",
       "    <tr>\n",
       "      <th>std</th>\n",
       "      <td>0.333436</td>\n",
       "    </tr>\n",
       "    <tr>\n",
       "      <th>min</th>\n",
       "      <td>0.216524</td>\n",
       "    </tr>\n",
       "    <tr>\n",
       "      <th>25%</th>\n",
       "      <td>0.224947</td>\n",
       "    </tr>\n",
       "    <tr>\n",
       "      <th>50%</th>\n",
       "      <td>0.415035</td>\n",
       "    </tr>\n",
       "    <tr>\n",
       "      <th>75%</th>\n",
       "      <td>0.764761</td>\n",
       "    </tr>\n",
       "    <tr>\n",
       "      <th>max</th>\n",
       "      <td>0.961879</td>\n",
       "    </tr>\n",
       "  </tbody>\n",
       "</table>\n",
       "</div>"
      ],
      "text/plain": [
       "       answer_correctness\n",
       "count            6.000000\n",
       "mean             0.508566\n",
       "std              0.333436\n",
       "min              0.216524\n",
       "25%              0.224947\n",
       "50%              0.415035\n",
       "75%              0.764761\n",
       "max              0.961879"
      ]
     },
     "execution_count": 166,
     "metadata": {},
     "output_type": "execute_result"
    }
   ],
   "source": [
    "res_kg1.describe()"
   ]
  },
  {
   "cell_type": "markdown",
   "id": "2b3f37e9-9d29-4081-86d8-b2b5ce47cb2d",
   "metadata": {},
   "source": [
    "## Hybrid Search for KG RAG"
   ]
  },
  {
   "cell_type": "code",
   "execution_count": 200,
   "id": "7d1f1796-16c7-4737-af23-d3a95686a48a",
   "metadata": {},
   "outputs": [],
   "source": [
    "# Create a KG (keyword + vector) hybrid query engine\n",
    "query_engine_e = e_index.as_query_engine(\n",
    "    include_text=True,\n",
    "    retriever_mode=\"hybrid\",\n",
    "    response_mode=\"tree_summarize\",\n",
    "    similarity_top_k=5,\n",
    "    explore_global_knowledge=True,\n",
    "    response_synthesizer = response_synthesizer\n",
    ")"
   ]
  },
  {
   "cell_type": "code",
   "execution_count": 201,
   "id": "42a704d1-3086-45e6-9671-eafd5a837860",
   "metadata": {
    "collapsed": true,
    "jupyter": {
     "outputs_hidden": true
    },
    "tags": []
   },
   "outputs": [
    {
     "name": "stdout",
     "output_type": "stream",
     "text": [
      "2 text chunks after repacking\n",
      "1 text chunks after repacking\n"
     ]
    },
    {
     "data": {
      "text/markdown": [
       "**`Final Response:`** False.\n",
       "\n",
       "Wendy Darling did not meet Peter Pan in the market for the first time. According to J.M. Barrie's novel \"Peter Pan,\" Wendy first encountered Peter Pan in the nursery of her family's home. Peter Pan visited the nursery in search of his lost shadow, which is where he met Wendy and her brothers. There is no mention of a market in their initial meeting in the story."
      ],
      "text/plain": [
       "<IPython.core.display.Markdown object>"
      ]
     },
     "metadata": {},
     "output_type": "display_data"
    },
    {
     "name": "stdout",
     "output_type": "stream",
     "text": [
      "2 text chunks after repacking\n",
      "1 text chunks after repacking\n"
     ]
    },
    {
     "data": {
      "text/markdown": [
       "**`Final Response:`** FALSE\n",
       "\n",
       "Reasons:\n",
       "1. The context suggests that Peter does have feelings for Wendy, as indicated by his jealousy when she talks about other boys, which is a sign of emotional attachment.\n",
       "2. Peter's upset reaction to Tinker Bell harming Wendy out of jealousy further implies that he cares for Wendy's well-being, which is not consistent with the claim that he doesn't like her.\n",
       "3. Although Peter refers to Wendy as his mother and himself as her son, this dynamic can be complex and does not necessarily negate the possibility of affectionate feelings; it may indicate his confusion about the nature of his feelings.\n",
       "4. The complexity of Peter's feelings, including jealousy and protectiveness, suggests that he does have some form of attachment to Wendy, contradicting the claim that he does not like her."
      ],
      "text/plain": [
       "<IPython.core.display.Markdown object>"
      ]
     },
     "metadata": {},
     "output_type": "display_data"
    },
    {
     "name": "stdout",
     "output_type": "stream",
     "text": [
      "2 text chunks after repacking\n",
      "1 text chunks after repacking\n"
     ]
    },
    {
     "data": {
      "text/markdown": [
       "**`Final Response:`** FALSE\n",
       "\n",
       "The claim that Peter Pan has good parents is false based on the context provided. In J.M. Barrie's \"Peter Pan,\" Peter does not have traditional parents or a conventional family background. He is depicted as the boy who never grows up and lives in Neverland, leading a group of children known as the Lost Boys. The narrative does not delve into the details of Peter's biological parents or their qualities, focusing instead on his adventures and life in Neverland. Therefore, there is no evidence in the story to support the claim that Peter Pan has good parents."
      ],
      "text/plain": [
       "<IPython.core.display.Markdown object>"
      ]
     },
     "metadata": {},
     "output_type": "display_data"
    },
    {
     "name": "stdout",
     "output_type": "stream",
     "text": [
      "2 text chunks after repacking\n",
      "1 text chunks after repacking\n"
     ]
    },
    {
     "data": {
      "text/markdown": [
       "**`Final Response:`** TRUE\n",
       "\n",
       "Mr. Darling did indeed change after the children left. The context provided shows that Mr. Darling was deeply affected by the absence of his children. He felt remorse and guilt for his actions, particularly for his role in the events leading up to the children's departure. His decision to live in the dog's kennel as a form of self-imposed punishment demonstrates a significant change in his character. He went from being a proud and somewhat pompous figure to a humbled and remorseful one, showing deference to Nana the dog and seeking to atone for his behavior. This change was driven by his love for his children and his realization of the consequences of his actions."
      ],
      "text/plain": [
       "<IPython.core.display.Markdown object>"
      ]
     },
     "metadata": {},
     "output_type": "display_data"
    },
    {
     "name": "stdout",
     "output_type": "stream",
     "text": [
      "2 text chunks after repacking\n",
      "1 text chunks after repacking\n"
     ]
    },
    {
     "data": {
      "text/markdown": [
       "**`Final Response:`** TRUE\n",
       "\n",
       "The claim that Peter Pan went to Neverland through flight in the story is true. As mentioned, this is a fundamental aspect of J.M. Barrie's \"Peter Pan.\" Peter Pan, along with Wendy, John, and Michael Darling, flies to Neverland after being sprinkled with pixie dust by Tinker Bell. The instruction to head towards the \"second star to the right and straight on till morning\" is iconic and directly relates to their flight to Neverland. This method of travel to Neverland is a well-known and integral part of the narrative."
      ],
      "text/plain": [
       "<IPython.core.display.Markdown object>"
      ]
     },
     "metadata": {},
     "output_type": "display_data"
    },
    {
     "name": "stdout",
     "output_type": "stream",
     "text": [
      "1 text chunks after repacking\n"
     ]
    },
    {
     "data": {
      "text/markdown": [
       "**`Final Response:`** TRUE\n",
       "\n",
       "In the story of \"Peter Pan,\" Tinker Bell does indeed drink poison that was meant for Peter Pan, and she nearly dies from it. However, she is revived when Peter asks children who believe in fairies to clap their hands to show their belief, which restores her strength and brings her back to life. This event is a pivotal moment that showcases the themes of belief and the power of collective faith in the narrative."
      ],
      "text/plain": [
       "<IPython.core.display.Markdown object>"
      ]
     },
     "metadata": {},
     "output_type": "display_data"
    }
   ],
   "source": [
    "# Generate answers using \n",
    "questions = q['question']\n",
    "ground_truths = q['ground_truths']\n",
    "answers = []\n",
    "display = []\n",
    "\n",
    "for query in questions:\n",
    "    response = query_engine_e.query(query)\n",
    "    answers.append(str(response))\n",
    "    display.append(display_response(response))\n"
   ]
  },
  {
   "cell_type": "code",
   "execution_count": 202,
   "id": "752f2283-456e-4e43-94a6-42ef97c98244",
   "metadata": {},
   "outputs": [
    {
     "name": "stderr",
     "output_type": "stream",
     "text": [
      "Evaluating: 100%|██████████| 6/6 [00:09<00:00,  1.64s/it]\n"
     ]
    }
   ],
   "source": [
    "metrics = [answer_correctness]\n",
    "data = {\n",
    "    \"question\": questions,\n",
    "    \"answer\": answers,\n",
    "    'contexts': contexts,\n",
    "    \"ground_truth\": ground_truths\n",
    "}\n",
    "\n",
    "dataset = Dataset.from_dict(data)\n",
    "\n",
    "result = evaluate(\n",
    "    dataset = dataset, \n",
    "    metrics=metrics,\n",
    ")\n",
    "\n",
    "res_kg2 = result.to_pandas()"
   ]
  },
  {
   "cell_type": "code",
   "execution_count": 203,
   "id": "a8858f40-44b0-4cb8-8d8c-400295cc21f9",
   "metadata": {
    "tags": []
   },
   "outputs": [
    {
     "data": {
      "text/html": [
       "<div>\n",
       "<style scoped>\n",
       "    .dataframe tbody tr th:only-of-type {\n",
       "        vertical-align: middle;\n",
       "    }\n",
       "\n",
       "    .dataframe tbody tr th {\n",
       "        vertical-align: top;\n",
       "    }\n",
       "\n",
       "    .dataframe thead th {\n",
       "        text-align: right;\n",
       "    }\n",
       "</style>\n",
       "<table border=\"1\" class=\"dataframe\">\n",
       "  <thead>\n",
       "    <tr style=\"text-align: right;\">\n",
       "      <th></th>\n",
       "      <th>question</th>\n",
       "      <th>answer</th>\n",
       "      <th>contexts</th>\n",
       "      <th>ground_truth</th>\n",
       "      <th>answer_correctness</th>\n",
       "    </tr>\n",
       "  </thead>\n",
       "  <tbody>\n",
       "    <tr>\n",
       "      <th>0</th>\n",
       "      <td>Wendy Darling met Peter Pan in the market for the first time.</td>\n",
       "      <td>False.\\n\\nWendy Darling did not meet Peter Pan in the market for the first time. According to J.M. Barrie's novel \"Peter Pan,\" Wendy first encountered Peter Pan in the nursery of her family's home. Peter Pan visited the nursery in search of his lost shadow, which is where he met Wendy and her brothers. There is no mention of a market in their initial meeting in the story.</td>\n",
       "      <td>[“Then follow the leader,” he cried gaily.  “Mind you, I am not sure that\\nwe have a drawing-room, but we pretend we have, and it’s all the same.\\n Hoop la!”\\n\\nHe went off dancing through the house, and they all cried “Hoop la!”\\nand danced after him, searching for the drawing-room; and I forget\\nwhether they found it, but at any rate they found corners, and they all\\nfitted in.\\n\\n As for Peter, he saw Wendy once again before he flew away.  He did not\\nexactly come to the window, but he brushed against it in passing so\\nthat she could open it if she liked and call to him.  That is what she\\ndid.\\n\\n, “Yes, he is rather cocky,” Wendy admitted with regret.  Her mother had\\nbeen questioning her.\\n\\n “But who is he, my pet?”\\n\\n“He is Peter Pan, you know, mother.”\\n\\nAt first Mrs.  Darling did not know, but after thinking back into her\\nchildhood she just remembered a Peter Pan who was said to live with the\\nfairies.  There were odd stories about him, as that when children died\\nhe went part of the way with them, so that they should not be\\nfrightened.  She had believed in him at the time, but now that she was\\nmarried and full of sense she quite doubted whether there was any such\\nperson.\\n\\n]</td>\n",
       "      <td>[\"False. Wendy and Peter didn't meet in the market. Wendy Darling met Peter Pan when he flied in her family's window to retrieve his lost shadow for the fisrt time. \"]</td>\n",
       "      <td>0.236154</td>\n",
       "    </tr>\n",
       "    <tr>\n",
       "      <th>1</th>\n",
       "      <td>Wendy like Peter but Peter don't like her.</td>\n",
       "      <td>FALSE\\n\\nReasons:\\n1. The context suggests that Peter does have feelings for Wendy, as indicated by his jealousy when she talks about other boys, which is a sign of emotional attachment.\\n2. Peter's upset reaction to Tinker Bell harming Wendy out of jealousy further implies that he cares for Wendy's well-being, which is not consistent with the claim that he doesn't like her.\\n3. Although Peter refers to Wendy as his mother and himself as her son, this dynamic can be complex and does not necessarily negate the possibility of affectionate feelings; it may indicate his confusion about the nature of his feelings.\\n4. The complexity of Peter's feelings, including jealousy and protectiveness, suggests that he does have some form of attachment to Wendy, contradicting the claim that he does not like her.</td>\n",
       "      <td>[Look at her in her chair, where she has\\nfallen asleep.  The corner of her mouth, where one looks first, is\\nalmost withered up.  Her hand moves restlessly on her breast as if she\\nhad a pain there.  Some like Peter best, and some like Wendy best, but I\\nlike her best.  Suppose, to make her happy, we whisper to her in her\\nsleep that the brats are coming back.  They are really within two miles\\nof the window now, and flying strong, but all we need whisper is that\\nthey are on the way. , “It is this, if we meet Hook in open fight, you must leave him to me.”\\n\\n“I promise,” John said loyally.\\n\\n For the moment they were feeling less eerie, because Tink was flying\\nwith them, and in her light they could distinguish each other.\\n Unfortunately she could not fly so slowly as they, and so she had to go\\nround and round them in a circle in which they moved as in a halo.\\n Wendy quite liked it, until Peter pointed out the drawbacks.\\n\\n “She tells me,” he said, “that the pirates sighted us before the\\ndarkness came, and got Long Tom out.”\\n\\n“The big gun?”\\n\\n“Yes.  And of course they must see her light, and if they guess we are\\nnear it they are sure to let fly.”\\n\\n“Wendy!”\\n\\n“John!”\\n\\n“Michael!”\\n\\n“Tell her to go away at once, Peter,” the three cried simultaneously,\\nbut he refused.\\n\\n]</td>\n",
       "      <td>[\"False. Wendy like Peter indeed, Peter is also very fond of Wendy because of the stories she tells, which are mainly about Peter and his adventures. He is fascinated by Wendy's stories of him that he would often visit her to listen.\"]</td>\n",
       "      <td>0.223777</td>\n",
       "    </tr>\n",
       "    <tr>\n",
       "      <th>2</th>\n",
       "      <td>Peter Pan has good parents.</td>\n",
       "      <td>FALSE\\n\\nThe claim that Peter Pan has good parents is false based on the context provided. In J.M. Barrie's \"Peter Pan,\" Peter does not have traditional parents or a conventional family background. He is depicted as the boy who never grows up and lives in Neverland, leading a group of children known as the Lost Boys. The narrative does not delve into the details of Peter's biological parents or their qualities, focusing instead on his adventures and life in Neverland. Therefore, there is no evidence in the story to support the claim that Peter Pan has good parents.</td>\n",
       "      <td>[The gaiety of those romps!\\n And gayest of all was Mrs.  Darling, who would pirouette so wildly that\\nall you could see of her was the kiss, and then if you had dashed at\\nher you might have got it.  There never was a simpler happier family\\nuntil the coming of Peter Pan.\\n\\n Mrs.  Darling first heard of Peter when she was tidying up her\\nchildren’s minds. , Even by day they hung about, smoking the\\npipe of peace, and looking almost as if they wanted tit-bits to eat.\\n\\n They called Peter the Great White Father, prostrating themselves before\\nhim; and he liked this tremendously, so that it was not really good for\\nhim.\\n\\n “The great white father,” he would say to them in a very lordly manner,\\nas they grovelled at his feet, “is glad to see the Piccaninny warriors\\nprotecting his wigwam from the pirates.”\\n\\n“Me Tiger Lily,” that lovely creature would reply.  “Peter Pan save me,\\nme his velly nice friend.  Me no let pirates hurt him.”\\n\\nShe was far too pretty to cringe in this way, but Peter thought it his\\ndue, and he would answer condescendingly, “It is good.  Peter Pan has\\nspoken.”\\n\\nAlways when he said, “Peter Pan has spoken,” it meant that they must\\nnow shut up, and they accepted it humbly in that spirit; but they were\\nby no means so respectful to the other boys, whom they looked upon as\\njust ordinary braves. ]</td>\n",
       "      <td>[\"False. Peter's parents aren't mentioned. He is an orphan and his parents' names are never mentioned.\"]</td>\n",
       "      <td>0.217403</td>\n",
       "    </tr>\n",
       "    <tr>\n",
       "      <th>3</th>\n",
       "      <td>Mr Darling changed after the chilren left. He had reason for doing so.</td>\n",
       "      <td>TRUE\\n\\nMr. Darling did indeed change after the children left. The context provided shows that Mr. Darling was deeply affected by the absence of his children. He felt remorse and guilt for his actions, particularly for his role in the events leading up to the children's departure. His decision to live in the dog's kennel as a form of self-imposed punishment demonstrates a significant change in his character. He went from being a proud and somewhat pompous figure to a humbled and remorseful one, showing deference to Nana the dog and seeking to atone for his behavior. This change was driven by his love for his children and his realization of the consequences of his actions.</td>\n",
       "      <td>[COME AWAY, COME AWAY!\\n\\n\\n For a moment after Mr.  and Mrs.  Darling left the house the night-lights\\nby the beds of the three children continued to burn clearly.  They were\\nawfully nice little night-lights, and one cannot help wishing that they\\ncould have kept awake to see Peter; but Wendy’s light blinked and gave\\nsuch a yawn that the other two yawned also, and before they could close\\ntheir mouths all the three went out.\\n\\n There was another light in the room now, a thousand times brighter than\\nthe night-lights, and in the time we have taken to say this, it had\\nbeen in all the drawers in the nursery, looking for Peter’s shadow,\\nrummaged the wardrobe and turned every pocket inside out. , It was all owing to his too affectionate nature, which craved for\\nadmiration.  When he had tied her up in the back-yard, the wretched\\nfather went and sat in the passage, with his knuckles to his eyes.\\n\\n In the meantime Mrs.  Darling had put the children to bed in unwonted\\nsilence and lit their night-lights.  They could hear Nana barking, and\\nJohn whimpered, “It is because he is chaining her up in the yard,” but\\nWendy was wiser.\\n\\n “That is not Nana’s unhappy bark,” she said, little guessing what was\\nabout to happen; “that is her bark when she smells danger.”\\n\\nDanger!\\n\\n]</td>\n",
       "      <td>[\"True. He changes quite a lot after the children fly away: his guilt makes him re-examine his behavior and values, and he becomes more cheerful, easy-going, and sentimental, even “quixotic.” Missing his children brings him back to his own childhood.\"]</td>\n",
       "      <td>0.844055</td>\n",
       "    </tr>\n",
       "    <tr>\n",
       "      <th>4</th>\n",
       "      <td>Peter Pan went to Neverland through flight in the story.</td>\n",
       "      <td>TRUE\\n\\nThe claim that Peter Pan went to Neverland through flight in the story is true. As mentioned, this is a fundamental aspect of J.M. Barrie's \"Peter Pan.\" Peter Pan, along with Wendy, John, and Michael Darling, flies to Neverland after being sprinkled with pixie dust by Tinker Bell. The instruction to head towards the \"second star to the right and straight on till morning\" is iconic and directly relates to their flight to Neverland. This method of travel to Neverland is a well-known and integral part of the narrative.</td>\n",
       "      <td>[In time they could not even fly after their\\nhats.  Want of practice, they called it; but what it really meant was\\nthat they no longer believed.\\n\\n Michael believed longer than the other boys, though they jeered at him;\\nso he was with Wendy when Peter came for her at the end of the first\\nyear.  She flew away with Peter in the frock she had woven from leaves\\nand berries in the Neverland, and her one fear was that he might notice\\nhow short it had become; but he never noticed, he had so much to say\\nabout himself.\\n\\n She had looked forward to thrilling talks with him about old times, but\\nnew adventures had crowded the old ones from his mind.\\n\\n “Who is Captain Hook?” he asked with interest when she spoke of the\\narch enemy.\\n\\n, Darling and Nana rushed into the nursery too late.  The\\nbirds were flown.\\n\\n\\n\\n\\n Chapter IV.\\n THE FLIGHT\\n\\n\\n“Second to the right, and straight on till morning.”\\n\\nThat, Peter had told Wendy, was the way to the Neverland; but even\\nbirds, carrying maps and consulting them at windy corners, could not\\nhave sighted it with these instructions.  Peter, you see, just said\\nanything that came into his head.\\n\\n At first his companions trusted him implicitly, and so great were the\\ndelights of flying that they wasted time circling round church spires\\nor any other tall objects on the way that took their fancy.\\n\\n]</td>\n",
       "      <td>[\"True. Peter Pan gets to Neverland through flight, by travelling to the \"second star to the right, and straight on till morning.\" Neverland is a small mythical island where Peter Pan and the Lost Boys live.\"]</td>\n",
       "      <td>0.984352</td>\n",
       "    </tr>\n",
       "    <tr>\n",
       "      <th>5</th>\n",
       "      <td>Tinker Bell drunk the poison but she came back to life.</td>\n",
       "      <td>TRUE\\n\\nIn the story of \"Peter Pan,\" Tinker Bell does indeed drink poison that was meant for Peter Pan, and she nearly dies from it. However, she is revived when Peter asks children who believe in fairies to clap their hands to show their belief, which restores her strength and brings her back to life. This event is a pivotal moment that showcases the themes of belief and the power of collective faith in the narrative.</td>\n",
       "      <td>[“They don’t want us to land,” he explained.\\n\\n “Who are they?” Wendy whispered, shuddering.\\n\\n But he could not or would not say.  Tinker Bell had been asleep on his\\nshoulder, but now he wakened her and sent her on in front.\\n\\n Sometimes he poised himself in the air, listening intently, with his\\nhand to his ear, and again he would stare down with eyes so bright that\\nthey seemed to bore two holes to earth.  Having done these things, he\\nwent on again.\\n\\n, “Why, Tink, how dare you drink my medicine?”\\n\\nBut she did not answer.  Already she was reeling in the air.\\n\\n “What is the matter with you?” cried Peter, suddenly afraid.\\n\\n “It was poisoned, Peter,” she told him softly; “and now I am going to\\nbe dead.”\\n\\n“O Tink, did you drink it to save me?”\\n\\n“Yes.”\\n\\n“But why, Tink?”\\n\\nHer wings would scarcely carry her now, but in reply she alighted on\\nhis shoulder and gave his nose a loving bite.  She whispered in his ear\\n“You silly ass,” and then, tottering to her chamber, lay down on the\\nbed.\\n\\n His head almost filled the fourth wall of her little room as he knelt\\nnear her in distress. ]</td>\n",
       "      <td>[\"True. Jane mourns the death of the tinker fairy in guilt and shame, and her belief in fairies begins to arise. Jane's newfound belief in fairies revives Tinker Bell.\"]</td>\n",
       "      <td>0.970267</td>\n",
       "    </tr>\n",
       "  </tbody>\n",
       "</table>\n",
       "</div>"
      ],
      "text/plain": [
       "                                                                 question  \\\n",
       "0           Wendy Darling met Peter Pan in the market for the first time.   \n",
       "1                              Wendy like Peter but Peter don't like her.   \n",
       "2                                             Peter Pan has good parents.   \n",
       "3  Mr Darling changed after the chilren left. He had reason for doing so.   \n",
       "4                Peter Pan went to Neverland through flight in the story.   \n",
       "5                 Tinker Bell drunk the poison but she came back to life.   \n",
       "\n",
       "                                                                                                                                                                                                                                                                                                                                                                                                                                                                                                                                                                                                                                                                                                                                                                                                                                    answer  \\\n",
       "0                                                                                                                                                                                                                                                                                                                                                                                                                                                   False.\\n\\nWendy Darling did not meet Peter Pan in the market for the first time. According to J.M. Barrie's novel \"Peter Pan,\" Wendy first encountered Peter Pan in the nursery of her family's home. Peter Pan visited the nursery in search of his lost shadow, which is where he met Wendy and her brothers. There is no mention of a market in their initial meeting in the story.   \n",
       "1  FALSE\\n\\nReasons:\\n1. The context suggests that Peter does have feelings for Wendy, as indicated by his jealousy when she talks about other boys, which is a sign of emotional attachment.\\n2. Peter's upset reaction to Tinker Bell harming Wendy out of jealousy further implies that he cares for Wendy's well-being, which is not consistent with the claim that he doesn't like her.\\n3. Although Peter refers to Wendy as his mother and himself as her son, this dynamic can be complex and does not necessarily negate the possibility of affectionate feelings; it may indicate his confusion about the nature of his feelings.\\n4. The complexity of Peter's feelings, including jealousy and protectiveness, suggests that he does have some form of attachment to Wendy, contradicting the claim that he does not like her.   \n",
       "2                                                                                                                                                                                                                                              FALSE\\n\\nThe claim that Peter Pan has good parents is false based on the context provided. In J.M. Barrie's \"Peter Pan,\" Peter does not have traditional parents or a conventional family background. He is depicted as the boy who never grows up and lives in Neverland, leading a group of children known as the Lost Boys. The narrative does not delve into the details of Peter's biological parents or their qualities, focusing instead on his adventures and life in Neverland. Therefore, there is no evidence in the story to support the claim that Peter Pan has good parents.   \n",
       "3                                                                                                                                 TRUE\\n\\nMr. Darling did indeed change after the children left. The context provided shows that Mr. Darling was deeply affected by the absence of his children. He felt remorse and guilt for his actions, particularly for his role in the events leading up to the children's departure. His decision to live in the dog's kennel as a form of self-imposed punishment demonstrates a significant change in his character. He went from being a proud and somewhat pompous figure to a humbled and remorseful one, showing deference to Nana the dog and seeking to atone for his behavior. This change was driven by his love for his children and his realization of the consequences of his actions.   \n",
       "4                                                                                                                                                                                                                                                                                        TRUE\\n\\nThe claim that Peter Pan went to Neverland through flight in the story is true. As mentioned, this is a fundamental aspect of J.M. Barrie's \"Peter Pan.\" Peter Pan, along with Wendy, John, and Michael Darling, flies to Neverland after being sprinkled with pixie dust by Tinker Bell. The instruction to head towards the \"second star to the right and straight on till morning\" is iconic and directly relates to their flight to Neverland. This method of travel to Neverland is a well-known and integral part of the narrative.   \n",
       "5                                                                                                                                                                                                                                                                                                                                                                                                   TRUE\\n\\nIn the story of \"Peter Pan,\" Tinker Bell does indeed drink poison that was meant for Peter Pan, and she nearly dies from it. However, she is revived when Peter asks children who believe in fairies to clap their hands to show their belief, which restores her strength and brings her back to life. This event is a pivotal moment that showcases the themes of belief and the power of collective faith in the narrative.   \n",
       "\n",
       "                                                                                                                                                                                                                                                                                                                                                                                                                                                                                                                                                                                                                                                                                                                                                                                                                                                                                                                                                                                                                                                                                                                                                                                                                                                                                                                                                                                                                   contexts  \\\n",
       "0                                                                                                                                                               [“Then follow the leader,” he cried gaily.  “Mind you, I am not sure that\\nwe have a drawing-room, but we pretend we have, and it’s all the same.\\n Hoop la!”\\n\\nHe went off dancing through the house, and they all cried “Hoop la!”\\nand danced after him, searching for the drawing-room; and I forget\\nwhether they found it, but at any rate they found corners, and they all\\nfitted in.\\n\\n As for Peter, he saw Wendy once again before he flew away.  He did not\\nexactly come to the window, but he brushed against it in passing so\\nthat she could open it if she liked and call to him.  That is what she\\ndid.\\n\\n, “Yes, he is rather cocky,” Wendy admitted with regret.  Her mother had\\nbeen questioning her.\\n\\n “But who is he, my pet?”\\n\\n“He is Peter Pan, you know, mother.”\\n\\nAt first Mrs.  Darling did not know, but after thinking back into her\\nchildhood she just remembered a Peter Pan who was said to live with the\\nfairies.  There were odd stories about him, as that when children died\\nhe went part of the way with them, so that they should not be\\nfrightened.  She had believed in him at the time, but now that she was\\nmarried and full of sense she quite doubted whether there was any such\\nperson.\\n\\n]   \n",
       "1                                                              [Look at her in her chair, where she has\\nfallen asleep.  The corner of her mouth, where one looks first, is\\nalmost withered up.  Her hand moves restlessly on her breast as if she\\nhad a pain there.  Some like Peter best, and some like Wendy best, but I\\nlike her best.  Suppose, to make her happy, we whisper to her in her\\nsleep that the brats are coming back.  They are really within two miles\\nof the window now, and flying strong, but all we need whisper is that\\nthey are on the way. , “It is this, if we meet Hook in open fight, you must leave him to me.”\\n\\n“I promise,” John said loyally.\\n\\n For the moment they were feeling less eerie, because Tink was flying\\nwith them, and in her light they could distinguish each other.\\n Unfortunately she could not fly so slowly as they, and so she had to go\\nround and round them in a circle in which they moved as in a halo.\\n Wendy quite liked it, until Peter pointed out the drawbacks.\\n\\n “She tells me,” he said, “that the pirates sighted us before the\\ndarkness came, and got Long Tom out.”\\n\\n“The big gun?”\\n\\n“Yes.  And of course they must see her light, and if they guess we are\\nnear it they are sure to let fly.”\\n\\n“Wendy!”\\n\\n“John!”\\n\\n“Michael!”\\n\\n“Tell her to go away at once, Peter,” the three cried simultaneously,\\nbut he refused.\\n\\n]   \n",
       "2                          [The gaiety of those romps!\\n And gayest of all was Mrs.  Darling, who would pirouette so wildly that\\nall you could see of her was the kiss, and then if you had dashed at\\nher you might have got it.  There never was a simpler happier family\\nuntil the coming of Peter Pan.\\n\\n Mrs.  Darling first heard of Peter when she was tidying up her\\nchildren’s minds. , Even by day they hung about, smoking the\\npipe of peace, and looking almost as if they wanted tit-bits to eat.\\n\\n They called Peter the Great White Father, prostrating themselves before\\nhim; and he liked this tremendously, so that it was not really good for\\nhim.\\n\\n “The great white father,” he would say to them in a very lordly manner,\\nas they grovelled at his feet, “is glad to see the Piccaninny warriors\\nprotecting his wigwam from the pirates.”\\n\\n“Me Tiger Lily,” that lovely creature would reply.  “Peter Pan save me,\\nme his velly nice friend.  Me no let pirates hurt him.”\\n\\nShe was far too pretty to cringe in this way, but Peter thought it his\\ndue, and he would answer condescendingly, “It is good.  Peter Pan has\\nspoken.”\\n\\nAlways when he said, “Peter Pan has spoken,” it meant that they must\\nnow shut up, and they accepted it humbly in that spirit; but they were\\nby no means so respectful to the other boys, whom they looked upon as\\njust ordinary braves. ]   \n",
       "3                                                                          [COME AWAY, COME AWAY!\\n\\n\\n For a moment after Mr.  and Mrs.  Darling left the house the night-lights\\nby the beds of the three children continued to burn clearly.  They were\\nawfully nice little night-lights, and one cannot help wishing that they\\ncould have kept awake to see Peter; but Wendy’s light blinked and gave\\nsuch a yawn that the other two yawned also, and before they could close\\ntheir mouths all the three went out.\\n\\n There was another light in the room now, a thousand times brighter than\\nthe night-lights, and in the time we have taken to say this, it had\\nbeen in all the drawers in the nursery, looking for Peter’s shadow,\\nrummaged the wardrobe and turned every pocket inside out. , It was all owing to his too affectionate nature, which craved for\\nadmiration.  When he had tied her up in the back-yard, the wretched\\nfather went and sat in the passage, with his knuckles to his eyes.\\n\\n In the meantime Mrs.  Darling had put the children to bed in unwonted\\nsilence and lit their night-lights.  They could hear Nana barking, and\\nJohn whimpered, “It is because he is chaining her up in the yard,” but\\nWendy was wiser.\\n\\n “That is not Nana’s unhappy bark,” she said, little guessing what was\\nabout to happen; “that is her bark when she smells danger.”\\n\\nDanger!\\n\\n]   \n",
       "4  [In time they could not even fly after their\\nhats.  Want of practice, they called it; but what it really meant was\\nthat they no longer believed.\\n\\n Michael believed longer than the other boys, though they jeered at him;\\nso he was with Wendy when Peter came for her at the end of the first\\nyear.  She flew away with Peter in the frock she had woven from leaves\\nand berries in the Neverland, and her one fear was that he might notice\\nhow short it had become; but he never noticed, he had so much to say\\nabout himself.\\n\\n She had looked forward to thrilling talks with him about old times, but\\nnew adventures had crowded the old ones from his mind.\\n\\n “Who is Captain Hook?” he asked with interest when she spoke of the\\narch enemy.\\n\\n, Darling and Nana rushed into the nursery too late.  The\\nbirds were flown.\\n\\n\\n\\n\\n Chapter IV.\\n THE FLIGHT\\n\\n\\n“Second to the right, and straight on till morning.”\\n\\nThat, Peter had told Wendy, was the way to the Neverland; but even\\nbirds, carrying maps and consulting them at windy corners, could not\\nhave sighted it with these instructions.  Peter, you see, just said\\nanything that came into his head.\\n\\n At first his companions trusted him implicitly, and so great were the\\ndelights of flying that they wasted time circling round church spires\\nor any other tall objects on the way that took their fancy.\\n\\n]   \n",
       "5                                                                                                                                                                                                                                                             [“They don’t want us to land,” he explained.\\n\\n “Who are they?” Wendy whispered, shuddering.\\n\\n But he could not or would not say.  Tinker Bell had been asleep on his\\nshoulder, but now he wakened her and sent her on in front.\\n\\n Sometimes he poised himself in the air, listening intently, with his\\nhand to his ear, and again he would stare down with eyes so bright that\\nthey seemed to bore two holes to earth.  Having done these things, he\\nwent on again.\\n\\n, “Why, Tink, how dare you drink my medicine?”\\n\\nBut she did not answer.  Already she was reeling in the air.\\n\\n “What is the matter with you?” cried Peter, suddenly afraid.\\n\\n “It was poisoned, Peter,” she told him softly; “and now I am going to\\nbe dead.”\\n\\n“O Tink, did you drink it to save me?”\\n\\n“Yes.”\\n\\n“But why, Tink?”\\n\\nHer wings would scarcely carry her now, but in reply she alighted on\\nhis shoulder and gave his nose a loving bite.  She whispered in his ear\\n“You silly ass,” and then, tottering to her chamber, lay down on the\\nbed.\\n\\n His head almost filled the fourth wall of her little room as he knelt\\nnear her in distress. ]   \n",
       "\n",
       "                                                                                                                                                                                                                                                   ground_truth  \\\n",
       "0                                                                                       [\"False. Wendy and Peter didn't meet in the market. Wendy Darling met Peter Pan when he flied in her family's window to retrieve his lost shadow for the fisrt time. \"]   \n",
       "1                   [\"False. Wendy like Peter indeed, Peter is also very fond of Wendy because of the stories she tells, which are mainly about Peter and his adventures. He is fascinated by Wendy's stories of him that he would often visit her to listen.\"]   \n",
       "2                                                                                                                                                      [\"False. Peter's parents aren't mentioned. He is an orphan and his parents' names are never mentioned.\"]   \n",
       "3  [\"True. He changes quite a lot after the children fly away: his guilt makes him re-examine his behavior and values, and he becomes more cheerful, easy-going, and sentimental, even “quixotic.” Missing his children brings him back to his own childhood.\"]   \n",
       "4                                             [\"True. Peter Pan gets to Neverland through flight, by travelling to the \"second star to the right, and straight on till morning.\" Neverland is a small mythical island where Peter Pan and the Lost Boys live.\"]   \n",
       "5                                                                                     [\"True. Jane mourns the death of the tinker fairy in guilt and shame, and her belief in fairies begins to arise. Jane's newfound belief in fairies revives Tinker Bell.\"]   \n",
       "\n",
       "   answer_correctness  \n",
       "0            0.236154  \n",
       "1            0.223777  \n",
       "2            0.217403  \n",
       "3            0.844055  \n",
       "4            0.984352  \n",
       "5            0.970267  "
      ]
     },
     "execution_count": 203,
     "metadata": {},
     "output_type": "execute_result"
    }
   ],
   "source": [
    "res_kg2"
   ]
  },
  {
   "cell_type": "code",
   "execution_count": 205,
   "id": "b2483ab5-ab8f-4869-809f-ec1197e0b819",
   "metadata": {},
   "outputs": [
    {
     "data": {
      "text/html": [
       "<div>\n",
       "<style scoped>\n",
       "    .dataframe tbody tr th:only-of-type {\n",
       "        vertical-align: middle;\n",
       "    }\n",
       "\n",
       "    .dataframe tbody tr th {\n",
       "        vertical-align: top;\n",
       "    }\n",
       "\n",
       "    .dataframe thead th {\n",
       "        text-align: right;\n",
       "    }\n",
       "</style>\n",
       "<table border=\"1\" class=\"dataframe\">\n",
       "  <thead>\n",
       "    <tr style=\"text-align: right;\">\n",
       "      <th></th>\n",
       "      <th>answer_correctness</th>\n",
       "    </tr>\n",
       "  </thead>\n",
       "  <tbody>\n",
       "    <tr>\n",
       "      <th>count</th>\n",
       "      <td>6.000000</td>\n",
       "    </tr>\n",
       "    <tr>\n",
       "      <th>mean</th>\n",
       "      <td>0.579335</td>\n",
       "    </tr>\n",
       "    <tr>\n",
       "      <th>std</th>\n",
       "      <td>0.390419</td>\n",
       "    </tr>\n",
       "    <tr>\n",
       "      <th>min</th>\n",
       "      <td>0.217403</td>\n",
       "    </tr>\n",
       "    <tr>\n",
       "      <th>25%</th>\n",
       "      <td>0.226871</td>\n",
       "    </tr>\n",
       "    <tr>\n",
       "      <th>50%</th>\n",
       "      <td>0.540104</td>\n",
       "    </tr>\n",
       "    <tr>\n",
       "      <th>75%</th>\n",
       "      <td>0.938714</td>\n",
       "    </tr>\n",
       "    <tr>\n",
       "      <th>max</th>\n",
       "      <td>0.984352</td>\n",
       "    </tr>\n",
       "  </tbody>\n",
       "</table>\n",
       "</div>"
      ],
      "text/plain": [
       "       answer_correctness\n",
       "count            6.000000\n",
       "mean             0.579335\n",
       "std              0.390419\n",
       "min              0.217403\n",
       "25%              0.226871\n",
       "50%              0.540104\n",
       "75%              0.938714\n",
       "max              0.984352"
      ]
     },
     "execution_count": 205,
     "metadata": {},
     "output_type": "execute_result"
    }
   ],
   "source": [
    "res_kg2.describe()"
   ]
  },
  {
   "cell_type": "code",
   "execution_count": null,
   "id": "8a79e710-1d34-41ef-b785-e79edd241066",
   "metadata": {},
   "outputs": [],
   "source": []
  }
 ],
 "metadata": {
  "kernelspec": {
   "display_name": "nlpbase",
   "language": "python",
   "name": "nlpbase"
  },
  "language_info": {
   "codemirror_mode": {
    "name": "ipython",
    "version": 3
   },
   "file_extension": ".py",
   "mimetype": "text/x-python",
   "name": "python",
   "nbconvert_exporter": "python",
   "pygments_lexer": "ipython3",
   "version": "3.9.12"
  }
 },
 "nbformat": 4,
 "nbformat_minor": 5
}
