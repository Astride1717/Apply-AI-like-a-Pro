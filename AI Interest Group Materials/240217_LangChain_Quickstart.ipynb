{
 "cells": [
  {
   "cell_type": "markdown",
   "metadata": {},
   "source": [
    "https://python.langchain.com/docs/get_started/quickstart"
   ]
  },
  {
   "cell_type": "code",
   "execution_count": 27,
   "metadata": {},
   "outputs": [],
   "source": [
    "import os\n",
    "from langchain_openai import ChatOpenAI\n",
    "from langchain_core.prompts import ChatPromptTemplate\n",
    "from langchain_core.output_parsers import StrOutputParser\n",
    "from langchain_community.document_loaders import WebBaseLoader\n",
    "from langchain_openai import OpenAIEmbeddings\n",
    "from langchain_community.vectorstores import FAISS\n",
    "from langchain.text_splitter import RecursiveCharacterTextSplitter\n",
    "from langchain.chains.combine_documents import create_stuff_documents_chain\n",
    "from langchain.chains import create_retrieval_chain\n",
    "from langchain.chains import create_history_aware_retriever\n",
    "from langchain_core.prompts import MessagesPlaceholder\n",
    "from langchain_core.messages import HumanMessage, AIMessage\n",
    "from langchain.retrievers.tavily_search_api import TavilySearchAPIRetriever\n",
    "from langchain_core.runnables import RunnablePassthrough"
   ]
  },
  {
   "cell_type": "code",
   "execution_count": 3,
   "metadata": {},
   "outputs": [],
   "source": [
    "# Fetch the OpenAI API key from environment variables\n",
    "openai_api_key = os.getenv(\"OPENAI_API_KEY\")\n",
    "\n",
    "# Fetch the Tavily API key from environment variables\n",
    "tavily_api_key = os.getenv(\"TAVILY_API_KEY\")"
   ]
  },
  {
   "cell_type": "code",
   "execution_count": 4,
   "metadata": {},
   "outputs": [
    {
     "name": "stdout",
     "output_type": "stream",
     "text": [
      "OpenAI API key is set\n",
      "Tavily API key is set\n"
     ]
    }
   ],
   "source": [
    "# Check if the OpenAI API key is set\n",
    "if openai_api_key:\n",
    "    print(\"OpenAI API key is set\")\n",
    "else:\n",
    "    print(\"OpenAI API key is not set\")\n",
    "\n",
    "# Check if the Tavily API key is set\n",
    "if tavily_api_key:\n",
    "    print(\"Tavily API key is set\")\n",
    "else:\n",
    "    print(\"Tavily API key is not set\")"
   ]
  },
  {
   "cell_type": "code",
   "execution_count": 5,
   "metadata": {},
   "outputs": [],
   "source": [
    "# Initialize the LLM\n",
    "llm = ChatOpenAI()"
   ]
  },
  {
   "cell_type": "code",
   "execution_count": 6,
   "metadata": {},
   "outputs": [],
   "source": [
    "# Define a query\n",
    "query = \"What are the key topics covered in each of the three sections of the certificate program?\""
   ]
  },
  {
   "cell_type": "code",
   "execution_count": 7,
   "metadata": {},
   "outputs": [
    {
     "data": {
      "text/plain": [
       "AIMessage(content=\"The key topics covered in each of the three sections of the certificate program may vary depending on the specific program. However, generally, the three sections of a certificate program cover:\\n\\n1. Foundation Section:\\n- Introduction to the field or subject area of the certificate program\\n- Basic principles, concepts, and theories related to the subject\\n- Overview of key terminology and frameworks\\n- Understanding the historical context and development of the field\\n- Introduction to relevant research methods and approaches\\n- Ethical considerations and professional standards in the field\\n\\n2. Core Section:\\n- In-depth study of key concepts, principles, and theories in the subject area\\n- Analysis of case studies and real-world examples to illustrate the application of knowledge\\n- Exploration of key issues, challenges, and trends in the field\\n- Advanced research methods and data analysis techniques\\n- Development of critical thinking and problem-solving skills\\n- Examination of relevant laws, regulations, and policies\\n\\n3. Specialization Section:\\n- Focus on a specific area or subfield within the subject area\\n- Advanced study of specialized topics, theories, and practices\\n- In-depth analysis of case studies and practical applications\\n- Exploration of emerging trends and developments in the specialized area\\n- Development of advanced skills and expertise related to the specialization\\n- Integration of knowledge from the foundation and core sections into the specialized area\\n\\nIt is important to note that the specific topics covered in each section can vary based on the certificate program's focus, duration, and intended outcomes. It is recommended to refer to the program's curriculum or course descriptions for more detailed information.\")"
      ]
     },
     "execution_count": 7,
     "metadata": {},
     "output_type": "execute_result"
    }
   ],
   "source": [
    "# Invoke the LLM\n",
    "llm.invoke(query)"
   ]
  },
  {
   "cell_type": "code",
   "execution_count": 8,
   "metadata": {},
   "outputs": [],
   "source": [
    "# Define a prompt template\n",
    "prompt = ChatPromptTemplate.from_messages([\n",
    "    (\"system\", \"You are an instructor for the certificate program at a university in the US.\"),\n",
    "    (\"user\", \"{input}\")\n",
    "])"
   ]
  },
  {
   "cell_type": "code",
   "execution_count": 9,
   "metadata": {},
   "outputs": [],
   "source": [
    "# Define a simple chain\n",
    "chain = prompt | llm"
   ]
  },
  {
   "cell_type": "code",
   "execution_count": 10,
   "metadata": {},
   "outputs": [
    {
     "data": {
      "text/plain": [
       "AIMessage(content='In the certificate program, we cover a range of key topics in each of the three sections. Here is an overview of the key topics covered in each section:\\n\\nSection 1: Foundation Skills\\n1. Communication Skills: Verbal and written communication, active listening, effective presentation skills.\\n2. Critical Thinking: Problem-solving, decision-making, analytical thinking, and logical reasoning.\\n3. Time Management: Planning, prioritizing tasks, setting goals, and managing deadlines.\\n4. Teamwork and Collaboration: Building effective teams, resolving conflicts, promoting diversity and inclusion.\\n5. Adaptability and Flexibility: Embracing change, managing ambiguity, and being open to learning.\\n\\nSection 2: Technical Skills\\n1. Technology Literacy: Basic computer skills, proficiency in Microsoft Office Suite, and internet navigation.\\n2. Data Analysis: Introduction to data analysis tools, data visualization, and interpreting data.\\n3. Digital Marketing: Fundamentals of online marketing, social media marketing, and search engine optimization (SEO).\\n4. Project Management: Principles of project management, project planning, and execution.\\n5. Financial Management: Introduction to financial statements, budgeting, and financial analysis.\\n\\nSection 3: Professional Development\\n1. Networking and Relationship Building: Strategies for building professional networks, cultivating relationships, and leveraging connections.\\n2. Leadership and Management: Introduction to leadership styles, managing teams, and motivating employees.\\n3. Personal Branding: Developing a personal brand, effective resume writing, and interview skills.\\n4. Career Planning and Development: Setting career goals, exploring job opportunities, and creating a professional development plan.\\n5. Ethical and Legal Considerations: Introduction to business ethics, legal frameworks, and professional codes of conduct.\\n\\nThese topics provide a comprehensive foundation for students to develop the necessary skills and knowledge to succeed in their professional careers.')"
      ]
     },
     "execution_count": 10,
     "metadata": {},
     "output_type": "execute_result"
    }
   ],
   "source": [
    "# Ask the question again\n",
    "chain.invoke({\"input\": query})"
   ]
  },
  {
   "cell_type": "code",
   "execution_count": 11,
   "metadata": {},
   "outputs": [],
   "source": [
    "# Improve the chain with an output parser\n",
    "output_parser = StrOutputParser()\n",
    "chain = prompt | llm | output_parser"
   ]
  },
  {
   "cell_type": "code",
   "execution_count": 12,
   "metadata": {},
   "outputs": [
    {
     "data": {
      "text/plain": [
       "'In our certificate program, we have divided the curriculum into three sections to provide a comprehensive education. The key topics covered in each section are as follows:\\n\\nSection 1: Foundation Courses\\n1. Introduction to the Field: This course provides an overview of the industry and its various sectors, giving students a solid foundation of knowledge.\\n2. Research Methods: Students learn about different research methodologies and techniques used in the field, including data collection, analysis, and interpretation.\\n3. Strategic Planning: This course focuses on developing strategic plans for organizations, including goal setting, SWOT analysis, and resource allocation.\\n4. Leadership and Management: Students learn about effective leadership styles, team management, and organizational behavior.\\n5. Communication Skills: This course helps students develop strong written and verbal communication skills, including presentations and professional correspondence.\\n\\nSection 2: Specialization Courses\\n1. Marketing: This course covers marketing principles, consumer behavior, market research, branding, and digital marketing strategies.\\n2. Finance and Accounting: Students learn about financial management, budgeting, financial analysis, and accounting principles relevant to the industry.\\n3. Human Resources: This course focuses on HR management, recruitment, performance management, employee relations, and legal aspects of HR.\\n4. Operations and Supply Chain Management: Topics covered include supply chain optimization, inventory management, logistics, and quality control.\\n5. Project Management: Students learn about project planning, execution, monitoring, and control, as well as project risk management.\\n\\nSection 3: Elective Courses and Capstone Project\\n1. Elective Courses: Students can choose from a range of elective courses based on their interests and career goals. These may include courses on entrepreneurship, international business, data analytics, sustainability, or other relevant topics.\\n2. Capstone Project: In the final part of the program, students work on a capstone project where they apply their knowledge and skills to solve a real-world business problem. This project allows students to demonstrate their understanding and ability to apply concepts learned throughout the program.\\n\\nOverall, these key topics provide students with a well-rounded education that prepares them for various roles and responsibilities within the industry.'"
      ]
     },
     "execution_count": 12,
     "metadata": {},
     "output_type": "execute_result"
    }
   ],
   "source": [
    "# Invoke the chain again\n",
    "chain.invoke({\"input\": query})"
   ]
  },
  {
   "cell_type": "code",
   "execution_count": 13,
   "metadata": {},
   "outputs": [],
   "source": [
    "# Define a loader\n",
    "loader = WebBaseLoader(\"https://brownschool.wustl.edu/resources-initiatives/advanced-learning-certificate/artificial-intelligence-applications-for-health-data-2/\")\n",
    "\n",
    "# Load the data\n",
    "docs = loader.load()"
   ]
  },
  {
   "cell_type": "code",
   "execution_count": 14,
   "metadata": {},
   "outputs": [
    {
     "name": "stdout",
     "output_type": "stream",
     "text": [
      "[Document(page_content='\\n\\n\\n\\n\\n\\n\\n\\n\\n\\n\\n\\n\\n\\n\\n\\n\\n\\n\\n\\n\\n\\n\\n\\n\\n\\n\\n\\n\\n\\n\\n\\n\\n\\u200bArtificial Intelligence Applications for Health Data - Brown School at Washington University in St. Louis\\n\\n\\n\\n\\n\\n\\n\\n\\n\\n\\n\\n\\n\\n\\n\\n\\n\\n\\n\\n\\n\\n\\n\\n\\n\\n\\n\\n\\n\\n\\n\\n\\n\\n\\n\\n\\n\\n\\n\\n\\n\\n\\n\\n\\n\\n\\n\\n\\n\\n\\n\\n\\n\\n\\n\\n\\n\\n\\n\\n \\n\\n\\n\\n\\n\\n\\n\\n\\n\\n\\n\\n\\n\\n\\n\\n\\n\\n\\n\\n\\n\\n\\n\\n\\n\\n\\n\\n\\n\\n\\n\\n\\n\\n\\n\\n\\n\\n\\n\\n\\n\\n\\n\\n\\n\\n\\n\\n\\n\\n\\n\\n\\n\\n\\n\\n\\n\\n\\n\\n\\n\\n\\n\\n\\n\\n\\n\\n\\n\\n\\n\\n\\n\\n\\n\\n\\n\\n\\n\\n\\n\\n\\n\\n\\n\\n\\n\\n\\n\\n\\n\\n\\n\\n\\n\\n\\n\\n\\n\\n\\n\\n\\n\\n\\n\\n\\n\\n\\n\\n\\n\\n\\n\\n\\n\\n\\n\\n\\n\\n\\n\\n\\n\\n\\n\\n\\n\\n\\n\\n\\n\\n\\n\\n\\n\\n\\n\\n\\n\\n\\n\\n\\n\\n\\n\\n\\n\\n\\n\\n\\n\\n\\n\\n\\n\\n\\n\\n\\n\\n\\n\\n\\n\\n\\n\\n\\n\\n\\n\\n\\n\\n\\n\\n\\n\\n\\n\\n\\n\\n\\n\\n\\n\\n\\n\\n\\n \\n\\n\\n\\nAdvancing Social Work, Public Health & Social Policy\\n\\n\\n\\n\\nMenu\\n\\n\\n\\n\\n\\n\\n\\n\\n\\n\\n\\n \\n\\n\\n\\n\\n\\n\\n\\n\\nAcademics\\n\\nMaster of Social Work\\nMaster of Public Health\\nMaster of Social Policy\\nDual Degrees\\n3-2 Programs\\nPhD in Social Work\\nPhD in Public Health Sciences\\nAIBDA Certificate\\nGlobal Opportunities\\nField Education\\n\\n\\nFaculty & Research\\n\\nFaculty\\nProfessors of Practice\\nResearch Professors\\nTeaching Professors, Senior Lecturers & Scholars\\nVisiting & Adjunct\\nEmeritus Faculty\\nResearch Centers\\nFaculty Recruitment\\n\\n\\nResources & Initiatives\\n\\nProfessional Development\\nClark-Fox Policy Institute\\nCommunity Engagement\\nField Instructor Resources\\nDriving Equity 2030\\nOpen Classroom\\nAdvanced Learning Certificate\\nGrand Challenges for Social Work\\n\\n\\nNews\\n\\nMost Recent News\\nAlumni\\nStudents\\nSocial Work\\nPracticum\\nPublic Health\\nPolicy\\nFaculty\\nResearch\\nCommunity Engagement\\nDiversity\\nGlobal\\n\\n\\nLife at Brown\\n\\nAdmitted Student Resources\\nLife at Brown School\\nOur Facilities\\nStudent Support\\nStudent Groups & Events\\nStudent Body Profile\\nEquity, Diversity and Inclusion\\nCareer Engagement\\nInternational Student Support\\nBrown School Library\\nStudent Blog\\nSt. Louis Region\\nWashington University\\n\\n\\n \\n\\n\\n\\n\\n\\nApply\\nAbout\\nDriving Equity 2030\\nEvents\\nAlumni\\nContact Us\\n \\n\\n\\n\\n\\n\\n\\n\\n\\nBrown School\\n›\\nResources & Initiatives\\n›\\nAdvanced Learning Certificate\\n›\\n\\t\\u200bArtificial Intelligence Applications for Health Data\\n\\n\\n\\nArtificial Intelligence Applications for Health DataDesigned for professionals keen to harness the power of contemporary AI technologies\\nArtificial Intelligence is fundamentally changing how the world operates. There is probably no sector or discipline, from agriculture and finance to humanities and autonomous driving, that has not used AI. Professionals with AI skills are highly sought-after; the US Bureau of Labor Statistics predicts the demand to increase by 28% or 11.5 million new jobs through 2026, outpacing all other industries. One of AI’s undisputable advantages over most other technologies is its high transferability, significantly lowering industry-specific barriers to its applications.\\nThe Advanced Learning Certificate in Artificial Intelligence Applications for Health Data is designed for professionals interested in contemporary AI technologies and seeking to build skills with AI’s applications to health or other “big data” for their work or research. This program is designed to take you from an AI novice to a confident practitioner with integrated case studies and programming demonstrations using Google Colab. It will provide hands-on, step-by-step guidance, and ample real-world practice opportunities for professionals to learn and apply AI tools and models to solve real-world health and social problems.\\nProgram details and prerequisites are listed below. Applications for this program will close on August 11, 2023,\\xa0US Central Time.\\n\\nApply Today\\n\\n\\nOnline Program. This 15-week program includes online class meetings on Thursday mornings by Zoom, 7:00 – 10:00 a.m.\\xa0(Central Time).\\nAugust 31 – December 14, 2023 (no class November 23)\\n$1995\\nContinuing Education Information:\\n\\n45 Missouri/Illinois social work CEUs\\n45 public health CPH units\\n\\nInstructor:\\nRuopeng An, PhD, MPP, FACE\\nAssociate Professor and Faculty Lead in Public Health Sciences, Brown School\\nQuestions?\\nPlease contact us at 314.935.7573 or browncertificates@wustl.edu\\n\\n\\nIs this program for me?\\nThis program is intended for individuals who have a demonstrated interest in increasing their skills in applying the power of AI techniques to health data for research or industry purposes. You do not have to be an alum of the Brown School to apply for consideration.\\nThis is an online program, with scheduled class meetings on Thursday mornings conducted by Zoom and self-paced content, such as readings and assignments.\\xa0 Applicants should be prepared to commit 5 hours of total effort per week. Reading assignments come from provided texts, which are included in the program fee.\\nThe program presupposes a basic knowledge of statistics and previous experience working with a statistical software package. Students should have passed an introductory statistics class and have experience with R, SAS, SPSS, or Stata, or otherwise using basic quantitative skills within the last five years. Experience with Python is helpful but not required.\\nThe certificate program is divided into three parts, building from basic tools to more advanced applications:\\n\\nWeeks 1-2 – Participants will receive an overview of artificial intelligence, unveil the mystery of AI and machine learning, learn to code in Python, use NumPy and Pandas to master data wrangling, and use Matplotlib for data visualization.\\nWeeks 3-7 – Class content will focus on machine learning applications. We will learn topics including classification and regression, model training and validation, support vector machines, decision trees, ensemble methods like Random Forest and XGBoost, dimensionality reduction, unsupervised learning, and auto ML.\\nWeeks 8-15 – The final portion of the program considers deep learning applications (i.e., neural networks). Topics covered include a foundation with neural networks; computer vision for image classification, object detection, image segmentation, and image generation; natural language processing for text classification (sentiment analysis), language generation, text translation, chatbot, and prompt engineering; introduction to recommender systems; introduction to time series forecasting; and creating synthetic data for research and analysis.\\n\\nWeekly assignments will help participants master the topics covered in the lectures/labs using real-world datasets related to health and beyond.\\nBy the end of the program, participants will:\\n\\nGain a deep understanding of the key concepts and elements of AI, machine learning, and deep learning (neural networks)\\nBe familiar with a comprehensive pool of popular, state-of-the-art AI models and their applications in public health and beyond\\nUnderstand the strengths, limitations, and tradeoffs of different AI models and best practices in implementing them\\nUnderstand sources of data biases, principles of data ethics, and how to avoid or reduce biases to build ethical, responsible AI models\\nBe proficient using Python in conjunction with popular APIs and cloud platforms to implement state-of-the-art AI models on various data types\\nBe able to apply AI models to better understand and address health data-related concerns or other social problems\\n\\nSuccessful completion of the certificate program includes attendance and participation in weekly class meetings, as well as completion of weekly-oriented application assignments.\\n\\u200bHow to Apply\\nComplete program applications include:\\n\\nOnline application form\\nSubmission of your current resume\\n\\nAdmissions decisions will be made on a rolling basis. Generally it is possible to provide an admissions decision within two weeks of receipt of a completed application. Applications must be received by August 11, 2023, US Central Time.\\nAdmission prerequisites:\\n\\nApplicants should have (or be able to obtain) access to a computer, along with a webcam and reliable internet service.\\nIntroductory knowledge of statistics, including working with a statistical software package such as R, SAS, SPSS, Stata, or equivalent.\\u200b\\u200b\\nAll students must be willing to comply with Washington University policies.\\nPlease note that pursuing the AI Certificate course while on OPT (Optional Practical Training) is not permitted. For questions, email us at browncertificates@wustl.edu\\xa0or through WeChat (ID: WUSTLBrownSchool).\\n\\nMore Info\\n\\u200b\\n\\n\\nJoin Professor Ruopeng An for an introductory glimpse into the Artificial Intelligence Applications for Health Data Certificate program.\\n“”I am excited to have a new toolbox with AI to think about my patients and their care. Thank you for this training and guidance.””–David Molter, MD\\u200b Professor of Pediatric Otolaryngology AI Certificate Alum 22′\\n\\nMeet Your Instructor\\n\\n\\n\\n\\n\\nRuopeng An, PhD, MPP, FACEAssociate Professor, Brown School\\nProfessor Ruopeng An is the Faculty Lead of Brown School’s PhD Program in Public Health Sciences. He hosts the “Artificial Intelligence in the Social Sciences” Open Classroom series, teaches Applied Machine Learning Using Python and Applied Deep Learning Using Python courses, and founded the Artificial Intelligence and Big Data Analytics for Public Health (AIBDA) Certificate program. With over 200 peer-reviewed journal publications, Dr. An is recognized as one of Elsevier’s top 2% most cited scientists. His work has been highlighted by various media outlets, including TIME, New York Times, Los Angeles Times, Washington Post, Reuters, USA Today, Bloomberg, Forbes, Atlantic, Guardian, FOX, NPR, and CNN. He serves on various research grants and expert panels for NIH, CDC, NSF, HHS, and the French National Research Agency. He was elected as a Fellow of the American College of Epidemiology in 2018. Professor An has repeatedly been recognized for teaching excellence, receiving student evaluations in the top 10% of University faculty.\\n\\n\\n\\nStrengthen your degree and power your career.Apply Today\\n\\n\\n\\n\\n\\n\\n\\n\\n\\n\\nQuick Links:\\nApply\\nAbout Brown School\\nContact Us\\nDirections\\nAcademic Professional Integrity Policy\\nNative Land Acknowledgement\\n \\n\\n\\n\\n\\nwustl.edu \\n\\n\\nKeep Up with Our Latest \\r\\nNews, Research and Insights:\\n \\n\\n\\n\\n\\n\\nFounded in 1925, the George Warren Brown School was named with a generous gift from Betty Bofinger Brown in memory of her late husband.\\n\\nCopyright 2024 by Brown School \\r\\nat Washington University in St. Louis\\nWashington University\\xa0\\xa0•\\xa0\\xa0One Brookings Drive\\xa0\\xa0\\r\\n•\\xa0\\xa0St. Louis, MO 63130\\n\\n\\n\\n\\n\\n\\n\\n\\n\\n\\n\\n\\n\\n\\n\\n', metadata={'source': 'https://brownschool.wustl.edu/resources-initiatives/advanced-learning-certificate/artificial-intelligence-applications-for-health-data-2/', 'title': '\\u200bArtificial Intelligence Applications for Health Data - Brown School at Washington University in St. Louis', 'description': 'Artificial Intelligence Applications for Health Data Designed for professionals keen to harness the power of contemporary AI technologies Artificial Intelligence is fundamentally changing how the world operates. There is probably no sector or discipline, from agriculture and finance to humanities and autonomous driving, that has not used AI. Professionals with AI skills are highly sought-after;', 'language': 'en-US'})]\n"
     ]
    }
   ],
   "source": [
    "# Take a look at the webscraped data\n",
    "print(docs)"
   ]
  },
  {
   "cell_type": "code",
   "execution_count": 15,
   "metadata": {},
   "outputs": [],
   "source": [
    "# Innitiate the openai embeddings\n",
    "embeddings = OpenAIEmbeddings()"
   ]
  },
  {
   "cell_type": "code",
   "execution_count": 16,
   "metadata": {},
   "outputs": [],
   "source": [
    "# Initiate the text splitter\n",
    "text_splitter = RecursiveCharacterTextSplitter()\n",
    "\n",
    "# Split the docs into smaller chunks\n",
    "documents = text_splitter.split_documents(docs)\n",
    "\n",
    "# Create the vector store using the splitted docs and embeddings\n",
    "vector = FAISS.from_documents(documents, embeddings)"
   ]
  },
  {
   "cell_type": "code",
   "execution_count": 17,
   "metadata": {},
   "outputs": [],
   "source": [
    "# Create a new prompt\n",
    "prompt = ChatPromptTemplate.from_template(\"\"\"\n",
    "    Answer the following question based only on the provided context: {context}\n",
    "    Question: {input}\n",
    "    \"\"\")\n",
    "\n",
    "# Create the document chain\n",
    "document_chain = create_stuff_documents_chain(llm, prompt)"
   ]
  },
  {
   "cell_type": "code",
   "execution_count": 18,
   "metadata": {},
   "outputs": [],
   "source": [
    "# Innitiate the retriever with the vector store\n",
    "retriever = vector.as_retriever()\n",
    "\n",
    "# Create the retrieval chain\n",
    "retrieval_chain = create_retrieval_chain(retriever, document_chain)"
   ]
  },
  {
   "cell_type": "code",
   "execution_count": 19,
   "metadata": {},
   "outputs": [
    {
     "name": "stdout",
     "output_type": "stream",
     "text": [
      "{'input': 'What are the key topics covered in each of the three sections of the certificate program?', 'context': [Document(page_content='Instructor:\\nRuopeng An, PhD, MPP, FACE\\nAssociate Professor and Faculty Lead in Public Health Sciences, Brown School\\nQuestions?\\nPlease contact us at 314.935.7573 or browncertificates@wustl.edu\\n\\n\\nIs this program for me?\\nThis program is intended for individuals who have a demonstrated interest in increasing their skills in applying the power of AI techniques to health data for research or industry purposes. You do not have to be an alum of the Brown School to apply for consideration.\\nThis is an online program, with scheduled class meetings on Thursday mornings conducted by Zoom and self-paced content, such as readings and assignments.\\xa0 Applicants should be prepared to commit 5 hours of total effort per week. Reading assignments come from provided texts, which are included in the program fee.\\nThe program presupposes a basic knowledge of statistics and previous experience working with a statistical software package. Students should have passed an introductory statistics class and have experience with R, SAS, SPSS, or Stata, or otherwise using basic quantitative skills within the last five years. Experience with Python is helpful but not required.\\nThe certificate program is divided into three parts, building from basic tools to more advanced applications:\\n\\nWeeks 1-2 – Participants will receive an overview of artificial intelligence, unveil the mystery of AI and machine learning, learn to code in Python, use NumPy and Pandas to master data wrangling, and use Matplotlib for data visualization.\\nWeeks 3-7 – Class content will focus on machine learning applications. We will learn topics including classification and regression, model training and validation, support vector machines, decision trees, ensemble methods like Random Forest and XGBoost, dimensionality reduction, unsupervised learning, and auto ML.\\nWeeks 8-15 – The final portion of the program considers deep learning applications (i.e., neural networks). Topics covered include a foundation with neural networks; computer vision for image classification, object detection, image segmentation, and image generation; natural language processing for text classification (sentiment analysis), language generation, text translation, chatbot, and prompt engineering; introduction to recommender systems; introduction to time series forecasting; and creating synthetic data for research and analysis.\\n\\nWeekly assignments will help participants master the topics covered in the lectures/labs using real-world datasets related to health and beyond.\\nBy the end of the program, participants will:\\n\\nGain a deep understanding of the key concepts and elements of AI, machine learning, and deep learning (neural networks)\\nBe familiar with a comprehensive pool of popular, state-of-the-art AI models and their applications in public health and beyond\\nUnderstand the strengths, limitations, and tradeoffs of different AI models and best practices in implementing them\\nUnderstand sources of data biases, principles of data ethics, and how to avoid or reduce biases to build ethical, responsible AI models\\nBe proficient using Python in conjunction with popular APIs and cloud platforms to implement state-of-the-art AI models on various data types\\nBe able to apply AI models to better understand and address health data-related concerns or other social problems\\n\\nSuccessful completion of the certificate program includes attendance and participation in weekly class meetings, as well as completion of weekly-oriented application assignments.\\n\\u200bHow to Apply\\nComplete program applications include:\\n\\nOnline application form\\nSubmission of your current resume\\n\\nAdmissions decisions will be made on a rolling basis. Generally it is possible to provide an admissions decision within two weeks of receipt of a completed application. Applications must be received by August 11, 2023, US Central Time.\\nAdmission prerequisites:', metadata={'source': 'https://brownschool.wustl.edu/resources-initiatives/advanced-learning-certificate/artificial-intelligence-applications-for-health-data-2/', 'title': '\\u200bArtificial Intelligence Applications for Health Data - Brown School at Washington University in St. Louis', 'description': 'Artificial Intelligence Applications for Health Data Designed for professionals keen to harness the power of contemporary AI technologies Artificial Intelligence is fundamentally changing how the world operates. There is probably no sector or discipline, from agriculture and finance to humanities and autonomous driving, that has not used AI. Professionals with AI skills are highly sought-after;', 'language': 'en-US'}), Document(page_content='Applicants should have (or be able to obtain) access to a computer, along with a webcam and reliable internet service.\\nIntroductory knowledge of statistics, including working with a statistical software package such as R, SAS, SPSS, Stata, or equivalent.\\u200b\\u200b\\nAll students must be willing to comply with Washington University policies.\\nPlease note that pursuing the AI Certificate course while on OPT (Optional Practical Training) is not permitted. For questions, email us at browncertificates@wustl.edu\\xa0or through WeChat (ID: WUSTLBrownSchool).\\n\\nMore Info\\n\\u200b\\n\\n\\nJoin Professor Ruopeng An for an introductory glimpse into the Artificial Intelligence Applications for Health Data Certificate program.\\n“”I am excited to have a new toolbox with AI to think about my patients and their care. Thank you for this training and guidance.””–David Molter, MD\\u200b Professor of Pediatric Otolaryngology AI Certificate Alum 22′\\n\\nMeet Your Instructor\\n\\n\\n\\n\\n\\nRuopeng An, PhD, MPP, FACEAssociate Professor, Brown School\\nProfessor Ruopeng An is the Faculty Lead of Brown School’s PhD Program in Public Health Sciences. He hosts the “Artificial Intelligence in the Social Sciences” Open Classroom series, teaches Applied Machine Learning Using Python and Applied Deep Learning Using Python courses, and founded the Artificial Intelligence and Big Data Analytics for Public Health (AIBDA) Certificate program. With over 200 peer-reviewed journal publications, Dr. An is recognized as one of Elsevier’s top 2% most cited scientists. His work has been highlighted by various media outlets, including TIME, New York Times, Los Angeles Times, Washington Post, Reuters, USA Today, Bloomberg, Forbes, Atlantic, Guardian, FOX, NPR, and CNN. He serves on various research grants and expert panels for NIH, CDC, NSF, HHS, and the French National Research Agency. He was elected as a Fellow of the American College of Epidemiology in 2018. Professor An has repeatedly been recognized for teaching excellence, receiving student evaluations in the top 10% of University faculty.\\n\\n\\n\\nStrengthen your degree and power your career.Apply Today\\n\\n\\n\\n\\n\\n\\n\\n\\n\\n\\nQuick Links:\\nApply\\nAbout Brown School\\nContact Us\\nDirections\\nAcademic Professional Integrity Policy\\nNative Land Acknowledgement\\n \\n\\n\\n\\n\\nwustl.edu \\n\\n\\nKeep Up with Our Latest \\r\\nNews, Research and Insights:\\n \\n\\n\\n\\n\\n\\nFounded in 1925, the George Warren Brown School was named with a generous gift from Betty Bofinger Brown in memory of her late husband.\\n\\nCopyright 2024 by Brown School \\r\\nat Washington University in St. Louis\\nWashington University\\xa0\\xa0•\\xa0\\xa0One Brookings Drive\\xa0\\xa0\\r\\n•\\xa0\\xa0St. Louis, MO 63130', metadata={'source': 'https://brownschool.wustl.edu/resources-initiatives/advanced-learning-certificate/artificial-intelligence-applications-for-health-data-2/', 'title': '\\u200bArtificial Intelligence Applications for Health Data - Brown School at Washington University in St. Louis', 'description': 'Artificial Intelligence Applications for Health Data Designed for professionals keen to harness the power of contemporary AI technologies Artificial Intelligence is fundamentally changing how the world operates. There is probably no sector or discipline, from agriculture and finance to humanities and autonomous driving, that has not used AI. Professionals with AI skills are highly sought-after;', 'language': 'en-US'}), Document(page_content='\\u200bArtificial Intelligence Applications for Health Data - Brown School at Washington University in St. Louis\\n\\n\\n\\n\\n\\n\\n\\n\\n\\n\\n\\n\\n\\n\\n\\n\\n\\n\\n\\n\\n\\n\\n\\n\\n\\n\\n\\n\\n\\n\\n\\n\\n\\n\\n\\n\\n\\n\\n\\n\\n\\n\\n\\n\\n\\n\\n\\n\\n\\n\\n\\n\\n\\n\\n\\n\\n\\n\\n\\n \\n\\n\\n\\n\\n\\n\\n\\n\\n\\n\\n\\n\\n\\n\\n\\n\\n\\n\\n\\n\\n\\n\\n\\n\\n\\n\\n\\n\\n\\n\\n\\n\\n\\n\\n\\n\\n\\n\\n\\n\\n\\n\\n\\n\\n\\n\\n\\n\\n\\n\\n\\n\\n\\n\\n\\n\\n\\n\\n\\n\\n\\n\\n\\n\\n\\n\\n\\n\\n\\n\\n\\n\\n\\n\\n\\n\\n\\n\\n\\n\\n\\n\\n\\n\\n\\n\\n\\n\\n\\n\\n\\n\\n\\n\\n\\n\\n\\n\\n\\n\\n\\n\\n\\n\\n\\n\\n\\n\\n\\n\\n\\n\\n\\n\\n\\n\\n\\n\\n\\n\\n\\n\\n\\n\\n\\n\\n\\n\\n\\n\\n\\n\\n\\n\\n\\n\\n\\n\\n\\n\\n\\n\\n\\n\\n\\n\\n\\n\\n\\n\\n\\n\\n\\n\\n\\n\\n\\n\\n\\n\\n\\n\\n\\n\\n\\n\\n\\n\\n\\n\\n\\n\\n\\n\\n\\n\\n\\n\\n\\n\\n\\n\\n\\n\\n\\n\\n \\n\\n\\n\\nAdvancing Social Work, Public Health & Social Policy\\n\\n\\n\\n\\nMenu\\n\\n\\n\\n\\n\\n\\n\\n\\n\\n\\n\\n \\n\\n\\n\\n\\n\\n\\n\\n\\nAcademics\\n\\nMaster of Social Work\\nMaster of Public Health\\nMaster of Social Policy\\nDual Degrees\\n3-2 Programs\\nPhD in Social Work\\nPhD in Public Health Sciences\\nAIBDA Certificate\\nGlobal Opportunities\\nField Education\\n\\n\\nFaculty & Research\\n\\nFaculty\\nProfessors of Practice\\nResearch Professors\\nTeaching Professors, Senior Lecturers & Scholars\\nVisiting & Adjunct\\nEmeritus Faculty\\nResearch Centers\\nFaculty Recruitment\\n\\n\\nResources & Initiatives\\n\\nProfessional Development\\nClark-Fox Policy Institute\\nCommunity Engagement\\nField Instructor Resources\\nDriving Equity 2030\\nOpen Classroom\\nAdvanced Learning Certificate\\nGrand Challenges for Social Work\\n\\n\\nNews\\n\\nMost Recent News\\nAlumni\\nStudents\\nSocial Work\\nPracticum\\nPublic Health\\nPolicy\\nFaculty\\nResearch\\nCommunity Engagement\\nDiversity\\nGlobal\\n\\n\\nLife at Brown\\n\\nAdmitted Student Resources\\nLife at Brown School\\nOur Facilities\\nStudent Support\\nStudent Groups & Events\\nStudent Body Profile\\nEquity, Diversity and Inclusion\\nCareer Engagement\\nInternational Student Support\\nBrown School Library\\nStudent Blog\\nSt. Louis Region\\nWashington University\\n\\n\\n \\n\\n\\n\\n\\n\\nApply\\nAbout\\nDriving Equity 2030\\nEvents\\nAlumni\\nContact Us\\n \\n\\n\\n\\n\\n\\n\\n\\n\\nBrown School\\n›\\nResources & Initiatives\\n›\\nAdvanced Learning Certificate\\n›\\n\\t\\u200bArtificial Intelligence Applications for Health Data\\n\\n\\n\\nArtificial Intelligence Applications for Health DataDesigned for professionals keen to harness the power of contemporary AI technologies\\nArtificial Intelligence is fundamentally changing how the world operates. There is probably no sector or discipline, from agriculture and finance to humanities and autonomous driving, that has not used AI. Professionals with AI skills are highly sought-after; the US Bureau of Labor Statistics predicts the demand to increase by 28% or 11.5 million new jobs through 2026, outpacing all other industries. One of AI’s undisputable advantages over most other technologies is its high transferability, significantly lowering industry-specific barriers to its applications.\\nThe Advanced Learning Certificate in Artificial Intelligence Applications for Health Data is designed for professionals interested in contemporary AI technologies and seeking to build skills with AI’s applications to health or other “big data” for their work or research. This program is designed to take you from an AI novice to a confident practitioner with integrated case studies and programming demonstrations using Google Colab. It will provide hands-on, step-by-step guidance, and ample real-world practice opportunities for professionals to learn and apply AI tools and models to solve real-world health and social problems.\\nProgram details and prerequisites are listed below. Applications for this program will close on August 11, 2023,\\xa0US Central Time.\\n\\nApply Today\\n\\n\\nOnline Program. This 15-week program includes online class meetings on Thursday mornings by Zoom, 7:00 – 10:00 a.m.\\xa0(Central Time).\\nAugust 31 – December 14, 2023 (no class November 23)\\n$1995\\nContinuing Education Information:\\n\\n45 Missouri/Illinois social work CEUs\\n45 public health CPH units\\n\\nInstructor:\\nRuopeng An, PhD, MPP, FACE\\nAssociate Professor and Faculty Lead in Public Health Sciences, Brown School\\nQuestions?\\nPlease contact us at 314.935.7573 or browncertificates@wustl.edu', metadata={'source': 'https://brownschool.wustl.edu/resources-initiatives/advanced-learning-certificate/artificial-intelligence-applications-for-health-data-2/', 'title': '\\u200bArtificial Intelligence Applications for Health Data - Brown School at Washington University in St. Louis', 'description': 'Artificial Intelligence Applications for Health Data Designed for professionals keen to harness the power of contemporary AI technologies Artificial Intelligence is fundamentally changing how the world operates. There is probably no sector or discipline, from agriculture and finance to humanities and autonomous driving, that has not used AI. Professionals with AI skills are highly sought-after;', 'language': 'en-US'})], 'answer': 'The key topics covered in each of the three sections of the certificate program are as follows:\\n\\nWeeks 1-2: Overview of artificial intelligence, AI and machine learning, coding in Python, data wrangling using NumPy and Pandas, and data visualization using Matplotlib.\\n\\nWeeks 3-7: Machine learning applications, including classification and regression, model training and validation, support vector machines, decision trees, ensemble methods, dimensionality reduction, unsupervised learning, and auto ML.\\n\\nWeeks 8-15: Deep learning applications, including neural networks, computer vision, natural language processing, recommender systems, time series forecasting, and creating synthetic data for research and analysis.'}\n"
     ]
    }
   ],
   "source": [
    "# Invoke the retrieval chain\n",
    "response = retrieval_chain.invoke({\"input\": query})\n",
    "print(response)"
   ]
  },
  {
   "cell_type": "code",
   "execution_count": 21,
   "metadata": {},
   "outputs": [
    {
     "name": "stdout",
     "output_type": "stream",
     "text": [
      "The key topics covered in each of the three sections of the certificate program are as follows:\n",
      "\n",
      "Weeks 1-2: Overview of artificial intelligence, AI and machine learning, coding in Python, data wrangling using NumPy and Pandas, and data visualization using Matplotlib.\n",
      "\n",
      "Weeks 3-7: Machine learning applications, including classification and regression, model training and validation, support vector machines, decision trees, ensemble methods, dimensionality reduction, unsupervised learning, and auto ML.\n",
      "\n",
      "Weeks 8-15: Deep learning applications, including neural networks, computer vision, natural language processing, recommender systems, time series forecasting, and creating synthetic data for research and analysis.\n"
     ]
    }
   ],
   "source": [
    "# Get the answer only\n",
    "print(response['answer'])"
   ]
  },
  {
   "cell_type": "markdown",
   "metadata": {},
   "source": [
    "The chain we've created so far can only answer single questions. One of the main types of LLM applications that people are building are chat bots. So how do we turn this chain into one that can answer follow up questions?"
   ]
  },
  {
   "cell_type": "code",
   "execution_count": 22,
   "metadata": {},
   "outputs": [],
   "source": [
    "# Make a prompt that includes the chat history\n",
    "prompt = ChatPromptTemplate.from_messages([\n",
    "    MessagesPlaceholder(variable_name=\"chat_history\"),\n",
    "    (\"user\", \"{input}\"),\n",
    "    (\"user\", \"Given the above conversation, generate a search query to look up in order to get information relevant to the conversation\")\n",
    "])\n",
    "\n",
    "# Create the history aware retriever\n",
    "retriever_chain = create_history_aware_retriever(llm, retriever, prompt)"
   ]
  },
  {
   "cell_type": "code",
   "execution_count": 23,
   "metadata": {},
   "outputs": [],
   "source": [
    "# create a new chain to continue the conversation with these retrieved documents in mind\n",
    "prompt = ChatPromptTemplate.from_messages([\n",
    "    (\"system\", \"Answer the user's questions based on the below context:\\n\\n{context}\"),\n",
    "    MessagesPlaceholder(variable_name=\"chat_history\"),\n",
    "    (\"user\", \"{input}\"),\n",
    "])\n",
    "document_chain = create_stuff_documents_chain(llm, prompt)\n",
    "retrieval_chain = create_retrieval_chain(retriever_chain, document_chain)"
   ]
  },
  {
   "cell_type": "code",
   "execution_count": 24,
   "metadata": {},
   "outputs": [
    {
     "data": {
      "text/plain": [
       "{'chat_history': [HumanMessage(content='What are the key topics covered in each of the three sections of the certificate program?'),\n",
       "  AIMessage(content='The key topics covered in each of the three sections of the certificate program are as follows:\\n\\nWeeks 1-2: Overview of artificial intelligence, AI and machine learning, coding in Python, data wrangling using NumPy and Pandas, and data visualization using Matplotlib.\\n\\nWeeks 3-7: Machine learning applications, including classification and regression, model training and validation, support vector machines, decision trees, ensemble methods, dimensionality reduction, unsupervised learning, and auto ML.\\n\\nWeeks 8-15: Deep learning applications, including neural networks, computer vision, natural language processing, recommender systems, time series forecasting, and creating synthetic data for research and analysis.')],\n",
       " 'input': 'Tell me more about the topics covered in the final weeks',\n",
       " 'context': [Document(page_content='Instructor:\\nRuopeng An, PhD, MPP, FACE\\nAssociate Professor and Faculty Lead in Public Health Sciences, Brown School\\nQuestions?\\nPlease contact us at 314.935.7573 or browncertificates@wustl.edu\\n\\n\\nIs this program for me?\\nThis program is intended for individuals who have a demonstrated interest in increasing their skills in applying the power of AI techniques to health data for research or industry purposes. You do not have to be an alum of the Brown School to apply for consideration.\\nThis is an online program, with scheduled class meetings on Thursday mornings conducted by Zoom and self-paced content, such as readings and assignments.\\xa0 Applicants should be prepared to commit 5 hours of total effort per week. Reading assignments come from provided texts, which are included in the program fee.\\nThe program presupposes a basic knowledge of statistics and previous experience working with a statistical software package. Students should have passed an introductory statistics class and have experience with R, SAS, SPSS, or Stata, or otherwise using basic quantitative skills within the last five years. Experience with Python is helpful but not required.\\nThe certificate program is divided into three parts, building from basic tools to more advanced applications:\\n\\nWeeks 1-2 – Participants will receive an overview of artificial intelligence, unveil the mystery of AI and machine learning, learn to code in Python, use NumPy and Pandas to master data wrangling, and use Matplotlib for data visualization.\\nWeeks 3-7 – Class content will focus on machine learning applications. We will learn topics including classification and regression, model training and validation, support vector machines, decision trees, ensemble methods like Random Forest and XGBoost, dimensionality reduction, unsupervised learning, and auto ML.\\nWeeks 8-15 – The final portion of the program considers deep learning applications (i.e., neural networks). Topics covered include a foundation with neural networks; computer vision for image classification, object detection, image segmentation, and image generation; natural language processing for text classification (sentiment analysis), language generation, text translation, chatbot, and prompt engineering; introduction to recommender systems; introduction to time series forecasting; and creating synthetic data for research and analysis.\\n\\nWeekly assignments will help participants master the topics covered in the lectures/labs using real-world datasets related to health and beyond.\\nBy the end of the program, participants will:\\n\\nGain a deep understanding of the key concepts and elements of AI, machine learning, and deep learning (neural networks)\\nBe familiar with a comprehensive pool of popular, state-of-the-art AI models and their applications in public health and beyond\\nUnderstand the strengths, limitations, and tradeoffs of different AI models and best practices in implementing them\\nUnderstand sources of data biases, principles of data ethics, and how to avoid or reduce biases to build ethical, responsible AI models\\nBe proficient using Python in conjunction with popular APIs and cloud platforms to implement state-of-the-art AI models on various data types\\nBe able to apply AI models to better understand and address health data-related concerns or other social problems\\n\\nSuccessful completion of the certificate program includes attendance and participation in weekly class meetings, as well as completion of weekly-oriented application assignments.\\n\\u200bHow to Apply\\nComplete program applications include:\\n\\nOnline application form\\nSubmission of your current resume\\n\\nAdmissions decisions will be made on a rolling basis. Generally it is possible to provide an admissions decision within two weeks of receipt of a completed application. Applications must be received by August 11, 2023, US Central Time.\\nAdmission prerequisites:', metadata={'source': 'https://brownschool.wustl.edu/resources-initiatives/advanced-learning-certificate/artificial-intelligence-applications-for-health-data-2/', 'title': '\\u200bArtificial Intelligence Applications for Health Data - Brown School at Washington University in St. Louis', 'description': 'Artificial Intelligence Applications for Health Data Designed for professionals keen to harness the power of contemporary AI technologies Artificial Intelligence is fundamentally changing how the world operates. There is probably no sector or discipline, from agriculture and finance to humanities and autonomous driving, that has not used AI. Professionals with AI skills are highly sought-after;', 'language': 'en-US'}),\n",
       "  Document(page_content='\\u200bArtificial Intelligence Applications for Health Data - Brown School at Washington University in St. Louis\\n\\n\\n\\n\\n\\n\\n\\n\\n\\n\\n\\n\\n\\n\\n\\n\\n\\n\\n\\n\\n\\n\\n\\n\\n\\n\\n\\n\\n\\n\\n\\n\\n\\n\\n\\n\\n\\n\\n\\n\\n\\n\\n\\n\\n\\n\\n\\n\\n\\n\\n\\n\\n\\n\\n\\n\\n\\n\\n\\n \\n\\n\\n\\n\\n\\n\\n\\n\\n\\n\\n\\n\\n\\n\\n\\n\\n\\n\\n\\n\\n\\n\\n\\n\\n\\n\\n\\n\\n\\n\\n\\n\\n\\n\\n\\n\\n\\n\\n\\n\\n\\n\\n\\n\\n\\n\\n\\n\\n\\n\\n\\n\\n\\n\\n\\n\\n\\n\\n\\n\\n\\n\\n\\n\\n\\n\\n\\n\\n\\n\\n\\n\\n\\n\\n\\n\\n\\n\\n\\n\\n\\n\\n\\n\\n\\n\\n\\n\\n\\n\\n\\n\\n\\n\\n\\n\\n\\n\\n\\n\\n\\n\\n\\n\\n\\n\\n\\n\\n\\n\\n\\n\\n\\n\\n\\n\\n\\n\\n\\n\\n\\n\\n\\n\\n\\n\\n\\n\\n\\n\\n\\n\\n\\n\\n\\n\\n\\n\\n\\n\\n\\n\\n\\n\\n\\n\\n\\n\\n\\n\\n\\n\\n\\n\\n\\n\\n\\n\\n\\n\\n\\n\\n\\n\\n\\n\\n\\n\\n\\n\\n\\n\\n\\n\\n\\n\\n\\n\\n\\n\\n\\n\\n\\n\\n\\n\\n \\n\\n\\n\\nAdvancing Social Work, Public Health & Social Policy\\n\\n\\n\\n\\nMenu\\n\\n\\n\\n\\n\\n\\n\\n\\n\\n\\n\\n \\n\\n\\n\\n\\n\\n\\n\\n\\nAcademics\\n\\nMaster of Social Work\\nMaster of Public Health\\nMaster of Social Policy\\nDual Degrees\\n3-2 Programs\\nPhD in Social Work\\nPhD in Public Health Sciences\\nAIBDA Certificate\\nGlobal Opportunities\\nField Education\\n\\n\\nFaculty & Research\\n\\nFaculty\\nProfessors of Practice\\nResearch Professors\\nTeaching Professors, Senior Lecturers & Scholars\\nVisiting & Adjunct\\nEmeritus Faculty\\nResearch Centers\\nFaculty Recruitment\\n\\n\\nResources & Initiatives\\n\\nProfessional Development\\nClark-Fox Policy Institute\\nCommunity Engagement\\nField Instructor Resources\\nDriving Equity 2030\\nOpen Classroom\\nAdvanced Learning Certificate\\nGrand Challenges for Social Work\\n\\n\\nNews\\n\\nMost Recent News\\nAlumni\\nStudents\\nSocial Work\\nPracticum\\nPublic Health\\nPolicy\\nFaculty\\nResearch\\nCommunity Engagement\\nDiversity\\nGlobal\\n\\n\\nLife at Brown\\n\\nAdmitted Student Resources\\nLife at Brown School\\nOur Facilities\\nStudent Support\\nStudent Groups & Events\\nStudent Body Profile\\nEquity, Diversity and Inclusion\\nCareer Engagement\\nInternational Student Support\\nBrown School Library\\nStudent Blog\\nSt. Louis Region\\nWashington University\\n\\n\\n \\n\\n\\n\\n\\n\\nApply\\nAbout\\nDriving Equity 2030\\nEvents\\nAlumni\\nContact Us\\n \\n\\n\\n\\n\\n\\n\\n\\n\\nBrown School\\n›\\nResources & Initiatives\\n›\\nAdvanced Learning Certificate\\n›\\n\\t\\u200bArtificial Intelligence Applications for Health Data\\n\\n\\n\\nArtificial Intelligence Applications for Health DataDesigned for professionals keen to harness the power of contemporary AI technologies\\nArtificial Intelligence is fundamentally changing how the world operates. There is probably no sector or discipline, from agriculture and finance to humanities and autonomous driving, that has not used AI. Professionals with AI skills are highly sought-after; the US Bureau of Labor Statistics predicts the demand to increase by 28% or 11.5 million new jobs through 2026, outpacing all other industries. One of AI’s undisputable advantages over most other technologies is its high transferability, significantly lowering industry-specific barriers to its applications.\\nThe Advanced Learning Certificate in Artificial Intelligence Applications for Health Data is designed for professionals interested in contemporary AI technologies and seeking to build skills with AI’s applications to health or other “big data” for their work or research. This program is designed to take you from an AI novice to a confident practitioner with integrated case studies and programming demonstrations using Google Colab. It will provide hands-on, step-by-step guidance, and ample real-world practice opportunities for professionals to learn and apply AI tools and models to solve real-world health and social problems.\\nProgram details and prerequisites are listed below. Applications for this program will close on August 11, 2023,\\xa0US Central Time.\\n\\nApply Today\\n\\n\\nOnline Program. This 15-week program includes online class meetings on Thursday mornings by Zoom, 7:00 – 10:00 a.m.\\xa0(Central Time).\\nAugust 31 – December 14, 2023 (no class November 23)\\n$1995\\nContinuing Education Information:\\n\\n45 Missouri/Illinois social work CEUs\\n45 public health CPH units\\n\\nInstructor:\\nRuopeng An, PhD, MPP, FACE\\nAssociate Professor and Faculty Lead in Public Health Sciences, Brown School\\nQuestions?\\nPlease contact us at 314.935.7573 or browncertificates@wustl.edu', metadata={'source': 'https://brownschool.wustl.edu/resources-initiatives/advanced-learning-certificate/artificial-intelligence-applications-for-health-data-2/', 'title': '\\u200bArtificial Intelligence Applications for Health Data - Brown School at Washington University in St. Louis', 'description': 'Artificial Intelligence Applications for Health Data Designed for professionals keen to harness the power of contemporary AI technologies Artificial Intelligence is fundamentally changing how the world operates. There is probably no sector or discipline, from agriculture and finance to humanities and autonomous driving, that has not used AI. Professionals with AI skills are highly sought-after;', 'language': 'en-US'}),\n",
       "  Document(page_content='Applicants should have (or be able to obtain) access to a computer, along with a webcam and reliable internet service.\\nIntroductory knowledge of statistics, including working with a statistical software package such as R, SAS, SPSS, Stata, or equivalent.\\u200b\\u200b\\nAll students must be willing to comply with Washington University policies.\\nPlease note that pursuing the AI Certificate course while on OPT (Optional Practical Training) is not permitted. For questions, email us at browncertificates@wustl.edu\\xa0or through WeChat (ID: WUSTLBrownSchool).\\n\\nMore Info\\n\\u200b\\n\\n\\nJoin Professor Ruopeng An for an introductory glimpse into the Artificial Intelligence Applications for Health Data Certificate program.\\n“”I am excited to have a new toolbox with AI to think about my patients and their care. Thank you for this training and guidance.””–David Molter, MD\\u200b Professor of Pediatric Otolaryngology AI Certificate Alum 22′\\n\\nMeet Your Instructor\\n\\n\\n\\n\\n\\nRuopeng An, PhD, MPP, FACEAssociate Professor, Brown School\\nProfessor Ruopeng An is the Faculty Lead of Brown School’s PhD Program in Public Health Sciences. He hosts the “Artificial Intelligence in the Social Sciences” Open Classroom series, teaches Applied Machine Learning Using Python and Applied Deep Learning Using Python courses, and founded the Artificial Intelligence and Big Data Analytics for Public Health (AIBDA) Certificate program. With over 200 peer-reviewed journal publications, Dr. An is recognized as one of Elsevier’s top 2% most cited scientists. His work has been highlighted by various media outlets, including TIME, New York Times, Los Angeles Times, Washington Post, Reuters, USA Today, Bloomberg, Forbes, Atlantic, Guardian, FOX, NPR, and CNN. He serves on various research grants and expert panels for NIH, CDC, NSF, HHS, and the French National Research Agency. He was elected as a Fellow of the American College of Epidemiology in 2018. Professor An has repeatedly been recognized for teaching excellence, receiving student evaluations in the top 10% of University faculty.\\n\\n\\n\\nStrengthen your degree and power your career.Apply Today\\n\\n\\n\\n\\n\\n\\n\\n\\n\\n\\nQuick Links:\\nApply\\nAbout Brown School\\nContact Us\\nDirections\\nAcademic Professional Integrity Policy\\nNative Land Acknowledgement\\n \\n\\n\\n\\n\\nwustl.edu \\n\\n\\nKeep Up with Our Latest \\r\\nNews, Research and Insights:\\n \\n\\n\\n\\n\\n\\nFounded in 1925, the George Warren Brown School was named with a generous gift from Betty Bofinger Brown in memory of her late husband.\\n\\nCopyright 2024 by Brown School \\r\\nat Washington University in St. Louis\\nWashington University\\xa0\\xa0•\\xa0\\xa0One Brookings Drive\\xa0\\xa0\\r\\n•\\xa0\\xa0St. Louis, MO 63130', metadata={'source': 'https://brownschool.wustl.edu/resources-initiatives/advanced-learning-certificate/artificial-intelligence-applications-for-health-data-2/', 'title': '\\u200bArtificial Intelligence Applications for Health Data - Brown School at Washington University in St. Louis', 'description': 'Artificial Intelligence Applications for Health Data Designed for professionals keen to harness the power of contemporary AI technologies Artificial Intelligence is fundamentally changing how the world operates. There is probably no sector or discipline, from agriculture and finance to humanities and autonomous driving, that has not used AI. Professionals with AI skills are highly sought-after;', 'language': 'en-US'})],\n",
       " 'answer': 'In the final weeks of the certificate program, the focus is on deep learning applications, specifically neural networks. Here are the topics covered in more detail:\\n\\n1. Foundation with Neural Networks: Participants will gain an understanding of the fundamentals of neural networks, including the structure and functioning of artificial neural networks, activation functions, backpropagation, optimization algorithms, and regularization techniques.\\n\\n2. Computer Vision: This topic explores using neural networks for image classification, object detection, image segmentation, and image generation. Participants will learn how to apply deep learning techniques to analyze and understand visual data.\\n\\n3. Natural Language Processing: Participants will learn how to use neural networks for text classification, such as sentiment analysis, as well as language generation, text translation, chatbot development, and prompt engineering. This topic focuses on using deep learning models to process and understand human language.\\n\\n4. Introduction to Recommender Systems: This section introduces participants to recommender systems, which are widely used in e-commerce and personalized recommendations. Participants will learn how to build and implement recommendation algorithms using neural networks.\\n\\n5. Introduction to Time Series Forecasting: Time series forecasting is essential for predicting future trends based on historical data. In this topic, participants will learn how to apply neural networks to analyze and forecast time series data.\\n\\n6. Creating Synthetic Data for Research and Analysis: Synthetic data generation involves creating artificial datasets that mimic real-world data. Participants will learn techniques for generating synthetic data using neural networks, which can be useful for research and analysis purposes.\\n\\nOverall, these topics provide participants with a comprehensive understanding of deep learning techniques and their applications in various domains, including computer vision, natural language processing, recommendation systems, time series forecasting, and data generation.'}"
      ]
     },
     "execution_count": 24,
     "metadata": {},
     "output_type": "execute_result"
    }
   ],
   "source": [
    "chat_history = [HumanMessage(content=query), AIMessage(content=response['answer'])]\n",
    "retrieval_chain.invoke({\n",
    "    \"chat_history\": chat_history,\n",
    "    \"input\": \"Tell me more about the topics covered in the final weeks\"\n",
    "})"
   ]
  },
  {
   "cell_type": "code",
   "execution_count": 26,
   "metadata": {},
   "outputs": [
    {
     "data": {
      "text/plain": [
       "[Document(page_content=\"Weather in St. Louis is {'location': {'name': 'St-Louis', 'region': 'Saint-Louis', 'country': 'Senegal', 'lat': 16.02, 'lon': -16.5, 'tz_id': 'Africa/Dakar', 'localtime_epoch': 1706666105, 'localtime': '2024-01-31 1:55'}, 'current': {'last_updated_epoch': 1706665500, 'last_updated': '2024-01-31 01:45', 'temp_c': 22.0, 'temp_f': 71.6, 'is_day': 0, 'condition': {'text': 'Clear ', 'icon': '//cdn.weatherapi.com/weather/64x64/night/113.png', 'code': 1000}, 'wind_mph': 12.1, 'wind_kph': 19.4, 'wind_degree': 40, 'wind_dir': 'NE', 'pressure_mb': 1015.0, 'pressure_in': 29.96, 'precip_mm': 0.0, 'precip_in': 0.0, 'humidity': 30, 'cloud': 0, 'feelslike_c': 23.3, 'feelslike_f': 73.9, 'vis_km': 10.0, 'vis_miles': 6.0, 'uv': 1.0, 'gust_mph': 25.4, 'gust_kph': 40.8}}\", metadata={'title': 'Weather in St. Louis', 'source': 'https://www.weatherapi.com/', 'score': 0.98191, 'images': None}),\n",
       " Document(page_content='Currently: 39 °F. Fog. (Weather station: Lambert-St. Louis International Airport, USA). See more current weather Select month: January 2024 Weather in St. Louis — Graph °F Sun, Jan 21 Lo:28 6 pm Hi:30 13 Mon, Jan 22 Lo:30 12 am Hi:30 9 Lo:30 6 am Hi:34 9 Lo:36 12 pm Hi:36 7 Lo:36 6 pm Hi:37 10 Tue, Jan 23 Lo:37', metadata={'title': 'Weather in January 2024 in St. Louis, Missouri, USA - timeanddate.com', 'source': 'https://www.timeanddate.com/weather/usa/st-louis/historic?month=1&year=2024', 'score': 0.97624, 'images': None}),\n",
       " Document(page_content=\"Missouri 60-Day Extended Weather Forecast for Saint Louis, MO Enter Your Location Free 2-Month Weather Forecast The 12-Month Long-Range Weather Report From The 2024 Old Farmer's Almanac November 2023 to October 2024 Winter will be colder than normal, with the coldest periods in early and late December, early and late January, and early February.\", metadata={'title': '60-Day Extended Weather Forecast for Saint Louis, MO', 'source': 'https://www.almanac.com/weather/longrange/MO/Saint Louis', 'score': 0.95412, 'images': None})]"
      ]
     },
     "execution_count": 26,
     "metadata": {},
     "output_type": "execute_result"
    }
   ],
   "source": [
    "retriever = TavilySearchAPIRetriever(k=3)\n",
    "retriever.invoke(\"how is the weather today in St. Louis?\")"
   ]
  },
  {
   "cell_type": "code",
   "execution_count": null,
   "metadata": {},
   "outputs": [],
   "source": []
  }
 ],
 "metadata": {
  "kernelspec": {
   "display_name": ".venv",
   "language": "python",
   "name": "python3"
  },
  "language_info": {
   "codemirror_mode": {
    "name": "ipython",
    "version": 3
   },
   "file_extension": ".py",
   "mimetype": "text/x-python",
   "name": "python",
   "nbconvert_exporter": "python",
   "pygments_lexer": "ipython3",
   "version": "3.11.5"
  }
 },
 "nbformat": 4,
 "nbformat_minor": 2
}
