{
 "cells": [
  {
   "cell_type": "markdown",
   "metadata": {},
   "source": [
    "Pinecone Quick Start Guide\n",
    "https://docs.pinecone.io/docs/quickstart"
   ]
  },
  {
   "cell_type": "code",
   "execution_count": 1,
   "metadata": {},
   "outputs": [
    {
     "name": "stderr",
     "output_type": "stream",
     "text": [
      "/Users/ruopeng/Desktop/Build Applications with Generative AI/Pinecone/.venv/lib/python3.11/site-packages/pinecone/data/index.py:1: TqdmWarning: IProgress not found. Please update jupyter and ipywidgets. See https://ipywidgets.readthedocs.io/en/stable/user_install.html\n",
      "  from tqdm.autonotebook import tqdm\n"
     ]
    }
   ],
   "source": [
    "from pinecone import Pinecone, ServerlessSpec\n",
    "import os\n",
    "import random\n",
    "import itertools"
   ]
  },
  {
   "cell_type": "code",
   "execution_count": 2,
   "metadata": {},
   "outputs": [],
   "source": [
    "# Load the Pinecone API key from the .env file\n",
    "pinecone_api_key = os.environ.get('PINECONE_API_KEY')"
   ]
  },
  {
   "cell_type": "code",
   "execution_count": 3,
   "metadata": {},
   "outputs": [],
   "source": [
    "# Initialize the Pinecone client\n",
    "pc = Pinecone(api_key=pinecone_api_key)"
   ]
  },
  {
   "cell_type": "code",
   "execution_count": 4,
   "metadata": {},
   "outputs": [],
   "source": [
    "# Create a serverless index\n",
    "pc.create_index(\n",
    "    name=\"quickstart\",\n",
    "    dimension=8,\n",
    "    metric=\"dotproduct\",\n",
    "    spec=ServerlessSpec(\n",
    "        cloud='aws', \n",
    "        region='us-west-2'\n",
    "    ) \n",
    ")"
   ]
  },
  {
   "cell_type": "code",
   "execution_count": 5,
   "metadata": {},
   "outputs": [],
   "source": [
    "# Initialize the index\n",
    "index = pc.Index('quickstart')"
   ]
  },
  {
   "cell_type": "code",
   "execution_count": 6,
   "metadata": {},
   "outputs": [
    {
     "data": {
      "text/plain": [
       "{'upserted_count': 4}"
      ]
     },
     "execution_count": 6,
     "metadata": {},
     "output_type": "execute_result"
    }
   ],
   "source": [
    "# Upsert vectors\n",
    "index.upsert(\n",
    "  vectors=[\n",
    "    {\"id\": \"vec1\", \"values\": [0.1, 0.1, 0.1, 0.1, 0.1, 0.1, 0.1, 0.1]},\n",
    "    {\"id\": \"vec2\", \"values\": [0.2, 0.2, 0.2, 0.2, 0.2, 0.2, 0.2, 0.2]},\n",
    "    {\"id\": \"vec3\", \"values\": [0.3, 0.3, 0.3, 0.3, 0.3, 0.3, 0.3, 0.3]},\n",
    "    {\"id\": \"vec4\", \"values\": [0.4, 0.4, 0.4, 0.4, 0.4, 0.4, 0.4, 0.4]}\n",
    "  ],\n",
    "  namespace=\"ns1\"\n",
    ")\n",
    "\n",
    "index.upsert(\n",
    "  vectors=[\n",
    "    {\"id\": \"vec5\", \"values\": [0.5, 0.5, 0.5, 0.5, 0.5, 0.5, 0.5, 0.5]},\n",
    "    {\"id\": \"vec6\", \"values\": [0.6, 0.6, 0.6, 0.6, 0.6, 0.6, 0.6, 0.6]},\n",
    "    {\"id\": \"vec7\", \"values\": [0.7, 0.7, 0.7, 0.7, 0.7, 0.7, 0.7, 0.7]},\n",
    "    {\"id\": \"vec8\", \"values\": [0.8, 0.8, 0.8, 0.8, 0.8, 0.8, 0.8, 0.8]}\n",
    "  ],\n",
    "  namespace=\"ns2\"\n",
    ")"
   ]
  },
  {
   "cell_type": "code",
   "execution_count": 7,
   "metadata": {},
   "outputs": [
    {
     "data": {
      "text/plain": [
       "{'dimension': 8,\n",
       " 'index_fullness': 0.0,\n",
       " 'namespaces': {'ns1': {'vector_count': 4}, 'ns2': {'vector_count': 4}},\n",
       " 'total_vector_count': 8}"
      ]
     },
     "execution_count": 7,
     "metadata": {},
     "output_type": "execute_result"
    }
   ],
   "source": [
    "# Check the index\n",
    "index.describe_index_stats()"
   ]
  },
  {
   "cell_type": "code",
   "execution_count": 9,
   "metadata": {},
   "outputs": [
    {
     "data": {
      "text/plain": [
       "{'matches': [{'id': 'vec4',\n",
       "              'score': 0.960000038,\n",
       "              'values': [0.4, 0.4, 0.4, 0.4, 0.4, 0.4, 0.4, 0.4]},\n",
       "             {'id': 'vec3',\n",
       "              'score': 0.72,\n",
       "              'values': [0.3, 0.3, 0.3, 0.3, 0.3, 0.3, 0.3, 0.3]},\n",
       "             {'id': 'vec2',\n",
       "              'score': 0.480000019,\n",
       "              'values': [0.2, 0.2, 0.2, 0.2, 0.2, 0.2, 0.2, 0.2]}],\n",
       " 'namespace': 'ns1',\n",
       " 'usage': {'read_units': 6}}"
      ]
     },
     "execution_count": 9,
     "metadata": {},
     "output_type": "execute_result"
    }
   ],
   "source": [
    "# Run a similarity search\n",
    "index.query(\n",
    "  namespace=\"ns1\",\n",
    "  vector=[0.3, 0.3, 0.3, 0.3, 0.3, 0.3, 0.3, 0.3],\n",
    "  top_k=3,\n",
    "  include_values=True\n",
    ")"
   ]
  },
  {
   "cell_type": "code",
   "execution_count": 10,
   "metadata": {},
   "outputs": [],
   "source": [
    "# Delete the index\n",
    "#pc.delete_index(\"quickstart\")"
   ]
  },
  {
   "cell_type": "code",
   "execution_count": 10,
   "metadata": {},
   "outputs": [
    {
     "data": {
      "text/plain": [
       "{'upserted_count': 4}"
      ]
     },
     "execution_count": 10,
     "metadata": {},
     "output_type": "execute_result"
    }
   ],
   "source": [
    "# Upsert vectors with meta-data\n",
    "# If you don't specify namespace, it will default to empty ''\n",
    "index.upsert(\n",
    "  vectors=[\n",
    "    {\n",
    "      \"id\": \"A\", \n",
    "      \"values\": [0.1, 0.1, 0.1, 0.1, 0.1, 0.1, 0.1, 0.1], \n",
    "      \"metadata\": {\"genre\": \"comedy\", \"year\": 2020}\n",
    "    },\n",
    "    {\n",
    "      \"id\": \"B\", \n",
    "      \"values\": [0.2, 0.2, 0.2, 0.2, 0.2, 0.2, 0.2, 0.2],\n",
    "      \"metadata\": {\"genre\": \"documentary\", \"year\": 2019}\n",
    "    },\n",
    "    {\n",
    "      \"id\": \"C\", \n",
    "      \"values\": [0.3, 0.3, 0.3, 0.3, 0.3, 0.3, 0.3, 0.3],\n",
    "      \"metadata\": {\"genre\": \"comedy\", \"year\": 2019}\n",
    "    },\n",
    "    {\n",
    "      \"id\": \"D\", \n",
    "      \"values\": [0.4, 0.4, 0.4, 0.4, 0.4, 0.4, 0.4, 0.4],\n",
    "      \"metadata\": {\"genre\": \"drama\"}\n",
    "    }\n",
    "  ]\n",
    ")"
   ]
  },
  {
   "cell_type": "code",
   "execution_count": 11,
   "metadata": {},
   "outputs": [
    {
     "data": {
      "text/plain": [
       "{'dimension': 8,\n",
       " 'index_fullness': 0.0,\n",
       " 'namespaces': {'': {'vector_count': 4},\n",
       "                'ns1': {'vector_count': 4},\n",
       "                'ns2': {'vector_count': 4}},\n",
       " 'total_vector_count': 12}"
      ]
     },
     "execution_count": 11,
     "metadata": {},
     "output_type": "execute_result"
    }
   ],
   "source": [
    "# Check the index\n",
    "index.describe_index_stats()"
   ]
  },
  {
   "cell_type": "code",
   "execution_count": 12,
   "metadata": {},
   "outputs": [
    {
     "data": {
      "text/plain": [
       "{'matches': [{'id': 'B',\n",
       "              'metadata': {'genre': 'documentary', 'year': 2019.0},\n",
       "              'score': 0.160000011,\n",
       "              'values': []}],\n",
       " 'namespace': '',\n",
       " 'usage': {'read_units': 6}}"
      ]
     },
     "execution_count": 12,
     "metadata": {},
     "output_type": "execute_result"
    }
   ],
   "source": [
    "# Run a similarity search by metadata\n",
    "# See more filter types at: https://docs.pinecone.io/docs/metadata-filtering\n",
    "index.query(\n",
    "    vector=[0.1, 0.1, 0.1, 0.1, 0.1, 0.1, 0.1, 0.1],\n",
    "    filter={\n",
    "        \"genre\": {\"$eq\": \"documentary\"}, # \"$eq\" is a filter type\n",
    "        \"year\": 2019\n",
    "    },\n",
    "    top_k=1,\n",
    "    include_metadata=True\n",
    ")"
   ]
  },
  {
   "cell_type": "code",
   "execution_count": 13,
   "metadata": {},
   "outputs": [],
   "source": [
    "# Upsert vecters in batches\n",
    "\n",
    "# Define a helper function to break an iterable into chunks of size batch_size\n",
    "def chunks(iterable, batch_size=100):\n",
    "    # Converts the iterable into an iterator using the iter() function\n",
    "    it = iter(iterable)\n",
    "    # Creates the first chunk. It does this by taking a slice of the iterator it from its current position up to batch_size elements.\n",
    "    # The islice() function returns an iterator, which is then converted to a tuple. \n",
    "    chunk = tuple(itertools.islice(it, batch_size))\n",
    "    while chunk:\n",
    "        # Yields the current chunk to the caller. This makes chunks a generator function, \n",
    "        # allowing it to return a sequence of values over time rather than computing them all at once and returning them in a list.\n",
    "        yield chunk\n",
    "        # Prepares the next chunk by taking the next batch_size elements from it. \n",
    "        # If fewer than batch_size elements are left, it takes all remaining elements. \n",
    "        # If there are no elements left, islice() returns an empty iterator, which converts to an empty tuple, causing the loop to exit.\n",
    "        chunk = tuple(itertools.islice(it, batch_size))\n",
    "\n",
    "\n",
    "# Set vector dimensions and number of vectors\n",
    "vector_dim = 8\n",
    "vector_count = 1000\n",
    "\n",
    "# Example generator that generates many (id, vector) pairs.\n",
    "#  The map function applies a lambda function to each item in range(vector_count). \n",
    "# The lambda function generates a tuple for each item i in the range, where the first element is a string id-{i}, \n",
    "# and the second element is a list of random numbers. The length of this list is determined by vector_dim, \n",
    "# and each number in the list is generated by random.random(), which produces a float between 0 and 1.\n",
    "example_data_generator = map(lambda i: (f'id-{i}', [random.random() for _ in range(vector_dim)]), range(vector_count))\n",
    "\n",
    "# Upsert data with 100 vectors per upsert request\n",
    "for ids_vectors_chunk in chunks(example_data_generator, batch_size=100):\n",
    "    index.upsert(vectors=ids_vectors_chunk) "
   ]
  },
  {
   "cell_type": "code",
   "execution_count": 14,
   "metadata": {},
   "outputs": [
    {
     "data": {
      "text/plain": [
       "{'dimension': 8,\n",
       " 'index_fullness': 0.0,\n",
       " 'namespaces': {'': {'vector_count': 1004},\n",
       "                'ns1': {'vector_count': 4},\n",
       "                'ns2': {'vector_count': 4}},\n",
       " 'total_vector_count': 1012}"
      ]
     },
     "execution_count": 14,
     "metadata": {},
     "output_type": "execute_result"
    }
   ],
   "source": [
    "# Check the index\n",
    "index.describe_index_stats()"
   ]
  },
  {
   "cell_type": "code",
   "execution_count": 15,
   "metadata": {},
   "outputs": [],
   "source": [
    "# Upsert vectors with sparse values\n",
    "upsert_response = index.upsert(\n",
    "    vectors=[\n",
    "        {'id': 'vec1',\n",
    "         'values': [0.1, 0.2, 0.3, 0.4, 0.5, 0.6, 0.7, 0.8],\n",
    "         'metadata': {'genre': 'drama'},\n",
    "         'sparse_values': {\n",
    "             'indices': [10, 45, 16],\n",
    "             'values': [0.5, 0.5, 0.2]\n",
    "         }},\n",
    "        {'id': 'vec2',\n",
    "         'values': [-0.1, -0.2, -0.3, -0.4, -0.5, -0.6, -0.7, -0.8],\n",
    "         'metadata': {'genre': 'action'},\n",
    "         'sparse_values': {\n",
    "             'indices': [15, 40, 11],\n",
    "             'values': [0.4, 0.5, 0.2]\n",
    "         }}\n",
    "    ],\n",
    "    namespace='sparse-example'\n",
    ")"
   ]
  },
  {
   "cell_type": "code",
   "execution_count": 16,
   "metadata": {},
   "outputs": [
    {
     "data": {
      "text/plain": [
       "{'matches': [{'id': 'vec1', 'score': 2.54, 'values': []}],\n",
       " 'namespace': 'sparse-example',\n",
       " 'usage': {'read_units': 5}}"
      ]
     },
     "execution_count": 16,
     "metadata": {},
     "output_type": "execute_result"
    }
   ],
   "source": [
    "# Query sparse vectors\n",
    "index.query(\n",
    "    namespace=\"sparse-example\",\n",
    "    top_k=1,\n",
    "    vector=[0.1, 0.2, 0.3, 0.4, 0.5, 0.6, 0.7, 0.8],\n",
    "    sparse_vector={\n",
    "        'indices': [10, 45, 12],\n",
    "        'values':  [0.5, 0.5, 0.2]\n",
    "    }\n",
    ")"
   ]
  }
 ],
 "metadata": {
  "kernelspec": {
   "display_name": ".venv",
   "language": "python",
   "name": "python3"
  },
  "language_info": {
   "codemirror_mode": {
    "name": "ipython",
    "version": 3
   },
   "file_extension": ".py",
   "mimetype": "text/x-python",
   "name": "python",
   "nbconvert_exporter": "python",
   "pygments_lexer": "ipython3",
   "version": "3.11.5"
  }
 },
 "nbformat": 4,
 "nbformat_minor": 2
}
